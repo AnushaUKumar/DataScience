{
 "cells": [
  {
   "cell_type": "markdown",
   "id": "78c4195b",
   "metadata": {},
   "source": [
    "# Tuple is similar to list but is immutable\n",
    "\n",
    "charcters:\n",
    "    \n",
    "    ordered\n",
    "    unchangeable\n",
    "    allows duplicates"
   ]
  },
  {
   "cell_type": "code",
   "execution_count": 1,
   "id": "3624f5d0",
   "metadata": {},
   "outputs": [
    {
     "name": "stdout",
     "output_type": "stream",
     "text": [
      "()\n"
     ]
    }
   ],
   "source": [
    "#Creating tuples\n",
    "\n",
    "t1 = ()\n",
    "print(t1)"
   ]
  },
  {
   "cell_type": "code",
   "execution_count": 4,
   "id": "8e1d5ccc",
   "metadata": {},
   "outputs": [
    {
     "name": "stdout",
     "output_type": "stream",
     "text": [
      "2\n",
      "(2,)\n"
     ]
    }
   ],
   "source": [
    "#create tuple with a single item\n",
    "t2 = (2)\n",
    "\n",
    "print(t2)\n",
    "\n",
    "#this crreates a int and not a tuple while adding a single item tuple always add a commaa after the value instered\n",
    "\n",
    "t3=(2,)\n",
    "print(t3)"
   ]
  },
  {
   "cell_type": "code",
   "execution_count": 8,
   "id": "1e89c2e0",
   "metadata": {},
   "outputs": [
    {
     "name": "stdout",
     "output_type": "stream",
     "text": [
      "(1, 2, 3, 5)\n",
      "('1', '4', '5', '6')\n"
     ]
    }
   ],
   "source": [
    "t4 = (1,2,3,5)\n",
    "print(t4)\n",
    "\n",
    "t6 = tuple('1456')\n",
    "print(t6)"
   ]
  },
  {
   "cell_type": "code",
   "execution_count": 12,
   "id": "3c8372b2",
   "metadata": {},
   "outputs": [
    {
     "name": "stdout",
     "output_type": "stream",
     "text": [
      "(1, 2, 3, 5)\n"
     ]
    }
   ],
   "source": [
    "#Accessing items\n",
    "\n",
    "#indexing \n",
    "#slicing\n",
    "\n",
    "print(t4)"
   ]
  },
  {
   "cell_type": "code",
   "execution_count": 14,
   "id": "685176ef",
   "metadata": {},
   "outputs": [
    {
     "name": "stdout",
     "output_type": "stream",
     "text": [
      "1\n"
     ]
    }
   ],
   "source": [
    "print(t4[0])"
   ]
  },
  {
   "cell_type": "code",
   "execution_count": 15,
   "id": "f6317224",
   "metadata": {},
   "outputs": [
    {
     "name": "stdout",
     "output_type": "stream",
     "text": [
      "(1, 2)\n"
     ]
    }
   ],
   "source": [
    "#slicing\n",
    "\n",
    "print(t4[0:2])"
   ]
  },
  {
   "cell_type": "code",
   "execution_count": 16,
   "id": "31775afd",
   "metadata": {},
   "outputs": [],
   "source": [
    "#edit items"
   ]
  },
  {
   "cell_type": "code",
   "execution_count": 17,
   "id": "466ae691",
   "metadata": {},
   "outputs": [
    {
     "name": "stdout",
     "output_type": "stream",
     "text": [
      "(1, 2, 3, 5)\n"
     ]
    }
   ],
   "source": [
    "print(t4)"
   ]
  },
  {
   "cell_type": "code",
   "execution_count": 18,
   "id": "6c111f3a",
   "metadata": {},
   "outputs": [
    {
     "ename": "TypeError",
     "evalue": "'tuple' object does not support item assignment",
     "output_type": "error",
     "traceback": [
      "\u001b[1;31m---------------------------------------------------------------------------\u001b[0m",
      "\u001b[1;31mTypeError\u001b[0m                                 Traceback (most recent call last)",
      "Cell \u001b[1;32mIn[18], line 1\u001b[0m\n\u001b[1;32m----> 1\u001b[0m t3[\u001b[38;5;241m0\u001b[39m] \u001b[38;5;241m=\u001b[39m \u001b[38;5;241m1000\u001b[39m\n",
      "\u001b[1;31mTypeError\u001b[0m: 'tuple' object does not support item assignment"
     ]
    }
   ],
   "source": [
    "t3[0] = 1000\n",
    "#error because tuples are immutable just like strings \n"
   ]
  },
  {
   "cell_type": "code",
   "execution_count": 20,
   "id": "a407940d",
   "metadata": {},
   "outputs": [],
   "source": [
    "#adding items\n",
    "\n",
    "#cannot add items to tuple"
   ]
  },
  {
   "cell_type": "code",
   "execution_count": 21,
   "id": "cef99ce1",
   "metadata": {},
   "outputs": [],
   "source": [
    "#deleting tuple\n",
    "#can delete the entire tuple but cannot del one single item \n"
   ]
  },
  {
   "cell_type": "code",
   "execution_count": 24,
   "id": "47563f85",
   "metadata": {},
   "outputs": [],
   "source": [
    "#operations and fucntions on tuples\n",
    "\n",
    "t1 = (1,2,3,4)\n",
    "t2 = (5,6,7,8)"
   ]
  },
  {
   "cell_type": "code",
   "execution_count": 25,
   "id": "78c0e910",
   "metadata": {},
   "outputs": [
    {
     "name": "stdout",
     "output_type": "stream",
     "text": [
      "(1, 2, 3, 4, 5, 6, 7, 8)\n"
     ]
    }
   ],
   "source": [
    "print(t1 + t2)"
   ]
  },
  {
   "cell_type": "code",
   "execution_count": 26,
   "id": "c0550951",
   "metadata": {},
   "outputs": [],
   "source": [
    "#tuple function"
   ]
  },
  {
   "cell_type": "code",
   "execution_count": 31,
   "id": "cccc8cfb",
   "metadata": {},
   "outputs": [
    {
     "data": {
      "text/plain": [
       "[4, 3, 2, 1]"
      ]
     },
     "execution_count": 31,
     "metadata": {},
     "output_type": "execute_result"
    }
   ],
   "source": [
    "t = (1,2,3,4)\n",
    "len(t)\n",
    "\n",
    "sum(t)\n",
    "\n",
    "min(t)\n",
    "\n",
    "max(t)\n",
    "\n",
    "sorted(t,reverse = True)"
   ]
  },
  {
   "cell_type": "code",
   "execution_count": 33,
   "id": "d2489ebc",
   "metadata": {},
   "outputs": [
    {
     "data": {
      "text/plain": [
       "0"
      ]
     },
     "execution_count": 33,
     "metadata": {},
     "output_type": "execute_result"
    }
   ],
   "source": [
    "#count\n",
    "\n",
    "t3.count(5)\n",
    "\n",
    "t3.count(89)"
   ]
  },
  {
   "cell_type": "code",
   "execution_count": 34,
   "id": "44590973",
   "metadata": {},
   "outputs": [],
   "source": [
    "#Difference between tuples and lists\n",
    "#     1.syntax\n",
    "#     2.mutabilty\n",
    "#     3.speed (immutable data types are fasters ocmpanred to lists)\n",
    "#     4.memory\n",
    "#     5.built in fucntionalities\n",
    "#     6.lists are more erroe prone"
   ]
  },
  {
   "cell_type": "code",
   "execution_count": 35,
   "id": "c8de44f6",
   "metadata": {},
   "outputs": [],
   "source": [
    "#special syntax"
   ]
  },
  {
   "cell_type": "code",
   "execution_count": 36,
   "id": "f0c02a8c",
   "metadata": {},
   "outputs": [],
   "source": [
    "#tuple unpacking\n",
    "\n",
    "a,b,c = (1,2,3)"
   ]
  },
  {
   "cell_type": "code",
   "execution_count": 37,
   "id": "c5cab538",
   "metadata": {},
   "outputs": [
    {
     "name": "stdout",
     "output_type": "stream",
     "text": [
      "1 2 3\n"
     ]
    }
   ],
   "source": [
    "print(a,b,c)"
   ]
  },
  {
   "cell_type": "code",
   "execution_count": 38,
   "id": "395f6ff4",
   "metadata": {},
   "outputs": [
    {
     "ename": "ValueError",
     "evalue": "too many values to unpack (expected 2)",
     "output_type": "error",
     "traceback": [
      "\u001b[1;31m---------------------------------------------------------------------------\u001b[0m",
      "\u001b[1;31mValueError\u001b[0m                                Traceback (most recent call last)",
      "Cell \u001b[1;32mIn[38], line 1\u001b[0m\n\u001b[1;32m----> 1\u001b[0m a,b \u001b[38;5;241m=\u001b[39m (\u001b[38;5;241m1\u001b[39m,\u001b[38;5;241m2\u001b[39m,\u001b[38;5;241m3\u001b[39m)\n\u001b[0;32m      2\u001b[0m \u001b[38;5;28mprint\u001b[39m(a,b)\n",
      "\u001b[1;31mValueError\u001b[0m: too many values to unpack (expected 2)"
     ]
    }
   ],
   "source": [
    "a,b = (1,2,3)\n",
    "print(a,b)"
   ]
  },
  {
   "cell_type": "code",
   "execution_count": 39,
   "id": "2cfb0222",
   "metadata": {},
   "outputs": [
    {
     "name": "stdout",
     "output_type": "stream",
     "text": [
      "2 1\n"
     ]
    }
   ],
   "source": [
    "a=1\n",
    "b=2\n",
    "a,b=b,a\n",
    "print(a,b)"
   ]
  },
  {
   "cell_type": "code",
   "execution_count": 42,
   "id": "ce7cfcad",
   "metadata": {},
   "outputs": [
    {
     "name": "stdout",
     "output_type": "stream",
     "text": [
      "1 2\n",
      "[3, 4]\n"
     ]
    }
   ],
   "source": [
    "a,b, *others = (1,2,3,4)\n",
    "print(a,b)\n",
    "print(others)"
   ]
  },
  {
   "cell_type": "code",
   "execution_count": 44,
   "id": "40cfc7c8",
   "metadata": {},
   "outputs": [
    {
     "data": {
      "text/plain": [
       "[(1, 5), (2, 6), (3, 7), (4, 8)]"
      ]
     },
     "execution_count": 44,
     "metadata": {},
     "output_type": "execute_result"
    }
   ],
   "source": [
    "# zipping tuples \n",
    "a = (1,2,3,4)\n",
    "b = (5,6,7,8)\n",
    "list(zip(a,b))"
   ]
  },
  {
   "cell_type": "code",
   "execution_count": 45,
   "id": "407c526e",
   "metadata": {},
   "outputs": [
    {
     "data": {
      "text/plain": [
       "((1, 5), (2, 6), (3, 7), (4, 8))"
      ]
     },
     "execution_count": 45,
     "metadata": {},
     "output_type": "execute_result"
    }
   ],
   "source": [
    "tuple(zip(a,b))"
   ]
  },
  {
   "cell_type": "code",
   "execution_count": 48,
   "id": "bb01985f",
   "metadata": {},
   "outputs": [
    {
     "name": "stdout",
     "output_type": "stream",
     "text": [
      "((' AB', 1), ('ABC', 2), ('BCD', 2), ('CDE', 2), ('DEF', 2), ('EFG', 2), ('FGH', 2), ('GHI', 2), ('HIK', 2), ('IKI', 1), ('KIL', 1), ('ILM', 1), ('LMA', 1), ('MAB', 1), ('IKL', 1), ('KLM', 1))\n"
     ]
    }
   ],
   "source": [
    "A = \" ABCDEFGHIKILMABCDEFGHIKLM\"\n",
    "\n",
    "k =3\n",
    "freq= {}\n",
    "for i in range(len(A) - k + 1):\n",
    "    # Extract the substring of length k\n",
    "    sub = A[i : i + k]\n",
    "    \n",
    "    # Check if this substring is already a key in the dictionary\n",
    "    if sub in freq:\n",
    "        freq[sub] += 1\n",
    "    else:\n",
    "        freq[sub] = 1\n",
    "# Print the frequency dictionary\n",
    "dict_as_tuple = tuple(freq.items())\n",
    "print(dict_as_tuple)"
   ]
  },
  {
   "cell_type": "code",
   "execution_count": 50,
   "id": "5298f50b",
   "metadata": {},
   "outputs": [],
   "source": [
    "# #SETS\n",
    "# it is an unordered collection of items \n",
    "# # 1. unordered\n",
    "# 2. mutable\n",
    "# 3. no duplicates\n",
    "# 4. can't contain mutable date types\n"
   ]
  },
  {
   "cell_type": "code",
   "execution_count": 52,
   "id": "2dd6bf2b",
   "metadata": {},
   "outputs": [
    {
     "name": "stdout",
     "output_type": "stream",
     "text": [
      "<class 'dict'>\n"
     ]
    }
   ],
   "source": [
    "# SET CREATION\n",
    "#set and dict both conatin same declaration syntax and python always shows the {} as a dict by default\n",
    "\n",
    "s = {}\n",
    "print(type(s))"
   ]
  },
  {
   "cell_type": "code",
   "execution_count": 53,
   "id": "88fae9dc",
   "metadata": {},
   "outputs": [
    {
     "name": "stdout",
     "output_type": "stream",
     "text": [
      "<class 'set'>\n"
     ]
    }
   ],
   "source": [
    "#therefore always use type conversion\n",
    "s=set()\n",
    "print(type(s))"
   ]
  },
  {
   "cell_type": "code",
   "execution_count": 54,
   "id": "81defa41",
   "metadata": {},
   "outputs": [
    {
     "ename": "TypeError",
     "evalue": "unhashable type: 'set'",
     "output_type": "error",
     "traceback": [
      "\u001b[1;31m---------------------------------------------------------------------------\u001b[0m",
      "\u001b[1;31mTypeError\u001b[0m                                 Traceback (most recent call last)",
      "Cell \u001b[1;32mIn[54], line 3\u001b[0m\n\u001b[0;32m      1\u001b[0m \u001b[38;5;66;03m# 4. can't contain mutable date types\u001b[39;00m\n\u001b[1;32m----> 3\u001b[0m s3\u001b[38;5;241m=\u001b[39m{\u001b[38;5;241m1\u001b[39m,\u001b[38;5;241m3\u001b[39m,\u001b[38;5;241m4\u001b[39m,{\u001b[38;5;241m2\u001b[39m,\u001b[38;5;241m3\u001b[39m,\u001b[38;5;241m4\u001b[39m}}\n\u001b[0;32m      4\u001b[0m \u001b[38;5;28mprint\u001b[39m(s3)\n",
      "\u001b[1;31mTypeError\u001b[0m: unhashable type: 'set'"
     ]
    }
   ],
   "source": [
    "# 4. can't contain mutable date types\n",
    "\n",
    "s3={1,3,4,{2,3,4}}\n",
    "print(s3)"
   ]
  },
  {
   "cell_type": "code",
   "execution_count": 55,
   "id": "58e3bcc0",
   "metadata": {},
   "outputs": [
    {
     "name": "stdout",
     "output_type": "stream",
     "text": [
      "{1, (1, 2, 3), 4.5, 'hello'}\n"
     ]
    }
   ],
   "source": [
    "#unordered\n",
    "\n",
    "s4 = {1,'hello',4.5,(1,2,3)}\n",
    "print(s4)"
   ]
  },
  {
   "cell_type": "code",
   "execution_count": 56,
   "id": "a4771d3f",
   "metadata": {},
   "outputs": [
    {
     "name": "stdout",
     "output_type": "stream",
     "text": [
      "{1, 2, 3}\n"
     ]
    }
   ],
   "source": [
    "#duplicates not allowed\n",
    "\n",
    "s5 = {1,1,2,2,3,3}\n",
    "print(s5)"
   ]
  },
  {
   "cell_type": "code",
   "execution_count": 57,
   "id": "366a0208",
   "metadata": {},
   "outputs": [
    {
     "ename": "TypeError",
     "evalue": "'set' object is not subscriptable",
     "output_type": "error",
     "traceback": [
      "\u001b[1;31m---------------------------------------------------------------------------\u001b[0m",
      "\u001b[1;31mTypeError\u001b[0m                                 Traceback (most recent call last)",
      "Cell \u001b[1;32mIn[57], line 3\u001b[0m\n\u001b[0;32m      1\u001b[0m \u001b[38;5;66;03m#accessing items\u001b[39;00m\n\u001b[1;32m----> 3\u001b[0m s5[\u001b[38;5;241m0\u001b[39m]\n",
      "\u001b[1;31mTypeError\u001b[0m: 'set' object is not subscriptable"
     ]
    }
   ],
   "source": [
    " #accessing items\n",
    "    \n",
    "s5[0]"
   ]
  },
  {
   "cell_type": "code",
   "execution_count": 58,
   "id": "1d5e7e18",
   "metadata": {},
   "outputs": [
    {
     "name": "stdout",
     "output_type": "stream",
     "text": [
      "{1, 2, 3, 4, 6}\n"
     ]
    }
   ],
   "source": [
    "#editing items\n",
    "\n",
    "#adding  \n",
    "\n",
    "s= {1,2,3,4}\n",
    "\n",
    "s.add(6)\n",
    "print(s)"
   ]
  },
  {
   "cell_type": "code",
   "execution_count": 60,
   "id": "9efa1c2c",
   "metadata": {},
   "outputs": [
    {
     "name": "stdout",
     "output_type": "stream",
     "text": [
      "{1, 2, 3, 4, 5, 6}\n"
     ]
    }
   ],
   "source": [
    "#update\n",
    "\n",
    "s.update([5,4,3,2])\n",
    "print(s)"
   ]
  },
  {
   "cell_type": "code",
   "execution_count": 61,
   "id": "c5d88b05",
   "metadata": {},
   "outputs": [
    {
     "name": "stdout",
     "output_type": "stream",
     "text": [
      "{1, 2, 3, 4, 5, 6}\n"
     ]
    },
    {
     "ename": "NameError",
     "evalue": "name 's' is not defined",
     "output_type": "error",
     "traceback": [
      "\u001b[1;31m---------------------------------------------------------------------------\u001b[0m",
      "\u001b[1;31mNameError\u001b[0m                                 Traceback (most recent call last)",
      "Cell \u001b[1;32mIn[61], line 8\u001b[0m\n\u001b[0;32m      5\u001b[0m \u001b[38;5;28mprint\u001b[39m(s)\n\u001b[0;32m      7\u001b[0m \u001b[38;5;28;01mdel\u001b[39;00m(s)\n\u001b[1;32m----> 8\u001b[0m \u001b[38;5;28mprint\u001b[39m(s)\n",
      "\u001b[1;31mNameError\u001b[0m: name 's' is not defined"
     ]
    }
   ],
   "source": [
    "#deleting items\n",
    "\n",
    "#del can help delete entire set\n",
    "\n",
    "s = {1,2,5,3,6}\n",
    "\n",
    "del(s)\n",
    "print(s)"
   ]
  },
  {
   "cell_type": "code",
   "execution_count": 64,
   "id": "99f2a451",
   "metadata": {},
   "outputs": [
    {
     "name": "stdout",
     "output_type": "stream",
     "text": [
      "{2, 3, 5, 6}\n",
      "{2, 3, 5, 6}\n"
     ]
    }
   ],
   "source": [
    "#discard.\n",
    "\n",
    "s = {1,2,5,3,6}\n",
    "s.discard(1)\n",
    "print(s)\n",
    "\n",
    "# if a number whichis not there in the set is being deleted it doesnt throw an error in discard\n",
    "\n",
    "s.discard(68)\n",
    "print(s)"
   ]
  },
  {
   "cell_type": "code",
   "execution_count": 65,
   "id": "fbc9954d",
   "metadata": {},
   "outputs": [
    {
     "name": "stdout",
     "output_type": "stream",
     "text": [
      "{2, 3, 5}\n"
     ]
    },
    {
     "ename": "KeyError",
     "evalue": "78",
     "output_type": "error",
     "traceback": [
      "\u001b[1;31m---------------------------------------------------------------------------\u001b[0m",
      "\u001b[1;31mKeyError\u001b[0m                                  Traceback (most recent call last)",
      "Cell \u001b[1;32mIn[65], line 7\u001b[0m\n\u001b[0;32m      3\u001b[0m \u001b[38;5;28mprint\u001b[39m(s)\n\u001b[0;32m      5\u001b[0m \u001b[38;5;66;03m#remove throws error\u001b[39;00m\n\u001b[1;32m----> 7\u001b[0m s\u001b[38;5;241m.\u001b[39mremove(\u001b[38;5;241m78\u001b[39m)\n\u001b[0;32m      8\u001b[0m \u001b[38;5;28mprint\u001b[39m(s)\n",
      "\u001b[1;31mKeyError\u001b[0m: 78"
     ]
    }
   ],
   "source": [
    "#remove\n",
    "s.remove(6)\n",
    "print(s)\n",
    "\n",
    "#remove throws error\n",
    "\n",
    "s.remove(78)\n",
    "print(s)"
   ]
  },
  {
   "cell_type": "code",
   "execution_count": 66,
   "id": "ab58d150",
   "metadata": {},
   "outputs": [
    {
     "name": "stdout",
     "output_type": "stream",
     "text": [
      "{3, 5}\n"
     ]
    }
   ],
   "source": [
    "#pop randomply deletes any element \n",
    "\n",
    "s.pop()\n",
    "print(s)"
   ]
  },
  {
   "cell_type": "code",
   "execution_count": 67,
   "id": "6f75318d",
   "metadata": {},
   "outputs": [
    {
     "name": "stdout",
     "output_type": "stream",
     "text": [
      "set()\n"
     ]
    }
   ],
   "source": [
    "#clear clears the entire set\n",
    "\n",
    "s.clear()\n",
    "print(s)"
   ]
  },
  {
   "cell_type": "code",
   "execution_count": 68,
   "id": "fbf33110",
   "metadata": {},
   "outputs": [
    {
     "data": {
      "text/plain": [
       "{0, 1, 2, 3, 4, 5, 6, 7, 8, 9}"
      ]
     },
     "execution_count": 68,
     "metadata": {},
     "output_type": "execute_result"
    }
   ],
   "source": [
    "#Set OPeration\n",
    "#1.Union\n",
    "s1 =  { 1,2,3,4,5}\n",
    "s2={6,7,8,9,0}\n",
    "s1|s2"
   ]
  },
  {
   "cell_type": "code",
   "execution_count": 69,
   "id": "3899c820",
   "metadata": {},
   "outputs": [
    {
     "data": {
      "text/plain": [
       "set()"
      ]
     },
     "execution_count": 69,
     "metadata": {},
     "output_type": "execute_result"
    }
   ],
   "source": [
    "#2.Intersection\n",
    "\n",
    "s1 &s2"
   ]
  },
  {
   "cell_type": "code",
   "execution_count": 70,
   "id": "26878f36",
   "metadata": {},
   "outputs": [
    {
     "data": {
      "text/plain": [
       "{1, 2, 3, 4, 5}"
      ]
     },
     "execution_count": 70,
     "metadata": {},
     "output_type": "execute_result"
    }
   ],
   "source": [
    "s1-s2"
   ]
  },
  {
   "cell_type": "code",
   "execution_count": 72,
   "id": "f9974882",
   "metadata": {},
   "outputs": [
    {
     "data": {
      "text/plain": [
       "{0, 3, 4, 5, 6, 7}"
      ]
     },
     "execution_count": 72,
     "metadata": {},
     "output_type": "execute_result"
    }
   ],
   "source": [
    "s3= {3,4,5,9,8}\n",
    "\n",
    "s2^s3"
   ]
  },
  {
   "cell_type": "code",
   "execution_count": 73,
   "id": "6f58a9b0",
   "metadata": {},
   "outputs": [
    {
     "data": {
      "text/plain": [
       "True"
      ]
     },
     "execution_count": 73,
     "metadata": {},
     "output_type": "execute_result"
    }
   ],
   "source": [
    "#isdisjoint/issubset/issuperset\n",
    "s1 ={ 1,2,3,4,5}\n",
    "s2={6,7,8,9,0}\n",
    "s1.isdisjoint(s2)"
   ]
  },
  {
   "cell_type": "code",
   "execution_count": 75,
   "id": "b835b6b3",
   "metadata": {},
   "outputs": [
    {
     "data": {
      "text/plain": [
       "True"
      ]
     },
     "execution_count": 75,
     "metadata": {},
     "output_type": "execute_result"
    }
   ],
   "source": [
    "s1 ={ 1,2,3,4,5}\n",
    "s2={3,4,5}\n",
    "s2.issubset(s1)"
   ]
  },
  {
   "cell_type": "code",
   "execution_count": 77,
   "id": "0a672c85",
   "metadata": {},
   "outputs": [
    {
     "data": {
      "text/plain": [
       "True"
      ]
     },
     "execution_count": 77,
     "metadata": {},
     "output_type": "execute_result"
    }
   ],
   "source": [
    "s1.issuperset(s2)"
   ]
  },
  {
   "cell_type": "code",
   "execution_count": null,
   "id": "d5da889e",
   "metadata": {},
   "outputs": [],
   "source": []
  }
 ],
 "metadata": {
  "kernelspec": {
   "display_name": "Python 3 (ipykernel)",
   "language": "python",
   "name": "python3"
  },
  "language_info": {
   "codemirror_mode": {
    "name": "ipython",
    "version": 3
   },
   "file_extension": ".py",
   "mimetype": "text/x-python",
   "name": "python",
   "nbconvert_exporter": "python",
   "pygments_lexer": "ipython3",
   "version": "3.11.4"
  }
 },
 "nbformat": 4,
 "nbformat_minor": 5
}
