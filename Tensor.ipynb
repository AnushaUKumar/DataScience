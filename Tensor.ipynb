{
 "cells": [
  {
   "cell_type": "code",
   "execution_count": 1,
   "id": "0c545962",
   "metadata": {},
   "outputs": [],
   "source": [
    "import numpy as np "
   ]
  },
  {
   "cell_type": "code",
   "execution_count": 2,
   "id": "2865cdd4",
   "metadata": {},
   "outputs": [],
   "source": [
    "a = np.array(4)"
   ]
  },
  {
   "cell_type": "code",
   "execution_count": 4,
   "id": "33c7691b",
   "metadata": {},
   "outputs": [
    {
     "data": {
      "text/plain": [
       "array(4)"
      ]
     },
     "execution_count": 4,
     "metadata": {},
     "output_type": "execute_result"
    }
   ],
   "source": [
    "# 0-d array \n",
    "a"
   ]
  },
  {
   "cell_type": "code",
   "execution_count": 5,
   "id": "b1a5b9b7",
   "metadata": {},
   "outputs": [
    {
     "data": {
      "text/plain": [
       "0"
      ]
     },
     "execution_count": 5,
     "metadata": {},
     "output_type": "execute_result"
    }
   ],
   "source": [
    "a.ndim #0 d dimension "
   ]
  },
  {
   "cell_type": "code",
   "execution_count": 6,
   "id": "f005799e",
   "metadata": {},
   "outputs": [],
   "source": [
    "# if there are a list of number then it is 1 d tensor / 1d array /vector\n",
    "# Axis - tell what (number) of dimension if there are 2 d dimension then it is 2 axis etc,.c\n",
    "#no of axes is also called rank = dimension of the tensor"
   ]
  },
  {
   "cell_type": "code",
   "execution_count": 7,
   "id": "9bbc23c2",
   "metadata": {},
   "outputs": [],
   "source": [
    "arr= np.array([1,2,3,4])"
   ]
  },
  {
   "cell_type": "code",
   "execution_count": 8,
   "id": "4b89442f",
   "metadata": {},
   "outputs": [
    {
     "data": {
      "text/plain": [
       "array([1, 2, 3, 4])"
      ]
     },
     "execution_count": 8,
     "metadata": {},
     "output_type": "execute_result"
    }
   ],
   "source": [
    "arr"
   ]
  },
  {
   "cell_type": "code",
   "execution_count": 9,
   "id": "84339602",
   "metadata": {},
   "outputs": [
    {
     "data": {
      "text/plain": [
       "1"
      ]
     },
     "execution_count": 9,
     "metadata": {},
     "output_type": "execute_result"
    }
   ],
   "source": [
    "arr.ndim # 1 d tensor it is called vector . so now in this vector num of dim is 4 for arr"
   ]
  },
  {
   "cell_type": "code",
   "execution_count": 10,
   "id": "c049bb93",
   "metadata": {},
   "outputs": [],
   "source": [
    "# if we need 1 D tensor it is a collection of multiple 0 D tensor. if we need vector then it is a collection of multiple scalars"
   ]
  },
  {
   "cell_type": "code",
   "execution_count": 11,
   "id": "5c7f623a",
   "metadata": {},
   "outputs": [],
   "source": [
    "#if we have multiple vector and join them it is called matrices  "
   ]
  },
  {
   "cell_type": "code",
   "execution_count": 14,
   "id": "e9c93454",
   "metadata": {},
   "outputs": [],
   "source": [
    "mat = np.array([[1,2,3],[4,5,6],[7,8,9]])"
   ]
  },
  {
   "cell_type": "code",
   "execution_count": 15,
   "id": "8d45a0b7",
   "metadata": {},
   "outputs": [
    {
     "data": {
      "text/plain": [
       "array([[1, 2, 3],\n",
       "       [4, 5, 6],\n",
       "       [7, 8, 9]])"
      ]
     },
     "execution_count": 15,
     "metadata": {},
     "output_type": "execute_result"
    }
   ],
   "source": [
    "mat"
   ]
  },
  {
   "cell_type": "code",
   "execution_count": 16,
   "id": "ed88a179",
   "metadata": {},
   "outputs": [
    {
     "data": {
      "text/plain": [
       "2"
      ]
     },
     "execution_count": 16,
     "metadata": {},
     "output_type": "execute_result"
    }
   ],
   "source": [
    "mat.ndim"
   ]
  },
  {
   "cell_type": "code",
   "execution_count": 17,
   "id": "4db8918a",
   "metadata": {},
   "outputs": [],
   "source": [
    "# no of axis = rank= no of dimension"
   ]
  },
  {
   "cell_type": "code",
   "execution_count": 18,
   "id": "b770d9ab",
   "metadata": {},
   "outputs": [],
   "source": [
    "#shape? = in a particular axis how many items are there > ? this teells the no of eleemnts that cann be stored in row and columns"
   ]
  },
  {
   "cell_type": "code",
   "execution_count": 19,
   "id": "35af3e7b",
   "metadata": {},
   "outputs": [],
   "source": [
    "# size is the no of columns * no of rows"
   ]
  },
  {
   "cell_type": "code",
   "execution_count": 20,
   "id": "abc5f8bc",
   "metadata": {},
   "outputs": [],
   "source": [
    "# for scalar the size if always one"
   ]
  },
  {
   "cell_type": "code",
   "execution_count": 21,
   "id": "1766cf63",
   "metadata": {},
   "outputs": [],
   "source": [
    "# examples of 3 d tensors - time series data ( say you want to track the data of everyday ofr some quauntity ( 365,2) where 2 is the no of featurs like highest lowestfor 10 years )(10,365,2) which is a 3d tensir"
   ]
  },
  {
   "cell_type": "code",
   "execution_count": 22,
   "id": "ddfe29f7",
   "metadata": {},
   "outputs": [],
   "source": [
    "# 4d tewnsors are always image processing data image processing( 50 ,3,1200,800) here 50 is the batch of images , 3 is the rgb and 1200,8000 is the no of pixels"
   ]
  },
  {
   "cell_type": "code",
   "execution_count": null,
   "id": "40f78138",
   "metadata": {},
   "outputs": [],
   "source": [
    "  "
   ]
  }
 ],
 "metadata": {
  "kernelspec": {
   "display_name": "Python 3 (ipykernel)",
   "language": "python",
   "name": "python3"
  },
  "language_info": {
   "codemirror_mode": {
    "name": "ipython",
    "version": 3
   },
   "file_extension": ".py",
   "mimetype": "text/x-python",
   "name": "python",
   "nbconvert_exporter": "python",
   "pygments_lexer": "ipython3",
   "version": "3.11.4"
  }
 },
 "nbformat": 4,
 "nbformat_minor": 5
}
