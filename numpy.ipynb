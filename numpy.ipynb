{
 "cells": [
  {
   "cell_type": "code",
   "execution_count": 1,
   "id": "ea7ec130",
   "metadata": {},
   "outputs": [],
   "source": [
    "# Creating arrays"
   ]
  },
  {
   "cell_type": "code",
   "execution_count": 7,
   "id": "c9f5936a",
   "metadata": {},
   "outputs": [
    {
     "name": "stdout",
     "output_type": "stream",
     "text": [
      "[1 2 3]\n",
      "<class 'numpy.ndarray'>\n"
     ]
    }
   ],
   "source": [
    "#np.arrays\n",
    "import numpy as np\n",
    "a=np.array([1,2,3])\n",
    "print(a)\n",
    "print(type(a))"
   ]
  },
  {
   "cell_type": "code",
   "execution_count": 8,
   "id": "0ebf60c9",
   "metadata": {},
   "outputs": [
    {
     "name": "stdout",
     "output_type": "stream",
     "text": [
      "[[1 2 3]\n",
      " [5 6 7]]\n"
     ]
    }
   ],
   "source": [
    "#2d and 3d\n",
    "\n",
    "b = np.array([[1,2,3],[5,6,7]])\n",
    "print(b)"
   ]
  },
  {
   "cell_type": "code",
   "execution_count": 9,
   "id": "729a2d96",
   "metadata": {},
   "outputs": [
    {
     "name": "stdout",
     "output_type": "stream",
     "text": [
      "[[[1 2 3]\n",
      "  [3 4 5]\n",
      "  [5 6 7]]]\n"
     ]
    }
   ],
   "source": [
    "c = np.array([[[1,2,3],[3,4,5],[5,6,7]]])\n",
    "print(c)"
   ]
  },
  {
   "cell_type": "code",
   "execution_count": 10,
   "id": "1a577899",
   "metadata": {},
   "outputs": [
    {
     "data": {
      "text/plain": [
       "array([ True,  True,  True])"
      ]
     },
     "execution_count": 10,
     "metadata": {},
     "output_type": "execute_result"
    }
   ],
   "source": [
    "#dtype\n",
    "\n",
    "np.array([1,2,3],dtype = float)\n",
    "\n",
    "np.array([1,2,3] , dtype =bool) #python treats any non zero value as true"
   ]
  },
  {
   "cell_type": "code",
   "execution_count": 11,
   "id": "64a7d6be",
   "metadata": {},
   "outputs": [],
   "source": [
    "#np.arange - acts like creating numpy array  by using range function(range func exact)"
   ]
  },
  {
   "cell_type": "code",
   "execution_count": 12,
   "id": "9794283e",
   "metadata": {},
   "outputs": [
    {
     "data": {
      "text/plain": [
       "array([1. , 2.5, 4. , 5.5, 7. , 8.5])"
      ]
     },
     "execution_count": 12,
     "metadata": {},
     "output_type": "execute_result"
    }
   ],
   "source": [
    "np.arange(1,9,1.5)"
   ]
  },
  {
   "cell_type": "code",
   "execution_count": 13,
   "id": "39b778d1",
   "metadata": {},
   "outputs": [
    {
     "data": {
      "text/plain": [
       "array([[ 1,  2],\n",
       "       [ 3,  4],\n",
       "       [ 5,  6],\n",
       "       [ 7,  8],\n",
       "       [ 9, 10]])"
      ]
     },
     "execution_count": 13,
     "metadata": {},
     "output_type": "execute_result"
    }
   ],
   "source": [
    "#with reshape say i want to create a 5*2 matrix\n",
    "\n",
    "np.arange(1,11).reshape(5,2)"
   ]
  },
  {
   "cell_type": "code",
   "execution_count": 14,
   "id": "3143492f",
   "metadata": {},
   "outputs": [
    {
     "data": {
      "text/plain": [
       "array([[1., 1., 1., 1.],\n",
       "       [1., 1., 1., 1.],\n",
       "       [1., 1., 1., 1.]])"
      ]
     },
     "execution_count": 14,
     "metadata": {},
     "output_type": "execute_result"
    }
   ],
   "source": [
    "#np.ones and np.zeroes ( used mainly for intialization ex: nueral network)\n",
    "\n",
    "np.ones((3,4))"
   ]
  },
  {
   "cell_type": "code",
   "execution_count": 15,
   "id": "d05d4756",
   "metadata": {},
   "outputs": [
    {
     "data": {
      "text/plain": [
       "array([[0., 0.],\n",
       "       [0., 0.]])"
      ]
     },
     "execution_count": 15,
     "metadata": {},
     "output_type": "execute_result"
    }
   ],
   "source": [
    "np.zeros((2,2))"
   ]
  },
  {
   "cell_type": "code",
   "execution_count": 16,
   "id": "0204a1b4",
   "metadata": {},
   "outputs": [
    {
     "data": {
      "text/plain": [
       "array([[0.54826546, 0.47312282, 0.99835753, 0.23258738],\n",
       "       [0.88024089, 0.48091676, 0.45221459, 0.80935235],\n",
       "       [0.00931768, 0.98055562, 0.88949026, 0.19822701]])"
      ]
     },
     "execution_count": 16,
     "metadata": {},
     "output_type": "execute_result"
    }
   ],
   "source": [
    "np.random.random((3,4))"
   ]
  },
  {
   "cell_type": "code",
   "execution_count": 17,
   "id": "6eedf545",
   "metadata": {},
   "outputs": [
    {
     "data": {
      "text/plain": [
       "array([-10.        ,  -7.77777778,  -5.55555556,  -3.33333333,\n",
       "        -1.11111111,   1.11111111,   3.33333333,   5.55555556,\n",
       "         7.77777778,  10.        ])"
      ]
     },
     "execution_count": 17,
     "metadata": {},
     "output_type": "execute_result"
    }
   ],
   "source": [
    "#np.linspace ( linear space)(lowerrange, upperrange , how many i want)\n",
    "np.linspace(-10,10, 10)"
   ]
  },
  {
   "cell_type": "code",
   "execution_count": 18,
   "id": "949c9887",
   "metadata": {},
   "outputs": [
    {
     "data": {
      "text/plain": [
       "array([[1., 0., 0.],\n",
       "       [0., 1., 0.],\n",
       "       [0., 0., 1.]])"
      ]
     },
     "execution_count": 18,
     "metadata": {},
     "output_type": "execute_result"
    }
   ],
   "source": [
    "#np.identity : diagonal items are 1 rest is zero\n",
    "\n",
    "np.identity(3)"
   ]
  },
  {
   "cell_type": "code",
   "execution_count": 19,
   "id": "f87ab5f7",
   "metadata": {},
   "outputs": [],
   "source": [
    "#ARRAY ATTRIBUTES"
   ]
  },
  {
   "cell_type": "code",
   "execution_count": 20,
   "id": "27f28da6",
   "metadata": {},
   "outputs": [],
   "source": [
    "a1= np.arange(10)\n",
    "a2 = np.arange(12,dtype=float).reshape(3,4)\n",
    "a3 = np.arange(8).reshape(2,2,2)\n"
   ]
  },
  {
   "cell_type": "code",
   "execution_count": 21,
   "id": "463ea56f",
   "metadata": {},
   "outputs": [
    {
     "data": {
      "text/plain": [
       "3"
      ]
     },
     "execution_count": 21,
     "metadata": {},
     "output_type": "execute_result"
    }
   ],
   "source": [
    "#ndim\n",
    "\n",
    "a1.ndim\n",
    "a2.ndim\n",
    "a3.ndim"
   ]
  },
  {
   "cell_type": "code",
   "execution_count": 22,
   "id": "b545995f",
   "metadata": {},
   "outputs": [
    {
     "name": "stdout",
     "output_type": "stream",
     "text": [
      "(2, 2, 2)\n"
     ]
    }
   ],
   "source": [
    "#shape\n",
    "\n",
    "print(a3.shape)"
   ]
  },
  {
   "cell_type": "code",
   "execution_count": 23,
   "id": "e0675501",
   "metadata": {},
   "outputs": [
    {
     "data": {
      "text/plain": [
       "8"
      ]
     },
     "execution_count": 23,
     "metadata": {},
     "output_type": "execute_result"
    }
   ],
   "source": [
    "#size\n",
    "\n",
    "a3.size"
   ]
  },
  {
   "cell_type": "code",
   "execution_count": 24,
   "id": "dda4f739",
   "metadata": {},
   "outputs": [],
   "source": [
    "#CHANGING DATA TYPE"
   ]
  },
  {
   "cell_type": "code",
   "execution_count": 25,
   "id": "dbdae0ff",
   "metadata": {},
   "outputs": [
    {
     "data": {
      "text/plain": [
       "dtype('int32')"
      ]
     },
     "execution_count": 25,
     "metadata": {},
     "output_type": "execute_result"
    }
   ],
   "source": [
    "#astype\n",
    "\n",
    "a3.dtype"
   ]
  },
  {
   "cell_type": "code",
   "execution_count": 26,
   "id": "01b1565b",
   "metadata": {},
   "outputs": [
    {
     "data": {
      "text/plain": [
       "array([[[0, 1],\n",
       "        [2, 3]],\n",
       "\n",
       "       [[4, 5],\n",
       "        [6, 7]]])"
      ]
     },
     "execution_count": 26,
     "metadata": {},
     "output_type": "execute_result"
    }
   ],
   "source": [
    "#changing data type\n",
    "a3.astype(np.int32)"
   ]
  },
  {
   "cell_type": "code",
   "execution_count": 27,
   "id": "8ea07249",
   "metadata": {},
   "outputs": [],
   "source": [
    "#array operations\n",
    "a1 = np.arange(8).reshape(2,4)"
   ]
  },
  {
   "cell_type": "code",
   "execution_count": 28,
   "id": "97c4ca3f",
   "metadata": {},
   "outputs": [
    {
     "data": {
      "text/plain": [
       "array([[0, 1, 2, 3],\n",
       "       [4, 5, 6, 7]])"
      ]
     },
     "execution_count": 28,
     "metadata": {},
     "output_type": "execute_result"
    }
   ],
   "source": [
    "a1"
   ]
  },
  {
   "cell_type": "code",
   "execution_count": 29,
   "id": "cdd8ebe5",
   "metadata": {},
   "outputs": [
    {
     "data": {
      "text/plain": [
       "array([[ 0,  2,  4,  6],\n",
       "       [ 8, 10, 12, 14]])"
      ]
     },
     "execution_count": 29,
     "metadata": {},
     "output_type": "execute_result"
    }
   ],
   "source": [
    "#scalar operations\n",
    "\n",
    "a1*2\n"
   ]
  },
  {
   "cell_type": "code",
   "execution_count": 30,
   "id": "b8b598ae",
   "metadata": {},
   "outputs": [
    {
     "data": {
      "text/plain": [
       "array([[False, False, False, False],\n",
       "       [False, False,  True,  True],\n",
       "       [ True,  True,  True,  True]])"
      ]
     },
     "execution_count": 30,
     "metadata": {},
     "output_type": "execute_result"
    }
   ],
   "source": [
    "#relational\n",
    "a2 > 5 "
   ]
  },
  {
   "cell_type": "code",
   "execution_count": 31,
   "id": "efd01ac8",
   "metadata": {},
   "outputs": [
    {
     "ename": "ValueError",
     "evalue": "cannot resize this array: it does not own its data",
     "output_type": "error",
     "traceback": [
      "\u001b[1;31m---------------------------------------------------------------------------\u001b[0m",
      "\u001b[1;31mValueError\u001b[0m                                Traceback (most recent call last)",
      "Cell \u001b[1;32mIn[31], line 1\u001b[0m\n\u001b[1;32m----> 1\u001b[0m a2\u001b[38;5;241m.\u001b[39mresize(\u001b[38;5;241m8\u001b[39m)\u001b[38;5;241m.\u001b[39mreshape(\u001b[38;5;241m2\u001b[39m,\u001b[38;5;241m4\u001b[39m)\n\u001b[0;32m      2\u001b[0m a1\u001b[38;5;241m+\u001b[39ma2\n",
      "\u001b[1;31mValueError\u001b[0m: cannot resize this array: it does not own its data"
     ]
    }
   ],
   "source": [
    "a2.resize(8).reshape(2,4)\n",
    "a1+a2\n"
   ]
  },
  {
   "cell_type": "code",
   "execution_count": 32,
   "id": "44df23c5",
   "metadata": {},
   "outputs": [],
   "source": [
    "a4 = np.arange(8).reshape(2,4)"
   ]
  },
  {
   "cell_type": "code",
   "execution_count": 33,
   "id": "a8c64bc4",
   "metadata": {},
   "outputs": [
    {
     "data": {
      "text/plain": [
       "array([[ 0,  2,  4,  6],\n",
       "       [ 8, 10, 12, 14]])"
      ]
     },
     "execution_count": 33,
     "metadata": {},
     "output_type": "execute_result"
    }
   ],
   "source": [
    "#relational operations \n",
    "\n",
    "a1+a4"
   ]
  },
  {
   "cell_type": "code",
   "execution_count": 34,
   "id": "9ab7232b",
   "metadata": {},
   "outputs": [
    {
     "data": {
      "text/plain": [
       "28"
      ]
     },
     "execution_count": 34,
     "metadata": {},
     "output_type": "execute_result"
    }
   ],
   "source": [
    "#min/max/sum/prod\n",
    "\n",
    "np.max(a1)\n",
    "np.min(a1) # min of the entire array\n",
    "np.prod(a1)\n",
    "np.sum(a1)"
   ]
  },
  {
   "cell_type": "code",
   "execution_count": 35,
   "id": "c77a78f5",
   "metadata": {},
   "outputs": [
    {
     "data": {
      "text/plain": [
       "array([0, 4])"
      ]
     },
     "execution_count": 35,
     "metadata": {},
     "output_type": "execute_result"
    }
   ],
   "source": [
    "np.min(a1,axis =1) # min of every row # 0 is column # 1 is row"
   ]
  },
  {
   "cell_type": "code",
   "execution_count": 36,
   "id": "f2bde100",
   "metadata": {},
   "outputs": [
    {
     "data": {
      "text/plain": [
       "array([0, 1, 2, 3])"
      ]
     },
     "execution_count": 36,
     "metadata": {},
     "output_type": "execute_result"
    }
   ],
   "source": [
    "np.min(a1,axis =0) # min of every column # 0 is column # 1 is row"
   ]
  },
  {
   "cell_type": "code",
   "execution_count": 37,
   "id": "112543d3",
   "metadata": {},
   "outputs": [
    {
     "data": {
      "text/plain": [
       "array([[ 0.        ,  0.84147098,  0.90929743,  0.14112001],\n",
       "       [-0.7568025 , -0.95892427, -0.2794155 ,  0.6569866 ]])"
      ]
     },
     "execution_count": 37,
     "metadata": {},
     "output_type": "execute_result"
    }
   ],
   "source": [
    "#trignometric functions\n",
    "\n",
    "np.sin(a1)"
   ]
  },
  {
   "cell_type": "code",
   "execution_count": 38,
   "id": "43c3bbf5",
   "metadata": {},
   "outputs": [
    {
     "data": {
      "text/plain": [
       "array([[ 42,  48,  54],\n",
       "       [114, 136, 158],\n",
       "       [186, 224, 262]])"
      ]
     },
     "execution_count": 38,
     "metadata": {},
     "output_type": "execute_result"
    }
   ],
   "source": [
    "#dot product\n",
    "\n",
    "a6= np.arange(12).reshape(3,4)\n",
    "a7 = np.arange(12).reshape(4,3)\n",
    "\n",
    "np.dot(a6,a7)"
   ]
  },
  {
   "cell_type": "code",
   "execution_count": 39,
   "id": "4c5557c4",
   "metadata": {},
   "outputs": [
    {
     "name": "stderr",
     "output_type": "stream",
     "text": [
      "C:\\Users\\anush\\AppData\\Local\\Temp\\ipykernel_31072\\2770063862.py:3: RuntimeWarning: divide by zero encountered in log\n",
      "  np.log(a1)\n"
     ]
    },
    {
     "data": {
      "text/plain": [
       "array([[      -inf, 0.        , 0.69314718, 1.09861229],\n",
       "       [1.38629436, 1.60943791, 1.79175947, 1.94591015]])"
      ]
     },
     "execution_count": 39,
     "metadata": {},
     "output_type": "execute_result"
    }
   ],
   "source": [
    "#log and exponents\n",
    "\n",
    "np.log(a1)"
   ]
  },
  {
   "cell_type": "code",
   "execution_count": 40,
   "id": "97e6a47c",
   "metadata": {},
   "outputs": [
    {
     "data": {
      "text/plain": [
       "array([[ 86.,  73.,  93.],\n",
       "       [100.,  44.,  29.]])"
      ]
     },
     "execution_count": 40,
     "metadata": {},
     "output_type": "execute_result"
    }
   ],
   "source": [
    "#round/floor/ceil\n",
    "\n",
    "np.round(np.random.random((2,3))*100)"
   ]
  },
  {
   "cell_type": "code",
   "execution_count": 41,
   "id": "c271cc55",
   "metadata": {},
   "outputs": [
    {
     "data": {
      "text/plain": [
       "array([1.25, 1.25])"
      ]
     },
     "execution_count": 41,
     "metadata": {},
     "output_type": "execute_result"
    }
   ],
   "source": [
    "np.var(a1, axis=1)\n",
    " "
   ]
  },
  {
   "cell_type": "code",
   "execution_count": 47,
   "id": "38e66e4a",
   "metadata": {},
   "outputs": [
    {
     "data": {
      "text/plain": [
       "array([[[0, 1],\n",
       "        [2, 3]],\n",
       "\n",
       "       [[4, 5],\n",
       "        [6, 7]]])"
      ]
     },
     "execution_count": 47,
     "metadata": {},
     "output_type": "execute_result"
    }
   ],
   "source": [
    "a1 = np.arange(10)\n",
    "a2 = np.arange(12).reshape(3,4)\n",
    "a3 = np.arange(8).reshape(2,2,2)\n",
    "\n",
    "a3"
   ]
  },
  {
   "cell_type": "code",
   "execution_count": 48,
   "id": "77e6641b",
   "metadata": {},
   "outputs": [
    {
     "data": {
      "text/plain": [
       "array([0, 1, 2, 3, 4, 5, 6, 7, 8, 9])"
      ]
     },
     "execution_count": 48,
     "metadata": {},
     "output_type": "execute_result"
    }
   ],
   "source": [
    "a1"
   ]
  },
  {
   "cell_type": "code",
   "execution_count": 49,
   "id": "366f7482",
   "metadata": {},
   "outputs": [
    {
     "data": {
      "text/plain": [
       "9"
      ]
     },
     "execution_count": 49,
     "metadata": {},
     "output_type": "execute_result"
    }
   ],
   "source": [
    "a1[-1]"
   ]
  },
  {
   "cell_type": "code",
   "execution_count": 51,
   "id": "41e5d47a",
   "metadata": {},
   "outputs": [
    {
     "name": "stdout",
     "output_type": "stream",
     "text": [
      "[[ 0  1  2  3]\n",
      " [ 4  5  6  7]\n",
      " [ 8  9 10 11]]\n"
     ]
    },
    {
     "data": {
      "text/plain": [
       "1"
      ]
     },
     "execution_count": 51,
     "metadata": {},
     "output_type": "execute_result"
    }
   ],
   "source": [
    "print(a2)\n",
    "a2[0,1]"
   ]
  },
  {
   "cell_type": "code",
   "execution_count": 53,
   "id": "a32d7996",
   "metadata": {},
   "outputs": [
    {
     "data": {
      "text/plain": [
       "6"
      ]
     },
     "execution_count": 53,
     "metadata": {},
     "output_type": "execute_result"
    }
   ],
   "source": [
    "a2[1,2]"
   ]
  },
  {
   "cell_type": "code",
   "execution_count": 54,
   "id": "6475ef1b",
   "metadata": {},
   "outputs": [
    {
     "data": {
      "text/plain": [
       "array([6, 7])"
      ]
     },
     "execution_count": 54,
     "metadata": {},
     "output_type": "execute_result"
    }
   ],
   "source": [
    "a3[1,1]"
   ]
  },
  {
   "cell_type": "code",
   "execution_count": 59,
   "id": "e734c8c6",
   "metadata": {},
   "outputs": [
    {
     "data": {
      "text/plain": [
       "array([2, 4, 6, 8])"
      ]
     },
     "execution_count": 59,
     "metadata": {},
     "output_type": "execute_result"
    }
   ],
   "source": [
    "#Indexing and slicing\n",
    "#same like python lists\n",
    "a1[2:10 :2]"
   ]
  },
  {
   "cell_type": "code",
   "execution_count": 60,
   "id": "8f89d577",
   "metadata": {},
   "outputs": [
    {
     "data": {
      "text/plain": [
       "array([[ 0,  1,  2,  3],\n",
       "       [ 4,  5,  6,  7],\n",
       "       [ 8,  9, 10, 11]])"
      ]
     },
     "execution_count": 60,
     "metadata": {},
     "output_type": "execute_result"
    }
   ],
   "source": [
    "a2"
   ]
  },
  {
   "cell_type": "code",
   "execution_count": 65,
   "id": "c1e99e7e",
   "metadata": {},
   "outputs": [
    {
     "data": {
      "text/plain": [
       "array([4, 5, 6, 7])"
      ]
     },
     "execution_count": 65,
     "metadata": {},
     "output_type": "execute_result"
    }
   ],
   "source": [
    "#slicing in 2d array\n",
    "a2[1,:] #need 2nd row"
   ]
  },
  {
   "cell_type": "code",
   "execution_count": 62,
   "id": "96d7bad0",
   "metadata": {},
   "outputs": [
    {
     "data": {
      "text/plain": [
       "array([ 2,  6, 10])"
      ]
     },
     "execution_count": 62,
     "metadata": {},
     "output_type": "execute_result"
    }
   ],
   "source": [
    "a2[:,2] #need column 3 "
   ]
  },
  {
   "cell_type": "code",
   "execution_count": 66,
   "id": "e3a19256",
   "metadata": {},
   "outputs": [
    {
     "data": {
      "text/plain": [
       "array([[ 5,  6],\n",
       "       [ 9, 10]])"
      ]
     },
     "execution_count": 66,
     "metadata": {},
     "output_type": "execute_result"
    }
   ],
   "source": [
    "a2[1:,1:3]#need column 1 and 2 , therefor 1:3 where 3 is not included"
   ]
  },
  {
   "cell_type": "code",
   "execution_count": 69,
   "id": "6279034d",
   "metadata": {},
   "outputs": [
    {
     "data": {
      "text/plain": [
       "array([[ 0,  3],\n",
       "       [ 8, 11]])"
      ]
     },
     "execution_count": 69,
     "metadata": {},
     "output_type": "execute_result"
    }
   ],
   "source": [
    "#suppose in a2 we need 0,3,8,11\n",
    "\n",
    "a2[::2,::3] # [rows eveything with interval of 2,columns everything with interval of 3]"
   ]
  },
  {
   "cell_type": "code",
   "execution_count": 78,
   "id": "78290edf",
   "metadata": {},
   "outputs": [
    {
     "data": {
      "text/plain": [
       "array([[ 1,  3],\n",
       "       [ 9, 11]])"
      ]
     },
     "execution_count": 78,
     "metadata": {},
     "output_type": "execute_result"
    }
   ],
   "source": [
    "# a2 we need 1,3,9,11\n",
    "\n",
    "a2[::,1::3]"
   ]
  },
  {
   "cell_type": "code",
   "execution_count": 80,
   "id": "3efcf764",
   "metadata": {},
   "outputs": [
    {
     "data": {
      "text/plain": [
       "array([[1, 2, 3],\n",
       "       [5, 6, 7]])"
      ]
     },
     "execution_count": 80,
     "metadata": {},
     "output_type": "execute_result"
    }
   ],
   "source": [
    "a2[0:2,1:]"
   ]
  },
  {
   "cell_type": "code",
   "execution_count": 83,
   "id": "87072aad",
   "metadata": {},
   "outputs": [
    {
     "data": {
      "text/plain": [
       "array([[[ 0,  1,  2],\n",
       "        [ 3,  4,  5],\n",
       "        [ 6,  7,  8]],\n",
       "\n",
       "       [[ 9, 10, 11],\n",
       "        [12, 13, 14],\n",
       "        [15, 16, 17]],\n",
       "\n",
       "       [[18, 19, 20],\n",
       "        [21, 22, 23],\n",
       "        [24, 25, 26]]])"
      ]
     },
     "execution_count": 83,
     "metadata": {},
     "output_type": "execute_result"
    }
   ],
   "source": [
    "a3= np.arange(27).reshape(3,3,3)\n",
    "a3"
   ]
  },
  {
   "cell_type": "code",
   "execution_count": 92,
   "id": "7ce3b2a0",
   "metadata": {},
   "outputs": [
    {
     "data": {
      "text/plain": [
       "array([[[ 0,  1,  2],\n",
       "        [ 3,  4,  5],\n",
       "        [ 6,  7,  8]],\n",
       "\n",
       "       [[18, 19, 20],\n",
       "        [21, 22, 23],\n",
       "        [24, 25, 26]]])"
      ]
     },
     "execution_count": 92,
     "metadata": {},
     "output_type": "execute_result"
    }
   ],
   "source": [
    "a3[::2]"
   ]
  },
  {
   "cell_type": "code",
   "execution_count": 96,
   "id": "9c3a8bf2",
   "metadata": {},
   "outputs": [
    {
     "data": {
      "text/plain": [
       "array([3, 4, 5])"
      ]
     },
     "execution_count": 96,
     "metadata": {},
     "output_type": "execute_result"
    }
   ],
   "source": [
    "# if we need 1st 2d array 2nd row\n",
    "\n",
    "\n",
    "a3[0,1,:]"
   ]
  },
  {
   "cell_type": "code",
   "execution_count": 98,
   "id": "c72b1703",
   "metadata": {},
   "outputs": [
    {
     "data": {
      "text/plain": [
       "array([[10],\n",
       "       [13],\n",
       "       [16]])"
      ]
     },
     "execution_count": 98,
     "metadata": {},
     "output_type": "execute_result"
    }
   ],
   "source": [
    "a3[1,:,1:2] # 2nd 2d array all rows, wand column 1"
   ]
  },
  {
   "cell_type": "code",
   "execution_count": 99,
   "id": "b3eb26cf",
   "metadata": {},
   "outputs": [
    {
     "data": {
      "text/plain": [
       "array([[22, 23],\n",
       "       [25, 26]])"
      ]
     },
     "execution_count": 99,
     "metadata": {},
     "output_type": "execute_result"
    }
   ],
   "source": [
    "a3[2,1:3,1:3]"
   ]
  },
  {
   "cell_type": "code",
   "execution_count": 100,
   "id": "b8611088",
   "metadata": {},
   "outputs": [],
   "source": [
    "#iteration on numpy array"
   ]
  },
  {
   "cell_type": "code",
   "execution_count": 101,
   "id": "ccc857a2",
   "metadata": {},
   "outputs": [
    {
     "data": {
      "text/plain": [
       "array([0, 1, 2, 3, 4, 5, 6, 7, 8, 9])"
      ]
     },
     "execution_count": 101,
     "metadata": {},
     "output_type": "execute_result"
    }
   ],
   "source": [
    "a1"
   ]
  },
  {
   "cell_type": "code",
   "execution_count": 102,
   "id": "0df632e9",
   "metadata": {},
   "outputs": [
    {
     "data": {
      "text/plain": [
       "array([[ 0,  1,  2,  3],\n",
       "       [ 4,  5,  6,  7],\n",
       "       [ 8,  9, 10, 11]])"
      ]
     },
     "execution_count": 102,
     "metadata": {},
     "output_type": "execute_result"
    }
   ],
   "source": [
    "a2"
   ]
  },
  {
   "cell_type": "code",
   "execution_count": 103,
   "id": "cb33a178",
   "metadata": {},
   "outputs": [
    {
     "data": {
      "text/plain": [
       "array([[[ 0,  1,  2],\n",
       "        [ 3,  4,  5],\n",
       "        [ 6,  7,  8]],\n",
       "\n",
       "       [[ 9, 10, 11],\n",
       "        [12, 13, 14],\n",
       "        [15, 16, 17]],\n",
       "\n",
       "       [[18, 19, 20],\n",
       "        [21, 22, 23],\n",
       "        [24, 25, 26]]])"
      ]
     },
     "execution_count": 103,
     "metadata": {},
     "output_type": "execute_result"
    }
   ],
   "source": [
    "a3"
   ]
  },
  {
   "cell_type": "code",
   "execution_count": 104,
   "id": "c436da59",
   "metadata": {},
   "outputs": [
    {
     "name": "stdout",
     "output_type": "stream",
     "text": [
      "0\n",
      "1\n",
      "2\n",
      "3\n",
      "4\n",
      "5\n",
      "6\n",
      "7\n",
      "8\n",
      "9\n"
     ]
    }
   ],
   "source": [
    "for i in a1:\n",
    "    print(i)"
   ]
  },
  {
   "cell_type": "code",
   "execution_count": 105,
   "id": "fe00e5fb",
   "metadata": {},
   "outputs": [
    {
     "name": "stdout",
     "output_type": "stream",
     "text": [
      "[0 1 2 3]\n",
      "[4 5 6 7]\n",
      "[ 8  9 10 11]\n"
     ]
    }
   ],
   "source": [
    "for i in a2:\n",
    "    print(i)"
   ]
  },
  {
   "cell_type": "code",
   "execution_count": 106,
   "id": "ca849710",
   "metadata": {},
   "outputs": [
    {
     "name": "stdout",
     "output_type": "stream",
     "text": [
      "[[0 1 2]\n",
      " [3 4 5]\n",
      " [6 7 8]]\n",
      "[[ 9 10 11]\n",
      " [12 13 14]\n",
      " [15 16 17]]\n",
      "[[18 19 20]\n",
      " [21 22 23]\n",
      " [24 25 26]]\n"
     ]
    }
   ],
   "source": [
    "for i in a3:\n",
    "    print(i)"
   ]
  },
  {
   "cell_type": "code",
   "execution_count": 108,
   "id": "da7c704f",
   "metadata": {},
   "outputs": [
    {
     "name": "stdout",
     "output_type": "stream",
     "text": [
      "0\n",
      "1\n",
      "2\n",
      "3\n",
      "4\n",
      "5\n",
      "6\n",
      "7\n",
      "8\n",
      "9\n",
      "10\n",
      "11\n",
      "12\n",
      "13\n",
      "14\n",
      "15\n",
      "16\n",
      "17\n",
      "18\n",
      "19\n",
      "20\n",
      "21\n",
      "22\n",
      "23\n",
      "24\n",
      "25\n",
      "26\n"
     ]
    }
   ],
   "source": [
    "for i in np.nditer(a3):  #this nd.iter will first convertt the 3d array to 2d and then convert it to 1d\n",
    "    print(i)"
   ]
  },
  {
   "cell_type": "code",
   "execution_count": 109,
   "id": "8554b641",
   "metadata": {},
   "outputs": [
    {
     "data": {
      "text/plain": [
       "array([[ 0,  4,  8],\n",
       "       [ 1,  5,  9],\n",
       "       [ 2,  6, 10],\n",
       "       [ 3,  7, 11]])"
      ]
     },
     "execution_count": 109,
     "metadata": {},
     "output_type": "execute_result"
    }
   ],
   "source": [
    "# Transpose\n",
    "np.transpose(a2)"
   ]
  },
  {
   "cell_type": "code",
   "execution_count": 110,
   "id": "3519ad28",
   "metadata": {},
   "outputs": [
    {
     "data": {
      "text/plain": [
       "array([[ 0,  4,  8],\n",
       "       [ 1,  5,  9],\n",
       "       [ 2,  6, 10],\n",
       "       [ 3,  7, 11]])"
      ]
     },
     "execution_count": 110,
     "metadata": {},
     "output_type": "execute_result"
    }
   ],
   "source": [
    "a2.T"
   ]
  },
  {
   "cell_type": "code",
   "execution_count": 111,
   "id": "306b24fb",
   "metadata": {},
   "outputs": [],
   "source": [
    "#STACKING"
   ]
  },
  {
   "cell_type": "code",
   "execution_count": 117,
   "id": "b922bbb3",
   "metadata": {},
   "outputs": [
    {
     "data": {
      "text/plain": [
       "array([[ 0,  1,  2,  3, 12, 13, 14, 15, 12, 13, 14, 15],\n",
       "       [ 4,  5,  6,  7, 16, 17, 18, 19, 16, 17, 18, 19],\n",
       "       [ 8,  9, 10, 11, 20, 21, 22, 23, 20, 21, 22, 23]])"
      ]
     },
     "execution_count": 117,
     "metadata": {},
     "output_type": "execute_result"
    }
   ],
   "source": [
    "#horizontal stacking : say we have a [2*2][2*2] , now we stack them horixonatlly , it'll become [2*4]\n",
    "\n",
    "b1= np.arange(12).reshape(3,4)\n",
    "b2= np.arange(12,24).reshape(3,4)\n",
    "np.hstack((b1,b2,b2))"
   ]
  },
  {
   "cell_type": "code",
   "execution_count": 119,
   "id": "39f418ac",
   "metadata": {},
   "outputs": [
    {
     "data": {
      "text/plain": [
       "array([[ 0,  1,  2,  3],\n",
       "       [ 4,  5,  6,  7],\n",
       "       [ 8,  9, 10, 11],\n",
       "       [12, 13, 14, 15],\n",
       "       [16, 17, 18, 19],\n",
       "       [20, 21, 22, 23],\n",
       "       [12, 13, 14, 15],\n",
       "       [16, 17, 18, 19],\n",
       "       [20, 21, 22, 23]])"
      ]
     },
     "execution_count": 119,
     "metadata": {},
     "output_type": "execute_result"
    }
   ],
   "source": [
    "#Vertical stacking : say we have a [2*2][2*2] , now we stack them vertical , it'll become [4*2]\n",
    "np.vstack((b1,b2,b2))"
   ]
  },
  {
   "cell_type": "code",
   "execution_count": 120,
   "id": "b3fe90f4",
   "metadata": {},
   "outputs": [],
   "source": [
    "#SPLITTING Point to note : hsplit is splitting vertically and v split is splitting horizontally"
   ]
  },
  {
   "cell_type": "code",
   "execution_count": 122,
   "id": "0cef546f",
   "metadata": {},
   "outputs": [
    {
     "name": "stdout",
     "output_type": "stream",
     "text": [
      "[[12 13 14 15]\n",
      " [16 17 18 19]\n",
      " [20 21 22 23]]\n"
     ]
    },
    {
     "data": {
      "text/plain": [
       "[array([[12, 13],\n",
       "        [16, 17],\n",
       "        [20, 21]]),\n",
       " array([[14, 15],\n",
       "        [18, 19],\n",
       "        [22, 23]])]"
      ]
     },
     "execution_count": 122,
     "metadata": {},
     "output_type": "execute_result"
    }
   ],
   "source": [
    "#horizontal splitting\n",
    "# splitting b2 into two equal parts\n",
    "print(b2)\n",
    "np.hsplit(b2,2)"
   ]
  },
  {
   "cell_type": "code",
   "execution_count": 126,
   "id": "d488783b",
   "metadata": {},
   "outputs": [
    {
     "name": "stdout",
     "output_type": "stream",
     "text": [
      "[[ 0  1  2  3]\n",
      " [ 4  5  6  7]\n",
      " [ 8  9 10 11]]\n"
     ]
    },
    {
     "data": {
      "text/plain": [
       "[array([[0, 1, 2, 3]]), array([[4, 5, 6, 7]]), array([[ 8,  9, 10, 11]])]"
      ]
     },
     "execution_count": 126,
     "metadata": {},
     "output_type": "execute_result"
    }
   ],
   "source": [
    "#vertical splitting\n",
    "print(b1)\n",
    "np.vsplit(b1,3)"
   ]
  },
  {
   "cell_type": "code",
   "execution_count": 2,
   "id": "f594fe7c",
   "metadata": {},
   "outputs": [
    {
     "name": "stdout",
     "output_type": "stream",
     "text": [
      "3.1489646434783936\n"
     ]
    }
   ],
   "source": [
    "#Numpy array vs Python Lists\n",
    "#why is numpy preferred than lists?\n",
    "# 1. SPEED\n",
    "\n",
    "\n",
    "import time\n",
    "a = [i for i in range(10000000)]\n",
    "b = [ i for i in range(100000000, 200000000)]\n",
    "c= []\n",
    "start  =time.time()\n",
    "for i in range(len(a)):\n",
    "    c.append(a[i]+b[i])\n",
    "print(time.time() -start)"
   ]
  },
  {
   "cell_type": "code",
   "execution_count": 3,
   "id": "e9d8e66e",
   "metadata": {},
   "outputs": [
    {
     "name": "stdout",
     "output_type": "stream",
     "text": [
      "0.11002111434936523\n"
     ]
    }
   ],
   "source": [
    "# same above code in numpy\n",
    "\n",
    "import numpy as np \n",
    "a = np.arange(10000000)\n",
    "b = np.arange(10000000, 20000000)\n",
    "start  =time.time()\n",
    "c =a+b\n",
    "print(time.time() -start)\n",
    "\n",
    "# # there is a lot of diff between list and array in terms of speed. \n",
    "# this is because numpy is a static array\n",
    "# # whereas lists is a dynamic array. \n",
    "# Also, numpy is not a referential array as they do not store the value \n",
    "# is directly store in the memore and not in the address, whereas lists is a referential array  "
   ]
  },
  {
   "cell_type": "code",
   "execution_count": 6,
   "id": "22adbd8a",
   "metadata": {},
   "outputs": [
    {
     "data": {
      "text/plain": [
       "89095160"
      ]
     },
     "execution_count": 6,
     "metadata": {},
     "output_type": "execute_result"
    }
   ],
   "source": [
    "#2.Memory\n",
    "a = [i for i in range(10000000)]\n",
    "import sys\n",
    "sys.getsizeof(a)"
   ]
  },
  {
   "cell_type": "code",
   "execution_count": 14,
   "id": "699362bb",
   "metadata": {},
   "outputs": [
    {
     "data": {
      "text/plain": [
       "dtype('int8')"
      ]
     },
     "execution_count": 14,
     "metadata": {},
     "output_type": "execute_result"
    }
   ],
   "source": [
    "a = np.arange(10000000, dtype = np.int8)\n",
    "sys.getsizeof(a)\n",
    "a.dtype"
   ]
  },
  {
   "cell_type": "code",
   "execution_count": 16,
   "id": "07cdea82",
   "metadata": {},
   "outputs": [
    {
     "data": {
      "text/plain": [
       "array([[ 0,  1,  2,  3],\n",
       "       [ 4,  5,  6,  7],\n",
       "       [ 8,  9, 10, 11],\n",
       "       [12, 13, 14, 15],\n",
       "       [16, 17, 18, 19],\n",
       "       [20, 21, 22, 23]])"
      ]
     },
     "execution_count": 16,
     "metadata": {},
     "output_type": "execute_result"
    }
   ],
   "source": [
    "#fancy indexing\n",
    "a1  = np.arange(24).reshape(6,4)\n",
    "a1"
   ]
  },
  {
   "cell_type": "code",
   "execution_count": 20,
   "id": "60724faa",
   "metadata": {},
   "outputs": [
    {
     "name": "stdout",
     "output_type": "stream",
     "text": [
      "[[ 0  1  2  3]\n",
      " [ 4  5  6  7]\n",
      " [16 17 18 19]\n",
      " [20 21 22 23]]\n"
     ]
    }
   ],
   "source": [
    "# now we want 1st 2nd 5, 6th row\n",
    "\n",
    "print(a1[[0,1,4,5]])"
   ]
  },
  {
   "cell_type": "code",
   "execution_count": 21,
   "id": "faca3d11",
   "metadata": {},
   "outputs": [
    {
     "data": {
      "text/plain": [
       "array([[ 0,  1,  3],\n",
       "       [ 4,  5,  7],\n",
       "       [ 8,  9, 11],\n",
       "       [12, 13, 15],\n",
       "       [16, 17, 19],\n",
       "       [20, 21, 23]])"
      ]
     },
     "execution_count": 21,
     "metadata": {},
     "output_type": "execute_result"
    }
   ],
   "source": [
    "#suppose we need 1st column, 2nd column , 4th\n",
    "\n",
    "a1[:,[0,1,3]]"
   ]
  },
  {
   "cell_type": "code",
   "execution_count": 24,
   "id": "20ee3061",
   "metadata": {},
   "outputs": [],
   "source": [
    "#boolean indexing  ( very important)\n",
    "\n",
    "a= np.random.randint(1,100,24).reshape(6,4)"
   ]
  },
  {
   "cell_type": "code",
   "execution_count": 27,
   "id": "16120210",
   "metadata": {},
   "outputs": [
    {
     "name": "stdout",
     "output_type": "stream",
     "text": [
      "[[False False False False]\n",
      " [False  True  True  True]\n",
      " [False  True False  True]\n",
      " [ True False  True False]\n",
      " [ True False  True  True]\n",
      " [ True False False False]]\n"
     ]
    },
    {
     "data": {
      "text/plain": [
       "array([81, 54, 88, 78, 99, 81, 64, 63, 74, 68, 94])"
      ]
     },
     "execution_count": 27,
     "metadata": {},
     "output_type": "execute_result"
    }
   ],
   "source": [
    "# find all the numbers greater than 50\n",
    "print(a > 50)\n",
    "a[a > 50]"
   ]
  },
  {
   "cell_type": "code",
   "execution_count": 29,
   "id": "9dddb79f",
   "metadata": {},
   "outputs": [
    {
     "data": {
      "text/plain": [
       "array([32, 54, 88, 18, 78,  8, 64, 38, 26, 74, 68, 94, 40, 22])"
      ]
     },
     "execution_count": 29,
     "metadata": {},
     "output_type": "execute_result"
    }
   ],
   "source": [
    "#find out only even numbers\n",
    "a[a%2==0]"
   ]
  },
  {
   "cell_type": "code",
   "execution_count": 33,
   "id": "543346b9",
   "metadata": {},
   "outputs": [
    {
     "data": {
      "text/plain": [
       "array([54, 88, 78, 64, 74, 68, 94])"
      ]
     },
     "execution_count": 33,
     "metadata": {},
     "output_type": "execute_result"
    }
   ],
   "source": [
    "#find out all number greater than 50 and is even\n",
    "a[(a>50) & (a%2 ==0)]  # 'and' is a logical and '&' is a bitwise and"
   ]
  },
  {
   "cell_type": "code",
   "execution_count": 34,
   "id": "97199824",
   "metadata": {},
   "outputs": [
    {
     "data": {
      "text/plain": [
       "array([63])"
      ]
     },
     "execution_count": 34,
     "metadata": {},
     "output_type": "execute_result"
    }
   ],
   "source": [
    "#find out all numbers divisible by 7\n",
    "a[a%7 ==0]"
   ]
  },
  {
   "cell_type": "code",
   "execution_count": 37,
   "id": "74f70991",
   "metadata": {},
   "outputs": [
    {
     "name": "stdout",
     "output_type": "stream",
     "text": [
      "[[0 1 2]\n",
      " [3 4 5]]\n",
      "[[ 6  7  8]\n",
      " [ 9 10 11]]\n",
      "[[ 6  8 10]\n",
      " [12 14 16]]\n"
     ]
    }
   ],
   "source": [
    "#Broadcasting - describes how numpy treats arrays wth diff shapes during arth operation\n",
    "#same shape\n",
    "\n",
    "a = np.arange(6).reshape(2,3)\n",
    "b = np.arange(6,12).reshape(2,3)\n",
    "print(a)\n",
    "print(b)\n",
    "print(a+b)"
   ]
  },
  {
   "cell_type": "code",
   "execution_count": 39,
   "id": "74e3d2f6",
   "metadata": {},
   "outputs": [
    {
     "name": "stdout",
     "output_type": "stream",
     "text": [
      "[[0 1 2]\n",
      " [3 4 5]]\n",
      "[[0 1 2]]\n",
      "[[0 2 4]\n",
      " [3 5 7]]\n"
     ]
    }
   ],
   "source": [
    "#diff shape\n",
    "\n",
    "a = np.arange(6).reshape(2,3)\n",
    "b = np.arange(3).reshape(1,3)\n",
    "print(a)\n",
    "print(b)\n",
    "print(a+b)"
   ]
  },
  {
   "cell_type": "code",
   "execution_count": null,
   "id": "69afa102",
   "metadata": {},
   "outputs": [],
   "source": []
  }
 ],
 "metadata": {
  "kernelspec": {
   "display_name": "Python 3 (ipykernel)",
   "language": "python",
   "name": "python3"
  },
  "language_info": {
   "codemirror_mode": {
    "name": "ipython",
    "version": 3
   },
   "file_extension": ".py",
   "mimetype": "text/x-python",
   "name": "python",
   "nbconvert_exporter": "python",
   "pygments_lexer": "ipython3",
   "version": "3.11.4"
  }
 },
 "nbformat": 4,
 "nbformat_minor": 5
}
