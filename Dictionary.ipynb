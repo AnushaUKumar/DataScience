{
 "cells": [
  {
   "cell_type": "code",
   "execution_count": 1,
   "id": "ce326cad",
   "metadata": {},
   "outputs": [],
   "source": [
    "#Dictionary\n",
    "#mutable\n",
    "#indexing doesnt not work\n",
    "#keys cannot be repeated\n",
    "#keys cant be mutable items\n"
   ]
  },
  {
   "cell_type": "code",
   "execution_count": 2,
   "id": "baaa07cb",
   "metadata": {},
   "outputs": [],
   "source": [
    "#empty dictionary"
   ]
  },
  {
   "cell_type": "code",
   "execution_count": 3,
   "id": "8aa5e557",
   "metadata": {},
   "outputs": [
    {
     "data": {
      "text/plain": [
       "{}"
      ]
     },
     "execution_count": 3,
     "metadata": {},
     "output_type": "execute_result"
    }
   ],
   "source": [
    "d= {}\n",
    "d"
   ]
  },
  {
   "cell_type": "code",
   "execution_count": 5,
   "id": "7b6cc766",
   "metadata": {},
   "outputs": [
    {
     "data": {
      "text/plain": [
       "{'name': 'a', 'age': 27}"
      ]
     },
     "execution_count": 5,
     "metadata": {},
     "output_type": "execute_result"
    }
   ],
   "source": [
    "#1d dictionary\n",
    "\n",
    "d1 = {'name': 'a','age': 27}\n",
    "d1"
   ]
  },
  {
   "cell_type": "code",
   "execution_count": 6,
   "id": "034099da",
   "metadata": {},
   "outputs": [
    {
     "data": {
      "text/plain": [
       "{'name': 'nitish',\n",
       " 'college': 'bit',\n",
       " 'sem': 4,\n",
       " 'subjects': {'dsa': 50, 'maths': 67, 'english': 34}}"
      ]
     },
     "execution_count": 6,
     "metadata": {},
     "output_type": "execute_result"
    }
   ],
   "source": [
    "#2d dict\n",
    "\n",
    "s = {\n",
    "    'name':'nitish', 'college' : 'bit' , 'sem':4,\n",
    "    'subjects' : {\n",
    "        'dsa' : 50,\n",
    "        'maths':67,\n",
    "        'english': 34\n",
    "    }\n",
    "}\n",
    "\n",
    "s"
   ]
  },
  {
   "cell_type": "code",
   "execution_count": 11,
   "id": "08cacc38",
   "metadata": {},
   "outputs": [
    {
     "data": {
      "text/plain": [
       "27"
      ]
     },
     "execution_count": 11,
     "metadata": {},
     "output_type": "execute_result"
    }
   ],
   "source": [
    "#accessing items\n",
    "\n",
    "a = { 'name' : 'Anusha' , 'age' : 27}\n",
    "a['name']\n",
    "\n",
    "#or\n",
    "\n",
    "a.get('age')"
   ]
  },
  {
   "cell_type": "code",
   "execution_count": 13,
   "id": "d1a3221d",
   "metadata": {},
   "outputs": [
    {
     "data": {
      "text/plain": [
       "{'name': 'Anusha', 'age': 27, 'gender': 'female'}"
      ]
     },
     "execution_count": 13,
     "metadata": {},
     "output_type": "execute_result"
    }
   ],
   "source": [
    "#adding new key value pair\n",
    "\n",
    "a['gender'] ='female'\n",
    "a"
   ]
  },
  {
   "cell_type": "code",
   "execution_count": 15,
   "id": "efd1580e",
   "metadata": {},
   "outputs": [
    {
     "name": "stdout",
     "output_type": "stream",
     "text": [
      "{'age': 27, 'gender': 'female'}\n"
     ]
    }
   ],
   "source": [
    "#remove key value pair\n",
    "\n",
    "#pop\n",
    "\n",
    "d = {'name': 'Anusha', 'age': 27, 'gender': 'female'}\n",
    "d.pop('name')\n",
    "print(d)"
   ]
  },
  {
   "cell_type": "code",
   "execution_count": 16,
   "id": "0e22ca61",
   "metadata": {},
   "outputs": [
    {
     "name": "stdout",
     "output_type": "stream",
     "text": [
      "{'age': 27}\n"
     ]
    }
   ],
   "source": [
    "#popitem - removes the last key value oair in the dictionary\n",
    "\n",
    "d.popitem()\n",
    "print(d)"
   ]
  },
  {
   "cell_type": "code",
   "execution_count": 17,
   "id": "c619f281",
   "metadata": {},
   "outputs": [
    {
     "name": "stdout",
     "output_type": "stream",
     "text": [
      "{}\n"
     ]
    }
   ],
   "source": [
    "del d['age']\n",
    "print(d)"
   ]
  },
  {
   "cell_type": "code",
   "execution_count": 20,
   "id": "ef37ccf5",
   "metadata": {},
   "outputs": [
    {
     "data": {
      "text/plain": [
       "67"
      ]
     },
     "execution_count": 20,
     "metadata": {},
     "output_type": "execute_result"
    }
   ],
   "source": [
    " \n",
    "s = {\n",
    "    'name':'nitish', 'college' : 'bit' , 'sem':4,\n",
    "    'subjects' : {\n",
    "        'dsa' : 50,\n",
    "        'maths':67,\n",
    "        'english': 34\n",
    "    }\n",
    "}\n",
    "\n",
    "s['subjects']['maths']\n"
   ]
  },
  {
   "cell_type": "code",
   "execution_count": 21,
   "id": "b709f5ce",
   "metadata": {},
   "outputs": [],
   "source": [
    "s['subjects']['data science'] = 99"
   ]
  },
  {
   "cell_type": "code",
   "execution_count": 22,
   "id": "be17a359",
   "metadata": {},
   "outputs": [
    {
     "data": {
      "text/plain": [
       "{'name': 'nitish',\n",
       " 'college': 'bit',\n",
       " 'sem': 4,\n",
       " 'subjects': {'dsa': 50, 'maths': 67, 'english': 34, 'data science': 99}}"
      ]
     },
     "execution_count": 22,
     "metadata": {},
     "output_type": "execute_result"
    }
   ],
   "source": [
    "s"
   ]
  },
  {
   "cell_type": "code",
   "execution_count": 23,
   "id": "4446ed50",
   "metadata": {},
   "outputs": [
    {
     "name": "stdout",
     "output_type": "stream",
     "text": [
      "name Anusha\n",
      "age 27\n",
      "gender female\n"
     ]
    }
   ],
   "source": [
    "\n",
    "d = {'name': 'Anusha', 'age': 27, 'gender': 'female'}\n",
    "\n",
    "for i in d:\n",
    "    print(i,d[i])"
   ]
  },
  {
   "cell_type": "code",
   "execution_count": 24,
   "id": "b9dc6104",
   "metadata": {},
   "outputs": [],
   "source": [
    "#dictionary functions"
   ]
  },
  {
   "cell_type": "code",
   "execution_count": 25,
   "id": "0f34e08d",
   "metadata": {},
   "outputs": [
    {
     "data": {
      "text/plain": [
       "3"
      ]
     },
     "execution_count": 25,
     "metadata": {},
     "output_type": "execute_result"
    }
   ],
   "source": [
    "len(d)"
   ]
  },
  {
   "cell_type": "code",
   "execution_count": 26,
   "id": "45dd943c",
   "metadata": {},
   "outputs": [
    {
     "data": {
      "text/plain": [
       "['age', 'gender', 'name']"
      ]
     },
     "execution_count": 26,
     "metadata": {},
     "output_type": "execute_result"
    }
   ],
   "source": [
    "#sorted will sort the keys\n",
    "\n",
    "sorted(d)"
   ]
  },
  {
   "cell_type": "code",
   "execution_count": 30,
   "id": "458ce618",
   "metadata": {},
   "outputs": [
    {
     "name": "stdout",
     "output_type": "stream",
     "text": [
      "{'name': 'Anusha', 'age': 27, 'gender': 'female'}\n",
      "dict_items([('name', 'Anusha'), ('age', 27), ('gender', 'female')])\n",
      "dict_keys(['name', 'age', 'gender'])\n",
      "dict_values(['Anusha', 27, 'female'])\n"
     ]
    }
   ],
   "source": [
    "#items /keys/values\n",
    "print(d)\n",
    "print(d.items())\n",
    "\n",
    "print(d.keys())\n",
    "print(d.values())"
   ]
  },
  {
   "cell_type": "code",
   "execution_count": 32,
   "id": "5ea1fd79",
   "metadata": {},
   "outputs": [
    {
     "data": {
      "text/plain": [
       "{'a': 1, 'b': 3, 'c': 6, 'd': 4, 'e': 7}"
      ]
     },
     "execution_count": 32,
     "metadata": {},
     "output_type": "execute_result"
    }
   ],
   "source": [
    "d1= {'a' : 1 , 'b' : 3 , 'c' : 6}\n",
    "d2= {'d' :4 , 'e' : 7}\n",
    "d1.update(d2)\n",
    "d1"
   ]
  },
  {
   "cell_type": "code",
   "execution_count": 33,
   "id": "102445dc",
   "metadata": {},
   "outputs": [
    {
     "data": {
      "text/plain": [
       "{1: 1, 2: 4, 3: 9, 4: 16, 5: 25, 6: 36, 7: 49, 8: 64, 9: 81, 10: 100}"
      ]
     },
     "execution_count": 33,
     "metadata": {},
     "output_type": "execute_result"
    }
   ],
   "source": [
    "#dict comprehension\n",
    "\n",
    "{ i : i**2 for i in range(1,11)}"
   ]
  },
  {
   "cell_type": "code",
   "execution_count": 35,
   "id": "09e7bf0b",
   "metadata": {},
   "outputs": [
    {
     "data": {
      "text/plain": [
       "{'d': 72.44359600749901, 'm': 111.33676474718055, 'b': 262.97580422745256}"
      ]
     },
     "execution_count": 35,
     "metadata": {},
     "output_type": "execute_result"
    }
   ],
   "source": [
    "#using existign dict\n",
    "\n",
    "distance = {'d': 1000, 'm' : 2000 , 'b' :8000}\n",
    "{a:b**0.62 for (a,b) in distance.items()}"
   ]
  },
  {
   "cell_type": "code",
   "execution_count": 40,
   "id": "6eaf6217",
   "metadata": {},
   "outputs": [
    {
     "data": {
      "text/plain": [
       "{'sunday': 30,\n",
       " 'monday': 28,\n",
       " 'tuesday': 27,\n",
       " 'wednesday': 29,\n",
       " 'thursday': 44,\n",
       " 'friday': 27,\n",
       " 'saturday': 12}"
      ]
     },
     "execution_count": 40,
     "metadata": {},
     "output_type": "execute_result"
    }
   ],
   "source": [
    "#using zip dict comphrehension\n",
    "\n",
    "days = ['sunday', 'monday' , 'tuesday' , 'wednesday' , 'thursday' , 'friday' , 'saturday']\n",
    "temp = [ 30,28,27,29,44,27 ,12]\n",
    "\n",
    "{i:j for (i,j) in zip(days,temp)}"
   ]
  },
  {
   "cell_type": "code",
   "execution_count": 41,
   "id": "15f76099",
   "metadata": {},
   "outputs": [],
   "source": [
    "#using if condition\n",
    "\n",
    "prod = { 'phone' : 10 , 'laptop' : 0 , 'charger' : 32 , 'tablet' : 0}"
   ]
  },
  {
   "cell_type": "code",
   "execution_count": 42,
   "id": "7b5a9903",
   "metadata": {},
   "outputs": [
    {
     "data": {
      "text/plain": [
       "{'phone': 10, 'charger': 32}"
      ]
     },
     "execution_count": 42,
     "metadata": {},
     "output_type": "execute_result"
    }
   ],
   "source": [
    "{k:v for (k,v) in prod.items() if v >0}"
   ]
  },
  {
   "cell_type": "code",
   "execution_count": null,
   "id": "a88d99b7",
   "metadata": {},
   "outputs": [],
   "source": []
  }
 ],
 "metadata": {
  "kernelspec": {
   "display_name": "Python 3 (ipykernel)",
   "language": "python",
   "name": "python3"
  },
  "language_info": {
   "codemirror_mode": {
    "name": "ipython",
    "version": 3
   },
   "file_extension": ".py",
   "mimetype": "text/x-python",
   "name": "python",
   "nbconvert_exporter": "python",
   "pygments_lexer": "ipython3",
   "version": "3.11.4"
  }
 },
 "nbformat": 4,
 "nbformat_minor": 5
}
