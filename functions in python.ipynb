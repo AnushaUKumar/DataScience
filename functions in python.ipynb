{
 "cells": [
  {
   "cell_type": "code",
   "execution_count": 5,
   "id": "675739ce",
   "metadata": {},
   "outputs": [
    {
     "data": {
      "text/plain": [
       "'odd'"
      ]
     },
     "execution_count": 5,
     "metadata": {},
     "output_type": "execute_result"
    }
   ],
   "source": [
    "#function with docstring \"\"\"\"\"\"\n",
    "#philosphy of function is abstraction(ex: ghost seen in shadows but is not seen in a oicture \n",
    "#and Decomposition)\n",
    "\n",
    "\n",
    "def is_even(num):\n",
    "    \"\"\"\n",
    "    this function returns if a given number is odd or even\n",
    "    \"\"\"\n",
    "    if num %2 ==0 : \n",
    "        return 'even'\n",
    "    else:\n",
    "        return 'odd'\n",
    "    \n",
    "\n",
    "is_even(7)\n"
   ]
  },
  {
   "cell_type": "code",
   "execution_count": 7,
   "id": "f0e00697",
   "metadata": {},
   "outputs": [],
   "source": [
    "#Parameters vs Arguements\n",
    "\n",
    "# types of arguements \n",
    "# 1.Default arguements\n",
    "# 2.Positional arguements\n",
    "# 3.Keyword arguements \n",
    "\n",
    "def power(a,b):\n",
    "    return a**b\n"
   ]
  },
  {
   "cell_type": "code",
   "execution_count": 9,
   "id": "1b0d7f99",
   "metadata": {},
   "outputs": [
    {
     "data": {
      "text/plain": [
       "8"
      ]
     },
     "execution_count": 9,
     "metadata": {},
     "output_type": "execute_result"
    }
   ],
   "source": [
    "power(2,3)"
   ]
  },
  {
   "cell_type": "code",
   "execution_count": 10,
   "id": "02c969a6",
   "metadata": {},
   "outputs": [
    {
     "data": {
      "text/plain": [
       "1"
      ]
     },
     "execution_count": 10,
     "metadata": {},
     "output_type": "execute_result"
    }
   ],
   "source": [
    "def power(a=1 , b=1):\n",
    "    return a**b\n",
    "power()"
   ]
  },
  {
   "cell_type": "code",
   "execution_count": 11,
   "id": "4e694cb7",
   "metadata": {},
   "outputs": [],
   "source": [
    "#keyword arguement has more importance than positional arguements"
   ]
  },
  {
   "cell_type": "code",
   "execution_count": 13,
   "id": "9a516a52",
   "metadata": {},
   "outputs": [],
   "source": [
    "#*args and **kwargs - used to pass var length of arg to func"
   ]
  },
  {
   "cell_type": "code",
   "execution_count": 22,
   "id": "bb15152c",
   "metadata": {},
   "outputs": [],
   "source": [
    "#args - allows us to pass a variable no of non keyword arguements to a fucntion\n",
    "\n",
    "def multiply(a,b,c):\n",
    "    return a*b*c\n",
    "\n",
    "def mul(*args):\n",
    "    p = 1\n",
    "    for i in args:\n",
    "        p= p*i\n",
    "    print(args) #it actually starts adding vaues in a tuple and is used when we dont know how many input arg are there\n",
    "    return p"
   ]
  },
  {
   "cell_type": "code",
   "execution_count": 21,
   "id": "e3b2abae",
   "metadata": {},
   "outputs": [
    {
     "name": "stdout",
     "output_type": "stream",
     "text": [
      "(1, 2, 3, 4, 5, 5, 5)\n",
      "(1, 2, 3, 4, 5, 5, 5)\n",
      "(1, 2, 3, 4, 5, 5, 5)\n",
      "(1, 2, 3, 4, 5, 5, 5)\n",
      "(1, 2, 3, 4, 5, 5, 5)\n",
      "(1, 2, 3, 4, 5, 5, 5)\n",
      "(1, 2, 3, 4, 5, 5, 5)\n"
     ]
    },
    {
     "data": {
      "text/plain": [
       "3000"
      ]
     },
     "execution_count": 21,
     "metadata": {},
     "output_type": "execute_result"
    }
   ],
   "source": [
    "multiply(2,3,4)\n",
    "\n",
    "mul(1,2,3,4,5,5,5)"
   ]
  },
  {
   "cell_type": "code",
   "execution_count": 26,
   "id": "0c18b193",
   "metadata": {},
   "outputs": [],
   "source": [
    "#**kwargs\n",
    "\n",
    "# is used to add key value pairs\n",
    "\n",
    "def display(**kwargs):\n",
    "    for (k,v) in kwargs.items():\n",
    "        print(k, ':' ,v)"
   ]
  },
  {
   "cell_type": "code",
   "execution_count": 27,
   "id": "f7e35e66",
   "metadata": {},
   "outputs": [
    {
     "name": "stdout",
     "output_type": "stream",
     "text": [
      "india : delhi\n",
      "srilanka : colombo\n"
     ]
    }
   ],
   "source": [
    "display(india = 'delhi', srilanka = 'colombo')"
   ]
  },
  {
   "cell_type": "code",
   "execution_count": 28,
   "id": "d406ddb8",
   "metadata": {},
   "outputs": [
    {
     "data": {
      "text/plain": [
       "[1, 4, 9, 16, 25]"
      ]
     },
     "execution_count": 28,
     "metadata": {},
     "output_type": "execute_result"
    }
   ],
   "source": [
    " #MAP - expecets one lambda functiona and one list\n",
    "#square the items of a list\n",
    "list(map(lambda x:x**2,[1,2,3,4,5]))\n",
    "    \n"
   ]
  },
  {
   "cell_type": "code",
   "execution_count": null,
   "id": "89ccd99b",
   "metadata": {},
   "outputs": [],
   "source": [
    "#odd/even labelling of list\n",
    "\n",
    "list(map(lambda x: 'even' if x%2==0 else odd,[1,2,3,4,5,6]))"
   ]
  },
  {
   "cell_type": "code",
   "execution_count": 29,
   "id": "ba5acdb0",
   "metadata": {},
   "outputs": [],
   "source": [
    "#filter"
   ]
  },
  {
   "cell_type": "code",
   "execution_count": 30,
   "id": "b3b16d86",
   "metadata": {},
   "outputs": [],
   "source": [
    "#reduce"
   ]
  },
  {
   "cell_type": "code",
   "execution_count": null,
   "id": "bdbca006",
   "metadata": {},
   "outputs": [],
   "source": []
  }
 ],
 "metadata": {
  "kernelspec": {
   "display_name": "Python 3 (ipykernel)",
   "language": "python",
   "name": "python3"
  },
  "language_info": {
   "codemirror_mode": {
    "name": "ipython",
    "version": 3
   },
   "file_extension": ".py",
   "mimetype": "text/x-python",
   "name": "python",
   "nbconvert_exporter": "python",
   "pygments_lexer": "ipython3",
   "version": "3.11.4"
  }
 },
 "nbformat": 4,
 "nbformat_minor": 5
}
