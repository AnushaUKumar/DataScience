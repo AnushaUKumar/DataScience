{
 "cells": [
  {
   "cell_type": "code",
   "execution_count": 1,
   "id": "6f1d18f7",
   "metadata": {},
   "outputs": [],
   "source": [
    "#most used obejcts of pandas are -  dataframe and series"
   ]
  },
  {
   "cell_type": "code",
   "execution_count": 3,
   "id": "0337adf3",
   "metadata": {},
   "outputs": [],
   "source": [
    "#SERIES -  like a column in a table which holds a 1D data of any type "
   ]
  },
  {
   "cell_type": "code",
   "execution_count": 5,
   "id": "166225fd",
   "metadata": {},
   "outputs": [],
   "source": [
    "import numpy as np\n",
    "import pandas as pd"
   ]
  },
  {
   "cell_type": "markdown",
   "id": "fae36af4",
   "metadata": {},
   "source": [
    "#### Series from lists "
   ]
  },
  {
   "cell_type": "code",
   "execution_count": 6,
   "id": "018845d0",
   "metadata": {},
   "outputs": [],
   "source": [
    "country = [' India' , 'USA', 'UK', 'Nepal', 'Canada']"
   ]
  },
  {
   "cell_type": "code",
   "execution_count": 8,
   "id": "0503d5ac",
   "metadata": {},
   "outputs": [
    {
     "data": {
      "text/plain": [
       "0     India\n",
       "1       USA\n",
       "2        UK\n",
       "3     Nepal\n",
       "4    Canada\n",
       "dtype: object"
      ]
     },
     "execution_count": 8,
     "metadata": {},
     "output_type": "execute_result"
    }
   ],
   "source": [
    "pd.Series(country)  # value = countriies and the index - 0,1,2,3,4 "
   ]
  },
  {
   "cell_type": "code",
   "execution_count": 9,
   "id": "d7e1241c",
   "metadata": {},
   "outputs": [
    {
     "data": {
      "text/plain": [
       "0     31\n",
       "1     45\n",
       "2     68\n",
       "3     79\n",
       "4    100\n",
       "dtype: int64"
      ]
     },
     "execution_count": 9,
     "metadata": {},
     "output_type": "execute_result"
    }
   ],
   "source": [
    "#Integers  - observe the dtype\n",
    "runs = [31,45,68,79,100]\n",
    "pd.Series(runs)"
   ]
  },
  {
   "cell_type": "code",
   "execution_count": 10,
   "id": "642373b8",
   "metadata": {},
   "outputs": [
    {
     "data": {
      "text/plain": [
       "maths       65\n",
       "english     78\n",
       "science     98\n",
       "kannada    100\n",
       "dtype: int64"
      ]
     },
     "execution_count": 10,
     "metadata": {},
     "output_type": "execute_result"
    }
   ],
   "source": [
    "# if you want to change the index instead of the default index then  \n",
    "\n",
    "marks = [65,78,98,100]\n",
    "subjects = ['maths', 'english','science', 'kannada']\n",
    "#now i want the marks to be the value and index to have the subjects so \n",
    "\n",
    "pd.Series(marks,index=subjects)"
   ]
  },
  {
   "cell_type": "code",
   "execution_count": 12,
   "id": "9386b9ef",
   "metadata": {},
   "outputs": [
    {
     "data": {
      "text/plain": [
       "maths       65\n",
       "english     78\n",
       "science     98\n",
       "kannada    100\n",
       "Name: MY MARKS, dtype: int64"
      ]
     },
     "execution_count": 12,
     "metadata": {},
     "output_type": "execute_result"
    }
   ],
   "source": [
    "#setting a name - something like a title\n",
    "\n",
    "marks = pd.Series(marks,index=subjects, name = \"MY MARKS\")\n",
    "marks\n"
   ]
  },
  {
   "cell_type": "markdown",
   "id": "61bdfc12",
   "metadata": {},
   "source": [
    "## Series from Dictionary"
   ]
  },
  {
   "cell_type": "code",
   "execution_count": 15,
   "id": "b693b89a",
   "metadata": {},
   "outputs": [
    {
     "data": {
      "text/plain": [
       "maths        90\n",
       "english     100\n",
       "Kannada     200\n",
       "Name: MY MARKS, dtype: int64"
      ]
     },
     "execution_count": 15,
     "metadata": {},
     "output_type": "execute_result"
    }
   ],
   "source": [
    "marks = {\n",
    "    'maths' : 90,\n",
    "    'english ': 100,\n",
    "    'Kannada' : 200   \n",
    "}\n",
    "\n",
    "marks_series = pd.Series(marks,name = 'MY MARKS')\n",
    "marks_series"
   ]
  },
  {
   "cell_type": "markdown",
   "id": "14fc28c1",
   "metadata": {},
   "source": [
    "#### SERIES ATTRIBUTES"
   ]
  },
  {
   "cell_type": "code",
   "execution_count": 19,
   "id": "5261d28d",
   "metadata": {},
   "outputs": [
    {
     "data": {
      "text/plain": [
       "3"
      ]
     },
     "execution_count": 19,
     "metadata": {},
     "output_type": "execute_result"
    }
   ],
   "source": [
    "#size\n",
    "marks_series.size"
   ]
  },
  {
   "cell_type": "code",
   "execution_count": 20,
   "id": "3bdd1538",
   "metadata": {},
   "outputs": [
    {
     "data": {
      "text/plain": [
       "dtype('int64')"
      ]
     },
     "execution_count": 20,
     "metadata": {},
     "output_type": "execute_result"
    }
   ],
   "source": [
    "#dtype\n",
    "\n",
    "marks_series.dtype"
   ]
  },
  {
   "cell_type": "code",
   "execution_count": 21,
   "id": "c2ed3d65",
   "metadata": {},
   "outputs": [
    {
     "data": {
      "text/plain": [
       "'MY MARKS'"
      ]
     },
     "execution_count": 21,
     "metadata": {},
     "output_type": "execute_result"
    }
   ],
   "source": [
    "#name\n",
    "marks_series.name"
   ]
  },
  {
   "cell_type": "code",
   "execution_count": 24,
   "id": "644c34b5",
   "metadata": {},
   "outputs": [
    {
     "data": {
      "text/plain": [
       "True"
      ]
     },
     "execution_count": 24,
     "metadata": {},
     "output_type": "execute_result"
    }
   ],
   "source": [
    "#isunique - checks if any item is repeated in the series, if repeated  - it will return false\n",
    "#else true\n",
    "\n",
    "marks_series.is_unique"
   ]
  },
  {
   "cell_type": "code",
   "execution_count": 26,
   "id": "5d3089ba",
   "metadata": {},
   "outputs": [
    {
     "data": {
      "text/plain": [
       "False"
      ]
     },
     "execution_count": 26,
     "metadata": {},
     "output_type": "execute_result"
    }
   ],
   "source": [
    "pd.Series([1,2,3,4,4,5,6,6]).is_unique"
   ]
  },
  {
   "cell_type": "code",
   "execution_count": 28,
   "id": "4eec23bf",
   "metadata": {},
   "outputs": [
    {
     "data": {
      "text/plain": [
       "Index(['maths', 'english ', 'Kannada'], dtype='object')"
      ]
     },
     "execution_count": 28,
     "metadata": {},
     "output_type": "execute_result"
    }
   ],
   "source": [
    "#index- stores the index values of series\n",
    "marks_series.index"
   ]
  },
  {
   "cell_type": "code",
   "execution_count": 29,
   "id": "86b13fdb",
   "metadata": {},
   "outputs": [
    {
     "data": {
      "text/plain": [
       "array([ 90, 100, 200], dtype=int64)"
      ]
     },
     "execution_count": 29,
     "metadata": {},
     "output_type": "execute_result"
    }
   ],
   "source": [
    "#values\n",
    "\n",
    "marks_series.values"
   ]
  },
  {
   "cell_type": "code",
   "execution_count": 30,
   "id": "4ccb6d72",
   "metadata": {},
   "outputs": [
    {
     "data": {
      "text/plain": [
       "numpy.ndarray"
      ]
     },
     "execution_count": 30,
     "metadata": {},
     "output_type": "execute_result"
    }
   ],
   "source": [
    "type(marks_series.values)"
   ]
  },
  {
   "cell_type": "markdown",
   "id": "2f4511fb",
   "metadata": {},
   "source": [
    "#### Series using read_csv"
   ]
  },
  {
   "cell_type": "code",
   "execution_count": 37,
   "id": "166514bd",
   "metadata": {},
   "outputs": [
    {
     "data": {
      "text/html": [
       "<div>\n",
       "<style scoped>\n",
       "    .dataframe tbody tr th:only-of-type {\n",
       "        vertical-align: middle;\n",
       "    }\n",
       "\n",
       "    .dataframe tbody tr th {\n",
       "        vertical-align: top;\n",
       "    }\n",
       "\n",
       "    .dataframe thead th {\n",
       "        text-align: right;\n",
       "    }\n",
       "</style>\n",
       "<table border=\"1\" class=\"dataframe\">\n",
       "  <thead>\n",
       "    <tr style=\"text-align: right;\">\n",
       "      <th></th>\n",
       "      <th>Subscribers gained</th>\n",
       "    </tr>\n",
       "  </thead>\n",
       "  <tbody>\n",
       "    <tr>\n",
       "      <th>0</th>\n",
       "      <td>48</td>\n",
       "    </tr>\n",
       "    <tr>\n",
       "      <th>1</th>\n",
       "      <td>57</td>\n",
       "    </tr>\n",
       "    <tr>\n",
       "      <th>2</th>\n",
       "      <td>40</td>\n",
       "    </tr>\n",
       "    <tr>\n",
       "      <th>3</th>\n",
       "      <td>43</td>\n",
       "    </tr>\n",
       "    <tr>\n",
       "      <th>4</th>\n",
       "      <td>44</td>\n",
       "    </tr>\n",
       "    <tr>\n",
       "      <th>...</th>\n",
       "      <td>...</td>\n",
       "    </tr>\n",
       "    <tr>\n",
       "      <th>360</th>\n",
       "      <td>231</td>\n",
       "    </tr>\n",
       "    <tr>\n",
       "      <th>361</th>\n",
       "      <td>226</td>\n",
       "    </tr>\n",
       "    <tr>\n",
       "      <th>362</th>\n",
       "      <td>155</td>\n",
       "    </tr>\n",
       "    <tr>\n",
       "      <th>363</th>\n",
       "      <td>144</td>\n",
       "    </tr>\n",
       "    <tr>\n",
       "      <th>364</th>\n",
       "      <td>172</td>\n",
       "    </tr>\n",
       "  </tbody>\n",
       "</table>\n",
       "<p>365 rows × 1 columns</p>\n",
       "</div>"
      ],
      "text/plain": [
       "     Subscribers gained\n",
       "0                    48\n",
       "1                    57\n",
       "2                    40\n",
       "3                    43\n",
       "4                    44\n",
       "..                  ...\n",
       "360                 231\n",
       "361                 226\n",
       "362                 155\n",
       "363                 144\n",
       "364                 172\n",
       "\n",
       "[365 rows x 1 columns]"
      ]
     },
     "execution_count": 37,
     "metadata": {},
     "output_type": "execute_result"
    }
   ],
   "source": [
    "# with one column\n",
    "pd.read_csv('CSV/subs.csv') #the output is not a series"
   ]
  },
  {
   "cell_type": "code",
   "execution_count": 39,
   "id": "33b0beec",
   "metadata": {},
   "outputs": [
    {
     "data": {
      "text/plain": [
       "pandas.core.frame.DataFrame"
      ]
     },
     "execution_count": 39,
     "metadata": {},
     "output_type": "execute_result"
    }
   ],
   "source": [
    "type(pd.read_csv('CSV/subs.csv'))"
   ]
  },
  {
   "cell_type": "code",
   "execution_count": 55,
   "id": "8c1111ba",
   "metadata": {},
   "outputs": [
    {
     "name": "stderr",
     "output_type": "stream",
     "text": [
      "C:\\Users\\anush\\AppData\\Local\\Temp\\ipykernel_40280\\3255327353.py:3: FutureWarning: The squeeze argument has been deprecated and will be removed in a future version. Append .squeeze(\"columns\") to the call to squeeze.\n",
      "\n",
      "\n",
      "  subs=pd.read_csv('CSV/subs.csv', squeeze = True)\n"
     ]
    },
    {
     "data": {
      "text/plain": [
       "0       48\n",
       "1       57\n",
       "2       40\n",
       "3       43\n",
       "4       44\n",
       "      ... \n",
       "360    231\n",
       "361    226\n",
       "362    155\n",
       "363    144\n",
       "364    172\n",
       "Name: Subscribers gained, Length: 365, dtype: int64"
      ]
     },
     "execution_count": 55,
     "metadata": {},
     "output_type": "execute_result"
    }
   ],
   "source": [
    "#to convert it to series use squeeze\n",
    "\n",
    "subs=pd.read_csv('CSV/subs.csv', squeeze = True)\n",
    "subs"
   ]
  },
  {
   "cell_type": "code",
   "execution_count": 41,
   "id": "65c3bab9",
   "metadata": {},
   "outputs": [
    {
     "name": "stderr",
     "output_type": "stream",
     "text": [
      "C:\\Users\\anush\\AppData\\Local\\Temp\\ipykernel_40280\\1816956014.py:1: FutureWarning: The squeeze argument has been deprecated and will be removed in a future version. Append .squeeze(\"columns\") to the call to squeeze.\n",
      "\n",
      "\n",
      "  type(pd.read_csv('CSV/subs.csv', squeeze = True))\n"
     ]
    },
    {
     "data": {
      "text/plain": [
       "pandas.core.series.Series"
      ]
     },
     "execution_count": 41,
     "metadata": {},
     "output_type": "execute_result"
    }
   ],
   "source": [
    "type(pd.read_csv('CSV/subs.csv', squeeze = True))"
   ]
  },
  {
   "cell_type": "code",
   "execution_count": 74,
   "id": "515337ab",
   "metadata": {},
   "outputs": [
    {
     "name": "stderr",
     "output_type": "stream",
     "text": [
      "C:\\Users\\anush\\AppData\\Local\\Temp\\ipykernel_40280\\471991653.py:3: FutureWarning: The squeeze argument has been deprecated and will be removed in a future version. Append .squeeze(\"columns\") to the call to squeeze.\n",
      "\n",
      "\n",
      "  vk=pd.read_csv('CSV/kohli_ipl.csv',index_col = 'match_no',squeeze = True)\n"
     ]
    }
   ],
   "source": [
    "#with 2 columns\n",
    "\n",
    "vk=pd.read_csv('CSV/kohli_ipl.csv',index_col = 'match_no',squeeze = True)"
   ]
  },
  {
   "cell_type": "code",
   "execution_count": 65,
   "id": "63c01b70",
   "metadata": {},
   "outputs": [
    {
     "name": "stderr",
     "output_type": "stream",
     "text": [
      "C:\\Users\\anush\\AppData\\Local\\Temp\\ipykernel_40280\\506918353.py:3: FutureWarning: The squeeze argument has been deprecated and will be removed in a future version. Append .squeeze(\"columns\") to the call to squeeze.\n",
      "\n",
      "\n",
      "  movies= pd.read_csv('CSV/bollywood.csv',index_col = 'movie',squeeze = True)\n"
     ]
    },
    {
     "data": {
      "text/plain": [
       "movie\n",
       "Uri: The Surgical Strike                   Vicky Kaushal\n",
       "Battalion 609                                Vicky Ahuja\n",
       "The Accidental Prime Minister (film)         Anupam Kher\n",
       "Why Cheat India                            Emraan Hashmi\n",
       "Evening Shadows                         Mona Ambegaonkar\n",
       "                                              ...       \n",
       "Hum Tumhare Hain Sanam                    Shah Rukh Khan\n",
       "Aankhen (2002 film)                     Amitabh Bachchan\n",
       "Saathiya (film)                             Vivek Oberoi\n",
       "Company (film)                                Ajay Devgn\n",
       "Awara Paagal Deewana                        Akshay Kumar\n",
       "Name: lead, Length: 1500, dtype: object"
      ]
     },
     "execution_count": 65,
     "metadata": {},
     "output_type": "execute_result"
    }
   ],
   "source": [
    "#with 3 columns\n",
    "\n",
    "movies= pd.read_csv('CSV/bollywood.csv',index_col = 'movie',squeeze = True)\n",
    "movies"
   ]
  },
  {
   "cell_type": "markdown",
   "id": "8984f01b",
   "metadata": {},
   "source": [
    "#### SERIES METHODS"
   ]
  },
  {
   "cell_type": "code",
   "execution_count": 58,
   "id": "ae3aaf71",
   "metadata": {},
   "outputs": [
    {
     "name": "stdout",
     "output_type": "stream",
     "text": [
      "0    48\n",
      "1    57\n",
      "2    40\n",
      "3    43\n",
      "4    44\n",
      "Name: Subscribers gained, dtype: int64\n",
      "360    231\n",
      "361    226\n",
      "362    155\n",
      "363    144\n",
      "364    172\n",
      "Name: Subscribers gained, dtype: int64\n"
     ]
    }
   ],
   "source": [
    "#head and tail\n",
    "print(subs.head())\n",
    "print(subs.tail())"
   ]
  },
  {
   "cell_type": "code",
   "execution_count": 62,
   "id": "929227b8",
   "metadata": {},
   "outputs": [
    {
     "name": "stdout",
     "output_type": "stream",
     "text": [
      "0     48\n",
      "1     57\n",
      "2     40\n",
      "3     43\n",
      "4     44\n",
      "5     46\n",
      "6     33\n",
      "7     40\n",
      "8     44\n",
      "9     74\n",
      "10    49\n",
      "11    56\n",
      "12    49\n",
      "13    42\n",
      "14    39\n",
      "15    44\n",
      "16    54\n",
      "17    51\n",
      "18    40\n",
      "19    37\n",
      "Name: Subscribers gained, dtype: int64\n"
     ]
    }
   ],
   "source": [
    "#if i want more than 5 rows\n",
    "\n",
    "print(subs.head(20))"
   ]
  },
  {
   "cell_type": "code",
   "execution_count": 63,
   "id": "4169b721",
   "metadata": {},
   "outputs": [
    {
     "data": {
      "text/plain": [
       "360    231\n",
       "361    226\n",
       "362    155\n",
       "363    144\n",
       "364    172\n",
       "Name: Subscribers gained, dtype: int64"
      ]
     },
     "execution_count": 63,
     "metadata": {},
     "output_type": "execute_result"
    }
   ],
   "source": [
    "subs.tail()"
   ]
  },
  {
   "cell_type": "code",
   "execution_count": 68,
   "id": "4e2df974",
   "metadata": {},
   "outputs": [
    {
     "data": {
      "text/plain": [
       "movie\n",
       "Chef (2017 film)    Saif Ali Khan\n",
       "Name: lead, dtype: object"
      ]
     },
     "execution_count": 68,
     "metadata": {},
     "output_type": "execute_result"
    }
   ],
   "source": [
    "#sample  -  gives one row in a series\n",
    "\n",
    "movies.sample()"
   ]
  },
  {
   "cell_type": "code",
   "execution_count": 71,
   "id": "74aba682",
   "metadata": {},
   "outputs": [
    {
     "data": {
      "text/plain": [
       "movie\n",
       "Madhoshi                              Bipasha Basu\n",
       "Golmaal Again                           Ajay Devgn\n",
       "JD (film)                           Rina Charaniya\n",
       "Hungama (2003 film)                 Akshaye Khanna\n",
       "Ek Vivaah... Aisa Bhi                Isha Koppikar\n",
       "Dharti Kahe Pukar Ke (2006 film)        Ajay Devgn\n",
       "Jaane Kyun De Yaaron                  Akshay Anand\n",
       "Ishq Hai Tumse                          Dino Morea\n",
       "Chal Pichchur Banate Hain           Sagar Bhangade\n",
       "Kushti (film)                         Rajpal Yadav\n",
       "Name: lead, dtype: object"
      ]
     },
     "execution_count": 71,
     "metadata": {},
     "output_type": "execute_result"
    }
   ],
   "source": [
    "movies.sample(10) #randomly picks 10 \n",
    "# use when there is bias in the sample. so sample cn randmly pick and give"
   ]
  },
  {
   "cell_type": "code",
   "execution_count": 73,
   "id": "15e5bf3d",
   "metadata": {},
   "outputs": [
    {
     "data": {
      "text/plain": [
       "Akshay Kumar        48\n",
       "Amitabh Bachchan    45\n",
       "Ajay Devgn          38\n",
       "Salman Khan         31\n",
       "Sanjay Dutt         26\n",
       "                    ..\n",
       "Diganth              1\n",
       "Parveen Kaur         1\n",
       "Seema Azmi           1\n",
       "Akanksha Puri        1\n",
       "Edwin Fernandes      1\n",
       "Name: lead, Length: 566, dtype: int64"
      ]
     },
     "execution_count": 73,
     "metadata": {},
     "output_type": "execute_result"
    }
   ],
   "source": [
    "#value_counts - counts the frequency of every value\n",
    "# tells which actor did how many movies\n",
    "\n",
    "movies.value_counts()"
   ]
  },
  {
   "cell_type": "code",
   "execution_count": 79,
   "id": "8d308838",
   "metadata": {},
   "outputs": [
    {
     "data": {
      "text/plain": [
       "match_no\n",
       "128    113\n",
       "126    109\n",
       "123    108\n",
       "164    100\n",
       "120    100\n",
       "      ... \n",
       "93       0\n",
       "211      0\n",
       "130      0\n",
       "8        0\n",
       "135      0\n",
       "Name: runs, Length: 215, dtype: int64"
      ]
     },
     "execution_count": 79,
     "metadata": {},
     "output_type": "execute_result"
    }
   ],
   "source": [
    "#sort_value - sort the entire values\n",
    "vk.sort_values(ascending=False)"
   ]
  },
  {
   "cell_type": "code",
   "execution_count": 83,
   "id": "1a7751f1",
   "metadata": {},
   "outputs": [
    {
     "data": {
      "text/plain": [
       "113"
      ]
     },
     "execution_count": 83,
     "metadata": {},
     "output_type": "execute_result"
    }
   ],
   "source": [
    "#method chaining \n",
    "# sort_values does not do permanent changes \n",
    "vk.sort_values(ascending=False).head(1).values[0]"
   ]
  },
  {
   "cell_type": "code",
   "execution_count": 84,
   "id": "43a85be6",
   "metadata": {},
   "outputs": [
    {
     "data": {
      "text/plain": [
       "match_no\n",
       "1     1\n",
       "2    23\n",
       "3    13\n",
       "4    12\n",
       "5     1\n",
       "Name: runs, dtype: int64"
      ]
     },
     "execution_count": 84,
     "metadata": {},
     "output_type": "execute_result"
    }
   ],
   "source": [
    "vk.head()"
   ]
  },
  {
   "cell_type": "code",
   "execution_count": 87,
   "id": "7bf7634d",
   "metadata": {},
   "outputs": [],
   "source": [
    "# to change it permanently\n",
    "\n",
    "vk.sort_values(ascending = False, inplace = True)"
   ]
  },
  {
   "cell_type": "code",
   "execution_count": 88,
   "id": "f69ed3a8",
   "metadata": {},
   "outputs": [
    {
     "data": {
      "text/plain": [
       "match_no\n",
       "128    113\n",
       "126    109\n",
       "123    108\n",
       "120    100\n",
       "164    100\n",
       "Name: runs, dtype: int64"
      ]
     },
     "execution_count": 88,
     "metadata": {},
     "output_type": "execute_result"
    }
   ],
   "source": [
    "vk.head()"
   ]
  },
  {
   "cell_type": "code",
   "execution_count": 89,
   "id": "36645e6d",
   "metadata": {},
   "outputs": [
    {
     "data": {
      "text/plain": [
       "movie\n",
       "1920 (film)                   Rajniesh Duggall\n",
       "1920: London                     Sharman Joshi\n",
       "1920: The Evil Returns             Vicky Ahuja\n",
       "1971 (2007 film)                Manoj Bajpayee\n",
       "2 States (2014 film)              Arjun Kapoor\n",
       "                                   ...        \n",
       "Zindagi 50-50                      Veena Malik\n",
       "Zindagi Na Milegi Dobara        Hrithik Roshan\n",
       "Zindagi Tere Naam           Mithun Chakraborty\n",
       "Zokkomon                       Darsheel Safary\n",
       "Zor Lagaa Ke...Haiya!            Meghan Jadhav\n",
       "Name: lead, Length: 1500, dtype: object"
      ]
     },
     "execution_count": 89,
     "metadata": {},
     "output_type": "execute_result"
    }
   ],
   "source": [
    "#sort index\n",
    "\n",
    "movies.sort_index()"
   ]
  },
  {
   "cell_type": "code",
   "execution_count": null,
   "id": "4dbe94f1",
   "metadata": {},
   "outputs": [],
   "source": []
  }
 ],
 "metadata": {
  "kernelspec": {
   "display_name": "Python 3 (ipykernel)",
   "language": "python",
   "name": "python3"
  },
  "language_info": {
   "codemirror_mode": {
    "name": "ipython",
    "version": 3
   },
   "file_extension": ".py",
   "mimetype": "text/x-python",
   "name": "python",
   "nbconvert_exporter": "python",
   "pygments_lexer": "ipython3",
   "version": "3.11.4"
  }
 },
 "nbformat": 4,
 "nbformat_minor": 5
}
