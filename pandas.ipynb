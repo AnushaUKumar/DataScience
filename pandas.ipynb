{
 "cells": [
  {
   "cell_type": "code",
   "execution_count": 1,
   "id": "6f1d18f7",
   "metadata": {},
   "outputs": [],
   "source": [
    "#most used obejcts of pandas are -  dataframe and series"
   ]
  },
  {
   "cell_type": "code",
   "execution_count": 2,
   "id": "0337adf3",
   "metadata": {},
   "outputs": [],
   "source": [
    "#SERIES -  like a column in a table which holds a 1D data of any type "
   ]
  },
  {
   "cell_type": "code",
   "execution_count": 3,
   "id": "166225fd",
   "metadata": {},
   "outputs": [],
   "source": [
    "import numpy as np\n",
    "import pandas as pd"
   ]
  },
  {
   "cell_type": "markdown",
   "id": "fae36af4",
   "metadata": {},
   "source": [
    "#### Series from lists "
   ]
  },
  {
   "cell_type": "code",
   "execution_count": 4,
   "id": "018845d0",
   "metadata": {},
   "outputs": [],
   "source": [
    "country = [' India' , 'USA', 'UK', 'Nepal', 'Canada']"
   ]
  },
  {
   "cell_type": "code",
   "execution_count": 5,
   "id": "0503d5ac",
   "metadata": {},
   "outputs": [
    {
     "data": {
      "text/plain": [
       "0     India\n",
       "1       USA\n",
       "2        UK\n",
       "3     Nepal\n",
       "4    Canada\n",
       "dtype: object"
      ]
     },
     "execution_count": 5,
     "metadata": {},
     "output_type": "execute_result"
    }
   ],
   "source": [
    "pd.Series(country)  # value = countriies and the index - 0,1,2,3,4 "
   ]
  },
  {
   "cell_type": "code",
   "execution_count": 6,
   "id": "d7e1241c",
   "metadata": {},
   "outputs": [
    {
     "data": {
      "text/plain": [
       "0     31\n",
       "1     45\n",
       "2     68\n",
       "3     79\n",
       "4    100\n",
       "dtype: int64"
      ]
     },
     "execution_count": 6,
     "metadata": {},
     "output_type": "execute_result"
    }
   ],
   "source": [
    "#Integers  - observe the dtype\n",
    "runs = [31,45,68,79,100]\n",
    "pd.Series(runs)"
   ]
  },
  {
   "cell_type": "code",
   "execution_count": 7,
   "id": "642373b8",
   "metadata": {},
   "outputs": [
    {
     "data": {
      "text/plain": [
       "maths       65\n",
       "english     78\n",
       "science     98\n",
       "kannada    100\n",
       "dtype: int64"
      ]
     },
     "execution_count": 7,
     "metadata": {},
     "output_type": "execute_result"
    }
   ],
   "source": [
    "# if you want to change the index instead of the default index then  \n",
    "\n",
    "marks = [65,78,98,100]\n",
    "subjects = ['maths', 'english','science', 'kannada']\n",
    "#now i want the marks to be the value and index to have the subjects so \n",
    "\n",
    "pd.Series(marks,index=subjects)"
   ]
  },
  {
   "cell_type": "code",
   "execution_count": 8,
   "id": "9386b9ef",
   "metadata": {},
   "outputs": [
    {
     "data": {
      "text/plain": [
       "maths       65\n",
       "english     78\n",
       "science     98\n",
       "kannada    100\n",
       "Name: MY MARKS, dtype: int64"
      ]
     },
     "execution_count": 8,
     "metadata": {},
     "output_type": "execute_result"
    }
   ],
   "source": [
    "#setting a name - something like a title\n",
    "\n",
    "marks = pd.Series(marks,index=subjects, name = \"MY MARKS\")\n",
    "marks\n"
   ]
  },
  {
   "cell_type": "markdown",
   "id": "61bdfc12",
   "metadata": {},
   "source": [
    "## Series from Dictionary"
   ]
  },
  {
   "cell_type": "code",
   "execution_count": 9,
   "id": "b693b89a",
   "metadata": {},
   "outputs": [
    {
     "data": {
      "text/plain": [
       "maths        90\n",
       "english     100\n",
       "Kannada     200\n",
       "Name: MY MARKS, dtype: int64"
      ]
     },
     "execution_count": 9,
     "metadata": {},
     "output_type": "execute_result"
    }
   ],
   "source": [
    "marks = {\n",
    "    'maths' : 90,\n",
    "    'english ': 100,\n",
    "    'Kannada' : 200   \n",
    "}\n",
    "\n",
    "marks_series = pd.Series(marks,name = 'MY MARKS')\n",
    "marks_series"
   ]
  },
  {
   "cell_type": "markdown",
   "id": "14fc28c1",
   "metadata": {},
   "source": [
    "#### SERIES ATTRIBUTES"
   ]
  },
  {
   "cell_type": "code",
   "execution_count": 10,
   "id": "5261d28d",
   "metadata": {},
   "outputs": [
    {
     "data": {
      "text/plain": [
       "3"
      ]
     },
     "execution_count": 10,
     "metadata": {},
     "output_type": "execute_result"
    }
   ],
   "source": [
    "#size\n",
    "marks_series.size"
   ]
  },
  {
   "cell_type": "code",
   "execution_count": 11,
   "id": "3bdd1538",
   "metadata": {},
   "outputs": [
    {
     "data": {
      "text/plain": [
       "dtype('int64')"
      ]
     },
     "execution_count": 11,
     "metadata": {},
     "output_type": "execute_result"
    }
   ],
   "source": [
    "#dtype\n",
    "\n",
    "marks_series.dtype"
   ]
  },
  {
   "cell_type": "code",
   "execution_count": 12,
   "id": "c2ed3d65",
   "metadata": {},
   "outputs": [
    {
     "data": {
      "text/plain": [
       "'MY MARKS'"
      ]
     },
     "execution_count": 12,
     "metadata": {},
     "output_type": "execute_result"
    }
   ],
   "source": [
    "#name\n",
    "marks_series.name"
   ]
  },
  {
   "cell_type": "code",
   "execution_count": 13,
   "id": "644c34b5",
   "metadata": {},
   "outputs": [
    {
     "data": {
      "text/plain": [
       "True"
      ]
     },
     "execution_count": 13,
     "metadata": {},
     "output_type": "execute_result"
    }
   ],
   "source": [
    "#isunique - checks if any item is repeated in the series, if repeated  - it will return false\n",
    "#else true\n",
    "\n",
    "marks_series.is_unique"
   ]
  },
  {
   "cell_type": "code",
   "execution_count": 14,
   "id": "5d3089ba",
   "metadata": {},
   "outputs": [
    {
     "data": {
      "text/plain": [
       "False"
      ]
     },
     "execution_count": 14,
     "metadata": {},
     "output_type": "execute_result"
    }
   ],
   "source": [
    "pd.Series([1,2,3,4,4,5,6,6]).is_unique"
   ]
  },
  {
   "cell_type": "code",
   "execution_count": 15,
   "id": "4eec23bf",
   "metadata": {},
   "outputs": [
    {
     "data": {
      "text/plain": [
       "Index(['maths', 'english ', 'Kannada'], dtype='object')"
      ]
     },
     "execution_count": 15,
     "metadata": {},
     "output_type": "execute_result"
    }
   ],
   "source": [
    "#index- stores the index values of series\n",
    "marks_series.index"
   ]
  },
  {
   "cell_type": "code",
   "execution_count": 16,
   "id": "86b13fdb",
   "metadata": {},
   "outputs": [
    {
     "data": {
      "text/plain": [
       "array([ 90, 100, 200], dtype=int64)"
      ]
     },
     "execution_count": 16,
     "metadata": {},
     "output_type": "execute_result"
    }
   ],
   "source": [
    "#values\n",
    "\n",
    "marks_series.values"
   ]
  },
  {
   "cell_type": "code",
   "execution_count": 17,
   "id": "4ccb6d72",
   "metadata": {},
   "outputs": [
    {
     "data": {
      "text/plain": [
       "numpy.ndarray"
      ]
     },
     "execution_count": 17,
     "metadata": {},
     "output_type": "execute_result"
    }
   ],
   "source": [
    "type(marks_series.values)"
   ]
  },
  {
   "cell_type": "markdown",
   "id": "2f4511fb",
   "metadata": {},
   "source": [
    "#### Series using read_csv"
   ]
  },
  {
   "cell_type": "code",
   "execution_count": 18,
   "id": "166514bd",
   "metadata": {},
   "outputs": [
    {
     "data": {
      "text/html": [
       "<div>\n",
       "<style scoped>\n",
       "    .dataframe tbody tr th:only-of-type {\n",
       "        vertical-align: middle;\n",
       "    }\n",
       "\n",
       "    .dataframe tbody tr th {\n",
       "        vertical-align: top;\n",
       "    }\n",
       "\n",
       "    .dataframe thead th {\n",
       "        text-align: right;\n",
       "    }\n",
       "</style>\n",
       "<table border=\"1\" class=\"dataframe\">\n",
       "  <thead>\n",
       "    <tr style=\"text-align: right;\">\n",
       "      <th></th>\n",
       "      <th>Subscribers gained</th>\n",
       "    </tr>\n",
       "  </thead>\n",
       "  <tbody>\n",
       "    <tr>\n",
       "      <th>0</th>\n",
       "      <td>48</td>\n",
       "    </tr>\n",
       "    <tr>\n",
       "      <th>1</th>\n",
       "      <td>57</td>\n",
       "    </tr>\n",
       "    <tr>\n",
       "      <th>2</th>\n",
       "      <td>40</td>\n",
       "    </tr>\n",
       "    <tr>\n",
       "      <th>3</th>\n",
       "      <td>43</td>\n",
       "    </tr>\n",
       "    <tr>\n",
       "      <th>4</th>\n",
       "      <td>44</td>\n",
       "    </tr>\n",
       "    <tr>\n",
       "      <th>...</th>\n",
       "      <td>...</td>\n",
       "    </tr>\n",
       "    <tr>\n",
       "      <th>360</th>\n",
       "      <td>231</td>\n",
       "    </tr>\n",
       "    <tr>\n",
       "      <th>361</th>\n",
       "      <td>226</td>\n",
       "    </tr>\n",
       "    <tr>\n",
       "      <th>362</th>\n",
       "      <td>155</td>\n",
       "    </tr>\n",
       "    <tr>\n",
       "      <th>363</th>\n",
       "      <td>144</td>\n",
       "    </tr>\n",
       "    <tr>\n",
       "      <th>364</th>\n",
       "      <td>172</td>\n",
       "    </tr>\n",
       "  </tbody>\n",
       "</table>\n",
       "<p>365 rows × 1 columns</p>\n",
       "</div>"
      ],
      "text/plain": [
       "     Subscribers gained\n",
       "0                    48\n",
       "1                    57\n",
       "2                    40\n",
       "3                    43\n",
       "4                    44\n",
       "..                  ...\n",
       "360                 231\n",
       "361                 226\n",
       "362                 155\n",
       "363                 144\n",
       "364                 172\n",
       "\n",
       "[365 rows x 1 columns]"
      ]
     },
     "execution_count": 18,
     "metadata": {},
     "output_type": "execute_result"
    }
   ],
   "source": [
    "# with one column\n",
    "pd.read_csv('CSV/subs.csv') #the output is not a series"
   ]
  },
  {
   "cell_type": "code",
   "execution_count": 19,
   "id": "33b0beec",
   "metadata": {},
   "outputs": [
    {
     "data": {
      "text/plain": [
       "pandas.core.frame.DataFrame"
      ]
     },
     "execution_count": 19,
     "metadata": {},
     "output_type": "execute_result"
    }
   ],
   "source": [
    "type(pd.read_csv('CSV/subs.csv'))"
   ]
  },
  {
   "cell_type": "code",
   "execution_count": 20,
   "id": "8c1111ba",
   "metadata": {},
   "outputs": [
    {
     "name": "stderr",
     "output_type": "stream",
     "text": [
      "C:\\Users\\anush\\AppData\\Local\\Temp\\ipykernel_27732\\3255327353.py:3: FutureWarning: The squeeze argument has been deprecated and will be removed in a future version. Append .squeeze(\"columns\") to the call to squeeze.\n",
      "\n",
      "\n",
      "  subs=pd.read_csv('CSV/subs.csv', squeeze = True)\n"
     ]
    },
    {
     "data": {
      "text/plain": [
       "0       48\n",
       "1       57\n",
       "2       40\n",
       "3       43\n",
       "4       44\n",
       "      ... \n",
       "360    231\n",
       "361    226\n",
       "362    155\n",
       "363    144\n",
       "364    172\n",
       "Name: Subscribers gained, Length: 365, dtype: int64"
      ]
     },
     "execution_count": 20,
     "metadata": {},
     "output_type": "execute_result"
    }
   ],
   "source": [
    "#to convert it to series use squeeze\n",
    "\n",
    "subs=pd.read_csv('CSV/subs.csv', squeeze = True)\n",
    "subs"
   ]
  },
  {
   "cell_type": "code",
   "execution_count": 21,
   "id": "65c3bab9",
   "metadata": {},
   "outputs": [
    {
     "name": "stderr",
     "output_type": "stream",
     "text": [
      "C:\\Users\\anush\\AppData\\Local\\Temp\\ipykernel_27732\\1816956014.py:1: FutureWarning: The squeeze argument has been deprecated and will be removed in a future version. Append .squeeze(\"columns\") to the call to squeeze.\n",
      "\n",
      "\n",
      "  type(pd.read_csv('CSV/subs.csv', squeeze = True))\n"
     ]
    },
    {
     "data": {
      "text/plain": [
       "pandas.core.series.Series"
      ]
     },
     "execution_count": 21,
     "metadata": {},
     "output_type": "execute_result"
    }
   ],
   "source": [
    "type(pd.read_csv('CSV/subs.csv', squeeze = True))"
   ]
  },
  {
   "cell_type": "code",
   "execution_count": 22,
   "id": "515337ab",
   "metadata": {},
   "outputs": [
    {
     "name": "stderr",
     "output_type": "stream",
     "text": [
      "C:\\Users\\anush\\AppData\\Local\\Temp\\ipykernel_27732\\471991653.py:3: FutureWarning: The squeeze argument has been deprecated and will be removed in a future version. Append .squeeze(\"columns\") to the call to squeeze.\n",
      "\n",
      "\n",
      "  vk=pd.read_csv('CSV/kohli_ipl.csv',index_col = 'match_no',squeeze = True)\n"
     ]
    }
   ],
   "source": [
    "#with 2 columns\n",
    "\n",
    "vk=pd.read_csv('CSV/kohli_ipl.csv',index_col = 'match_no',squeeze = True)"
   ]
  },
  {
   "cell_type": "code",
   "execution_count": 23,
   "id": "63c01b70",
   "metadata": {},
   "outputs": [
    {
     "name": "stderr",
     "output_type": "stream",
     "text": [
      "C:\\Users\\anush\\AppData\\Local\\Temp\\ipykernel_27732\\506918353.py:3: FutureWarning: The squeeze argument has been deprecated and will be removed in a future version. Append .squeeze(\"columns\") to the call to squeeze.\n",
      "\n",
      "\n",
      "  movies= pd.read_csv('CSV/bollywood.csv',index_col = 'movie',squeeze = True)\n"
     ]
    },
    {
     "data": {
      "text/plain": [
       "movie\n",
       "Uri: The Surgical Strike                   Vicky Kaushal\n",
       "Battalion 609                                Vicky Ahuja\n",
       "The Accidental Prime Minister (film)         Anupam Kher\n",
       "Why Cheat India                            Emraan Hashmi\n",
       "Evening Shadows                         Mona Ambegaonkar\n",
       "                                              ...       \n",
       "Hum Tumhare Hain Sanam                    Shah Rukh Khan\n",
       "Aankhen (2002 film)                     Amitabh Bachchan\n",
       "Saathiya (film)                             Vivek Oberoi\n",
       "Company (film)                                Ajay Devgn\n",
       "Awara Paagal Deewana                        Akshay Kumar\n",
       "Name: lead, Length: 1500, dtype: object"
      ]
     },
     "execution_count": 23,
     "metadata": {},
     "output_type": "execute_result"
    }
   ],
   "source": [
    "#with 3 columns\n",
    "\n",
    "movies= pd.read_csv('CSV/bollywood.csv',index_col = 'movie',squeeze = True)\n",
    "movies"
   ]
  },
  {
   "cell_type": "markdown",
   "id": "8984f01b",
   "metadata": {},
   "source": [
    "#### SERIES METHODS"
   ]
  },
  {
   "cell_type": "code",
   "execution_count": 24,
   "id": "ae3aaf71",
   "metadata": {},
   "outputs": [
    {
     "name": "stdout",
     "output_type": "stream",
     "text": [
      "0    48\n",
      "1    57\n",
      "2    40\n",
      "3    43\n",
      "4    44\n",
      "Name: Subscribers gained, dtype: int64\n",
      "360    231\n",
      "361    226\n",
      "362    155\n",
      "363    144\n",
      "364    172\n",
      "Name: Subscribers gained, dtype: int64\n"
     ]
    }
   ],
   "source": [
    "#head and tail\n",
    "print(subs.head())\n",
    "print(subs.tail())"
   ]
  },
  {
   "cell_type": "code",
   "execution_count": 25,
   "id": "929227b8",
   "metadata": {},
   "outputs": [
    {
     "name": "stdout",
     "output_type": "stream",
     "text": [
      "0     48\n",
      "1     57\n",
      "2     40\n",
      "3     43\n",
      "4     44\n",
      "5     46\n",
      "6     33\n",
      "7     40\n",
      "8     44\n",
      "9     74\n",
      "10    49\n",
      "11    56\n",
      "12    49\n",
      "13    42\n",
      "14    39\n",
      "15    44\n",
      "16    54\n",
      "17    51\n",
      "18    40\n",
      "19    37\n",
      "Name: Subscribers gained, dtype: int64\n"
     ]
    }
   ],
   "source": [
    "#if i want more than 5 rows\n",
    "\n",
    "print(subs.head(20))"
   ]
  },
  {
   "cell_type": "code",
   "execution_count": 26,
   "id": "4169b721",
   "metadata": {},
   "outputs": [
    {
     "data": {
      "text/plain": [
       "360    231\n",
       "361    226\n",
       "362    155\n",
       "363    144\n",
       "364    172\n",
       "Name: Subscribers gained, dtype: int64"
      ]
     },
     "execution_count": 26,
     "metadata": {},
     "output_type": "execute_result"
    }
   ],
   "source": [
    "subs.tail()"
   ]
  },
  {
   "cell_type": "code",
   "execution_count": 27,
   "id": "4e2df974",
   "metadata": {},
   "outputs": [
    {
     "data": {
      "text/plain": [
       "movie\n",
       "MP3: Mera Pehla Pehla Pyaar    Menekka Arora\n",
       "Name: lead, dtype: object"
      ]
     },
     "execution_count": 27,
     "metadata": {},
     "output_type": "execute_result"
    }
   ],
   "source": [
    "#sample  -  gives one row in a series\n",
    "\n",
    "movies.sample()"
   ]
  },
  {
   "cell_type": "code",
   "execution_count": 28,
   "id": "74aba682",
   "metadata": {},
   "outputs": [
    {
     "data": {
      "text/plain": [
       "movie\n",
       "Dil Ne Jise Apna Kahaa             Salman Khan\n",
       "Satyameva Jayate (2018 film)      John Abraham\n",
       "Jigyaasa                        Nassar Abdulla\n",
       "Why Cheat India                  Emraan Hashmi\n",
       "Kaun Hai Jo Sapno Mein Aaya       Raqesh Bapat\n",
       "Gabbar Is Back                    Akshay Kumar\n",
       "Befikre                           Vaani Kapoor\n",
       "Chittagong (film)               Manoj Bajpayee\n",
       "Zindagi Na Milegi Dobara        Hrithik Roshan\n",
       "Risknamaa                       Garima Agarwal\n",
       "Name: lead, dtype: object"
      ]
     },
     "execution_count": 28,
     "metadata": {},
     "output_type": "execute_result"
    }
   ],
   "source": [
    "movies.sample(10) #randomly picks 10 \n",
    "# use when there is bias in the sample. so sample cn randmly pick and give"
   ]
  },
  {
   "cell_type": "code",
   "execution_count": 29,
   "id": "15e5bf3d",
   "metadata": {},
   "outputs": [
    {
     "data": {
      "text/plain": [
       "Akshay Kumar        48\n",
       "Amitabh Bachchan    45\n",
       "Ajay Devgn          38\n",
       "Salman Khan         31\n",
       "Sanjay Dutt         26\n",
       "                    ..\n",
       "Diganth              1\n",
       "Parveen Kaur         1\n",
       "Seema Azmi           1\n",
       "Akanksha Puri        1\n",
       "Edwin Fernandes      1\n",
       "Name: lead, Length: 566, dtype: int64"
      ]
     },
     "execution_count": 29,
     "metadata": {},
     "output_type": "execute_result"
    }
   ],
   "source": [
    "#value_counts - counts the frequency of every value\n",
    "# tells which actor did how many movies\n",
    "\n",
    "movies.value_counts()"
   ]
  },
  {
   "cell_type": "code",
   "execution_count": 30,
   "id": "8d308838",
   "metadata": {},
   "outputs": [
    {
     "data": {
      "text/plain": [
       "match_no\n",
       "128    113\n",
       "126    109\n",
       "123    108\n",
       "164    100\n",
       "120    100\n",
       "      ... \n",
       "93       0\n",
       "211      0\n",
       "130      0\n",
       "8        0\n",
       "135      0\n",
       "Name: runs, Length: 215, dtype: int64"
      ]
     },
     "execution_count": 30,
     "metadata": {},
     "output_type": "execute_result"
    }
   ],
   "source": [
    "#sort_value - sort the entire values\n",
    "vk.sort_values(ascending=False)"
   ]
  },
  {
   "cell_type": "code",
   "execution_count": 31,
   "id": "1a7751f1",
   "metadata": {},
   "outputs": [
    {
     "data": {
      "text/plain": [
       "113"
      ]
     },
     "execution_count": 31,
     "metadata": {},
     "output_type": "execute_result"
    }
   ],
   "source": [
    "#method chaining \n",
    "# sort_values does not do permanent changes \n",
    "vk.sort_values(ascending=False).head(1).values[0]"
   ]
  },
  {
   "cell_type": "code",
   "execution_count": 32,
   "id": "43a85be6",
   "metadata": {},
   "outputs": [
    {
     "data": {
      "text/plain": [
       "match_no\n",
       "1     1\n",
       "2    23\n",
       "3    13\n",
       "4    12\n",
       "5     1\n",
       "Name: runs, dtype: int64"
      ]
     },
     "execution_count": 32,
     "metadata": {},
     "output_type": "execute_result"
    }
   ],
   "source": [
    "vk.head()"
   ]
  },
  {
   "cell_type": "code",
   "execution_count": 33,
   "id": "7bf7634d",
   "metadata": {},
   "outputs": [],
   "source": [
    "# to change it permanently use inplace\n",
    "\n",
    "vk.sort_values(ascending = False, inplace = True)"
   ]
  },
  {
   "cell_type": "code",
   "execution_count": 34,
   "id": "f69ed3a8",
   "metadata": {},
   "outputs": [
    {
     "data": {
      "text/plain": [
       "match_no\n",
       "128    113\n",
       "126    109\n",
       "123    108\n",
       "164    100\n",
       "120    100\n",
       "Name: runs, dtype: int64"
      ]
     },
     "execution_count": 34,
     "metadata": {},
     "output_type": "execute_result"
    }
   ],
   "source": [
    "vk.head()"
   ]
  },
  {
   "cell_type": "code",
   "execution_count": 35,
   "id": "36645e6d",
   "metadata": {},
   "outputs": [
    {
     "data": {
      "text/plain": [
       "movie\n",
       "1920 (film)                   Rajniesh Duggall\n",
       "1920: London                     Sharman Joshi\n",
       "1920: The Evil Returns             Vicky Ahuja\n",
       "1971 (2007 film)                Manoj Bajpayee\n",
       "2 States (2014 film)              Arjun Kapoor\n",
       "                                   ...        \n",
       "Zindagi 50-50                      Veena Malik\n",
       "Zindagi Na Milegi Dobara        Hrithik Roshan\n",
       "Zindagi Tere Naam           Mithun Chakraborty\n",
       "Zokkomon                       Darsheel Safary\n",
       "Zor Lagaa Ke...Haiya!            Meghan Jadhav\n",
       "Name: lead, Length: 1500, dtype: object"
      ]
     },
     "execution_count": 35,
     "metadata": {},
     "output_type": "execute_result"
    }
   ],
   "source": [
    "#sort index\n",
    "\n",
    "movies.sort_index()"
   ]
  },
  {
   "cell_type": "markdown",
   "id": "fd5c0672",
   "metadata": {},
   "source": [
    "#### Series Maths Methods"
   ]
  },
  {
   "cell_type": "code",
   "execution_count": 36,
   "id": "69485907",
   "metadata": {},
   "outputs": [
    {
     "data": {
      "text/plain": [
       "215"
      ]
     },
     "execution_count": 36,
     "metadata": {},
     "output_type": "execute_result"
    }
   ],
   "source": [
    "#count - count gives a total number of rows in a series. It does not count Nan\n",
    "# missing values . it excludes the missing va;ues when counting\n",
    "\n",
    "\n",
    "vk.count()"
   ]
  },
  {
   "cell_type": "code",
   "execution_count": 43,
   "id": "f4fd3315",
   "metadata": {},
   "outputs": [
    {
     "name": "stdout",
     "output_type": "stream",
     "text": [
      "49510\n",
      "0\n"
     ]
    }
   ],
   "source": [
    "#sum - > product \n",
    "\n",
    "print(subs.sum())\n",
    "\n",
    "print(subs.product())"
   ]
  },
  {
   "cell_type": "code",
   "execution_count": 39,
   "id": "80949f73",
   "metadata": {},
   "outputs": [
    {
     "name": "stdout",
     "output_type": "stream",
     "text": [
      "24.0\n",
      "0    Akshay Kumar\n",
      "Name: lead, dtype: object\n",
      "62.67502303725269\n"
     ]
    }
   ],
   "source": [
    "#mean , mediian, mode, std, var\n",
    "\n",
    "subs.mean()\n",
    "\n",
    "print(vk.median())\n",
    "\n",
    "print(movies.mode())\n",
    "print(subs.std())\n"
   ]
  },
  {
   "cell_type": "code",
   "execution_count": 40,
   "id": "687683fc",
   "metadata": {},
   "outputs": [
    {
     "data": {
      "text/plain": [
       "396"
      ]
     },
     "execution_count": 40,
     "metadata": {},
     "output_type": "execute_result"
    }
   ],
   "source": [
    "subs.max()"
   ]
  },
  {
   "cell_type": "code",
   "execution_count": 41,
   "id": "e4b55f01",
   "metadata": {},
   "outputs": [
    {
     "data": {
      "text/plain": [
       "33"
      ]
     },
     "execution_count": 41,
     "metadata": {},
     "output_type": "execute_result"
    }
   ],
   "source": [
    "subs.min()"
   ]
  },
  {
   "cell_type": "code",
   "execution_count": 44,
   "id": "6f53e674",
   "metadata": {},
   "outputs": [
    {
     "data": {
      "text/plain": [
       "count    215.000000\n",
       "mean      30.855814\n",
       "std       26.229801\n",
       "min        0.000000\n",
       "25%        9.000000\n",
       "50%       24.000000\n",
       "75%       48.000000\n",
       "max      113.000000\n",
       "Name: runs, dtype: float64"
      ]
     },
     "execution_count": 44,
     "metadata": {},
     "output_type": "execute_result"
    }
   ],
   "source": [
    "vk.describe()"
   ]
  },
  {
   "cell_type": "code",
   "execution_count": 45,
   "id": "501a0eb7",
   "metadata": {},
   "outputs": [
    {
     "data": {
      "text/plain": [
       "count    365.000000\n",
       "mean     135.643836\n",
       "std       62.675023\n",
       "min       33.000000\n",
       "25%       88.000000\n",
       "50%      123.000000\n",
       "75%      177.000000\n",
       "max      396.000000\n",
       "Name: Subscribers gained, dtype: float64"
      ]
     },
     "execution_count": 45,
     "metadata": {},
     "output_type": "execute_result"
    }
   ],
   "source": [
    "subs.describe()"
   ]
  },
  {
   "cell_type": "code",
   "execution_count": 46,
   "id": "bbb2a503",
   "metadata": {},
   "outputs": [
    {
     "data": {
      "text/plain": [
       "0    48\n",
       "1    57\n",
       "2    40\n",
       "3    43\n",
       "4    44\n",
       "Name: Subscribers gained, dtype: int64"
      ]
     },
     "execution_count": 46,
     "metadata": {},
     "output_type": "execute_result"
    }
   ],
   "source": [
    "subs.head()"
   ]
  },
  {
   "cell_type": "markdown",
   "id": "55dde39a",
   "metadata": {},
   "source": [
    "#### Series Indexing"
   ]
  },
  {
   "cell_type": "code",
   "execution_count": 47,
   "id": "d791f58e",
   "metadata": {},
   "outputs": [],
   "source": [
    "x= pd.Series([12,13,14,35,46,57,97,66])"
   ]
  },
  {
   "cell_type": "code",
   "execution_count": 48,
   "id": "079a0687",
   "metadata": {},
   "outputs": [],
   "source": [
    "#series doesnt work for -ve indexing"
   ]
  },
  {
   "cell_type": "code",
   "execution_count": 49,
   "id": "bfc5dde5",
   "metadata": {},
   "outputs": [
    {
     "data": {
      "text/plain": [
       "match_no\n",
       "93     0\n",
       "211    0\n",
       "130    0\n",
       "8      0\n",
       "135    0\n",
       "Name: runs, dtype: int64"
      ]
     },
     "execution_count": 49,
     "metadata": {},
     "output_type": "execute_result"
    }
   ],
   "source": [
    "#slicing\n",
    "\n",
    "vk[-5:]"
   ]
  },
  {
   "cell_type": "markdown",
   "id": "6d314bed",
   "metadata": {},
   "source": [
    "#### Editing Series"
   ]
  },
  {
   "cell_type": "code",
   "execution_count": 51,
   "id": "d71c6ce1",
   "metadata": {},
   "outputs": [
    {
     "data": {
      "text/plain": [
       "maths        90\n",
       "english     100\n",
       "Kannada     200\n",
       "Name: MY MARKS, dtype: int64"
      ]
     },
     "execution_count": 51,
     "metadata": {},
     "output_type": "execute_result"
    }
   ],
   "source": [
    "marks_series"
   ]
  },
  {
   "cell_type": "code",
   "execution_count": 52,
   "id": "a2f83355",
   "metadata": {},
   "outputs": [],
   "source": [
    "marks_series[1] =180"
   ]
  },
  {
   "cell_type": "code",
   "execution_count": 53,
   "id": "04c3a453",
   "metadata": {},
   "outputs": [
    {
     "data": {
      "text/plain": [
       "maths        90\n",
       "english     180\n",
       "Kannada     200\n",
       "Name: MY MARKS, dtype: int64"
      ]
     },
     "execution_count": 53,
     "metadata": {},
     "output_type": "execute_result"
    }
   ],
   "source": [
    "marks_series"
   ]
  },
  {
   "cell_type": "code",
   "execution_count": 56,
   "id": "475cca0c",
   "metadata": {},
   "outputs": [],
   "source": [
    "# if an index doesnt exist then what?  - it will create it \n",
    "marks_series['sst'] =56"
   ]
  },
  {
   "cell_type": "code",
   "execution_count": 57,
   "id": "b1051a87",
   "metadata": {},
   "outputs": [
    {
     "data": {
      "text/plain": [
       "maths        90\n",
       "english     180\n",
       "Kannada     200\n",
       "sst          56\n",
       "Name: MY MARKS, dtype: int64"
      ]
     },
     "execution_count": 57,
     "metadata": {},
     "output_type": "execute_result"
    }
   ],
   "source": [
    "marks_series\n"
   ]
  },
  {
   "cell_type": "code",
   "execution_count": 61,
   "id": "151faff8",
   "metadata": {},
   "outputs": [
    {
     "data": {
      "text/plain": [
       "0    12\n",
       "1    13\n",
       "2    14\n",
       "3    35\n",
       "4    46\n",
       "5    57\n",
       "6    97\n",
       "7    66\n",
       "dtype: int64"
      ]
     },
     "execution_count": 61,
     "metadata": {},
     "output_type": "execute_result"
    }
   ],
   "source": [
    "x"
   ]
  },
  {
   "cell_type": "code",
   "execution_count": 66,
   "id": "697e5ca1",
   "metadata": {},
   "outputs": [],
   "source": [
    "# editing with slicing\n",
    "\n",
    "x[1:4] = [100,100,100]"
   ]
  },
  {
   "cell_type": "code",
   "execution_count": 67,
   "id": "d614858b",
   "metadata": {},
   "outputs": [
    {
     "data": {
      "text/plain": [
       "0     12\n",
       "1    100\n",
       "2    100\n",
       "3    100\n",
       "4     46\n",
       "5     57\n",
       "6     97\n",
       "7     66\n",
       "dtype: int64"
      ]
     },
     "execution_count": 67,
     "metadata": {},
     "output_type": "execute_result"
    }
   ],
   "source": [
    "x"
   ]
  },
  {
   "cell_type": "code",
   "execution_count": 68,
   "id": "429d478d",
   "metadata": {},
   "outputs": [],
   "source": [
    "#fancy indexing\n",
    "x[[0,3,4]] = [0,0,0]"
   ]
  },
  {
   "cell_type": "code",
   "execution_count": 69,
   "id": "23d6357b",
   "metadata": {},
   "outputs": [
    {
     "data": {
      "text/plain": [
       "0      0\n",
       "1    100\n",
       "2    100\n",
       "3      0\n",
       "4      0\n",
       "5     57\n",
       "6     97\n",
       "7     66\n",
       "dtype: int64"
      ]
     },
     "execution_count": 69,
     "metadata": {},
     "output_type": "execute_result"
    }
   ],
   "source": [
    "x"
   ]
  },
  {
   "cell_type": "code",
   "execution_count": 70,
   "id": "55575117",
   "metadata": {},
   "outputs": [],
   "source": [
    "#using index label\n",
    "movies['2 states (2014 film)'] = 'Alia Bhatt'"
   ]
  },
  {
   "cell_type": "code",
   "execution_count": 71,
   "id": "3777fd67",
   "metadata": {},
   "outputs": [
    {
     "data": {
      "text/plain": [
       "movie\n",
       "Uri: The Surgical Strike                   Vicky Kaushal\n",
       "Battalion 609                                Vicky Ahuja\n",
       "The Accidental Prime Minister (film)         Anupam Kher\n",
       "Why Cheat India                            Emraan Hashmi\n",
       "Evening Shadows                         Mona Ambegaonkar\n",
       "                                              ...       \n",
       "Aankhen (2002 film)                     Amitabh Bachchan\n",
       "Saathiya (film)                             Vivek Oberoi\n",
       "Company (film)                                Ajay Devgn\n",
       "Awara Paagal Deewana                        Akshay Kumar\n",
       "2 states (2014 film)                          Alia Bhatt\n",
       "Name: lead, Length: 1501, dtype: object"
      ]
     },
     "execution_count": 71,
     "metadata": {},
     "output_type": "execute_result"
    }
   ],
   "source": [
    "movies"
   ]
  },
  {
   "cell_type": "markdown",
   "id": "8f8fdb59",
   "metadata": {},
   "source": [
    "#### Series with python fundamentals"
   ]
  },
  {
   "cell_type": "code",
   "execution_count": 73,
   "id": "eb4c44a7",
   "metadata": {},
   "outputs": [
    {
     "name": "stdout",
     "output_type": "stream",
     "text": [
      "['T', '_AXIS_LEN', '_AXIS_ORDERS', '_AXIS_TO_AXIS_NUMBER', '_HANDLED_TYPES', '__abs__', '__add__', '__and__', '__annotations__', '__array__', '__array_priority__', '__array_ufunc__', '__array_wrap__', '__bool__', '__class__', '__contains__', '__copy__', '__deepcopy__', '__delattr__', '__delitem__', '__dict__', '__dir__', '__divmod__', '__doc__', '__eq__', '__finalize__', '__float__', '__floordiv__', '__format__', '__ge__', '__getattr__', '__getattribute__', '__getitem__', '__getstate__', '__gt__', '__hash__', '__iadd__', '__iand__', '__ifloordiv__', '__imod__', '__imul__', '__init__', '__init_subclass__', '__int__', '__invert__', '__ior__', '__ipow__', '__isub__', '__iter__', '__itruediv__', '__ixor__', '__le__', '__len__', '__long__', '__lt__', '__matmul__', '__mod__', '__module__', '__mul__', '__ne__', '__neg__', '__new__', '__nonzero__', '__or__', '__pos__', '__pow__', '__radd__', '__rand__', '__rdivmod__', '__reduce__', '__reduce_ex__', '__repr__', '__rfloordiv__', '__rmatmul__', '__rmod__', '__rmul__', '__ror__', '__round__', '__rpow__', '__rsub__', '__rtruediv__', '__rxor__', '__setattr__', '__setitem__', '__setstate__', '__sizeof__', '__str__', '__sub__', '__subclasshook__', '__truediv__', '__weakref__', '__xor__', '_accessors', '_accum_func', '_add_numeric_operations', '_agg_by_level', '_agg_examples_doc', '_agg_see_also_doc', '_align_frame', '_align_series', '_append', '_arith_method', '_as_manager', '_attrs', '_binop', '_can_hold_na', '_check_inplace_and_allows_duplicate_labels', '_check_inplace_setting', '_check_is_chained_assignment_possible', '_check_label_or_level_ambiguity', '_check_setitem_copy', '_clear_item_cache', '_clip_with_one_bound', '_clip_with_scalar', '_cmp_method', '_consolidate', '_consolidate_inplace', '_construct_axes_dict', '_construct_axes_from_arguments', '_construct_result', '_constructor', '_constructor_expanddim', '_convert', '_convert_dtypes', '_data', '_dir_additions', '_dir_deletions', '_drop_axis', '_drop_labels_or_levels', '_duplicated', '_find_valid_index', '_flags', '_get_axis', '_get_axis_name', '_get_axis_number', '_get_axis_resolvers', '_get_block_manager_axis', '_get_bool_data', '_get_cacher', '_get_cleaned_column_resolvers', '_get_index_resolvers', '_get_label_or_level_values', '_get_numeric_data', '_get_value', '_get_values', '_get_values_tuple', '_get_with', '_gotitem', '_hidden_attrs', '_indexed_same', '_info_axis', '_info_axis_name', '_info_axis_number', '_init_dict', '_init_mgr', '_inplace_method', '_internal_names', '_internal_names_set', '_is_cached', '_is_copy', '_is_label_or_level_reference', '_is_label_reference', '_is_level_reference', '_is_mixed_type', '_is_view', '_item_cache', '_ixs', '_logical_func', '_logical_method', '_map_values', '_maybe_update_cacher', '_memory_usage', '_metadata', '_mgr', '_min_count_stat_function', '_name', '_needs_reindex_multi', '_protect_consolidate', '_reduce', '_reindex_axes', '_reindex_indexer', '_reindex_multi', '_reindex_with_indexers', '_rename', '_replace_single', '_repr_data_resource_', '_repr_latex_', '_reset_cache', '_reset_cacher', '_set_as_cached', '_set_axis', '_set_axis_name', '_set_axis_nocheck', '_set_is_copy', '_set_labels', '_set_name', '_set_value', '_set_values', '_set_with', '_set_with_engine', '_slice', '_stat_axis', '_stat_axis_name', '_stat_axis_number', '_stat_function', '_stat_function_ddof', '_take', '_take_with_is_copy', '_typ', '_update_inplace', '_validate_dtype', '_values', '_where', 'abs', 'add', 'add_prefix', 'add_suffix', 'agg', 'aggregate', 'align', 'all', 'any', 'append', 'apply', 'argmax', 'argmin', 'argsort', 'array', 'asfreq', 'asof', 'astype', 'at', 'at_time', 'attrs', 'autocorr', 'axes', 'backfill', 'between', 'between_time', 'bfill', 'bool', 'clip', 'combine', 'combine_first', 'compare', 'convert_dtypes', 'copy', 'corr', 'count', 'cov', 'cummax', 'cummin', 'cumprod', 'cumsum', 'describe', 'diff', 'div', 'divide', 'divmod', 'dot', 'drop', 'drop_duplicates', 'droplevel', 'dropna', 'dtype', 'dtypes', 'duplicated', 'empty', 'eq', 'equals', 'ewm', 'expanding', 'explode', 'factorize', 'ffill', 'fillna', 'filter', 'first', 'first_valid_index', 'flags', 'floordiv', 'ge', 'get', 'groupby', 'gt', 'hasnans', 'head', 'hist', 'iat', 'idxmax', 'idxmin', 'iloc', 'index', 'infer_objects', 'info', 'interpolate', 'is_monotonic', 'is_monotonic_decreasing', 'is_monotonic_increasing', 'is_unique', 'isin', 'isna', 'isnull', 'item', 'items', 'iteritems', 'keys', 'kurt', 'kurtosis', 'last', 'last_valid_index', 'le', 'loc', 'lt', 'mad', 'map', 'mask', 'max', 'mean', 'median', 'memory_usage', 'min', 'mod', 'mode', 'mul', 'multiply', 'name', 'nbytes', 'ndim', 'ne', 'nlargest', 'notna', 'notnull', 'nsmallest', 'nunique', 'pad', 'pct_change', 'pipe', 'plot', 'pop', 'pow', 'prod', 'product', 'quantile', 'radd', 'rank', 'ravel', 'rdiv', 'rdivmod', 'reindex', 'reindex_like', 'rename', 'rename_axis', 'reorder_levels', 'repeat', 'replace', 'resample', 'reset_index', 'rfloordiv', 'rmod', 'rmul', 'rolling', 'round', 'rpow', 'rsub', 'rtruediv', 'sample', 'searchsorted', 'sem', 'set_axis', 'set_flags', 'shape', 'shift', 'size', 'skew', 'slice_shift', 'sort_index', 'sort_values', 'squeeze', 'std', 'sub', 'subtract', 'sum', 'swapaxes', 'swaplevel', 'tail', 'take', 'to_clipboard', 'to_csv', 'to_dict', 'to_excel', 'to_frame', 'to_hdf', 'to_json', 'to_latex', 'to_list', 'to_markdown', 'to_numpy', 'to_period', 'to_pickle', 'to_sql', 'to_string', 'to_timestamp', 'to_xarray', 'transform', 'transpose', 'truediv', 'truncate', 'tz_convert', 'tz_localize', 'unique', 'unstack', 'update', 'value_counts', 'values', 'var', 'view', 'where', 'xs']\n"
     ]
    }
   ],
   "source": [
    "print(dir(vk))"
   ]
  },
  {
   "cell_type": "code",
   "execution_count": 74,
   "id": "c374f806",
   "metadata": {},
   "outputs": [
    {
     "name": "stdout",
     "output_type": "stream",
     "text": [
      "[33, 33, 35, 37, 39, 40, 40, 40, 40, 42, 42, 43, 44, 44, 44, 45, 46, 46, 48, 49, 49, 49, 49, 50, 50, 50, 51, 54, 56, 56, 56, 56, 57, 61, 62, 64, 65, 65, 66, 66, 66, 66, 67, 68, 70, 70, 70, 71, 71, 72, 72, 72, 72, 72, 73, 74, 74, 75, 76, 76, 76, 76, 77, 77, 78, 78, 78, 79, 79, 80, 80, 80, 81, 81, 82, 82, 83, 83, 83, 84, 84, 84, 85, 86, 86, 86, 87, 87, 87, 87, 88, 88, 88, 88, 88, 89, 89, 89, 90, 90, 90, 90, 91, 92, 92, 92, 93, 93, 93, 93, 95, 95, 96, 96, 96, 96, 97, 97, 98, 98, 99, 99, 100, 100, 100, 101, 101, 101, 102, 102, 103, 103, 104, 104, 104, 105, 105, 105, 105, 105, 105, 105, 105, 105, 108, 108, 108, 108, 108, 108, 109, 109, 110, 110, 110, 111, 111, 112, 113, 113, 113, 114, 114, 114, 114, 115, 115, 115, 115, 117, 117, 117, 118, 118, 119, 119, 119, 119, 120, 122, 123, 123, 123, 123, 123, 124, 125, 126, 127, 128, 128, 129, 130, 131, 131, 132, 132, 134, 134, 134, 135, 135, 136, 136, 136, 137, 138, 138, 138, 139, 140, 144, 145, 146, 146, 146, 146, 147, 149, 150, 150, 150, 150, 151, 152, 152, 152, 153, 153, 153, 154, 154, 154, 155, 155, 156, 156, 156, 156, 157, 157, 157, 157, 158, 158, 159, 159, 160, 160, 160, 160, 162, 164, 166, 167, 167, 168, 170, 170, 170, 170, 171, 172, 172, 173, 173, 173, 174, 174, 175, 175, 176, 176, 177, 178, 179, 179, 180, 180, 180, 182, 183, 183, 183, 184, 184, 184, 185, 185, 185, 185, 186, 186, 186, 188, 189, 190, 190, 192, 192, 192, 196, 196, 196, 197, 197, 202, 202, 202, 203, 204, 206, 207, 209, 210, 210, 211, 212, 213, 214, 216, 219, 220, 221, 221, 222, 222, 224, 225, 225, 226, 227, 228, 229, 230, 231, 233, 236, 236, 237, 241, 243, 244, 245, 247, 249, 254, 254, 258, 259, 259, 261, 261, 265, 267, 268, 269, 276, 276, 290, 295, 301, 306, 312, 396]\n"
     ]
    }
   ],
   "source": [
    "print(sorted(subs))"
   ]
  },
  {
   "cell_type": "code",
   "execution_count": 75,
   "id": "78475b3a",
   "metadata": {},
   "outputs": [
    {
     "data": {
      "text/plain": [
       "True"
      ]
     },
     "execution_count": 75,
     "metadata": {},
     "output_type": "execute_result"
    }
   ],
   "source": [
    "#membership operator\n",
    "'2 States (2014 film)' in movies"
   ]
  },
  {
   "cell_type": "code",
   "execution_count": 77,
   "id": "e497b2d6",
   "metadata": {},
   "outputs": [
    {
     "data": {
      "text/plain": [
       "False"
      ]
     },
     "execution_count": 77,
     "metadata": {},
     "output_type": "execute_result"
    }
   ],
   "source": [
    "'Alia Bhatt' in movies #since it only searches in index "
   ]
  },
  {
   "cell_type": "code",
   "execution_count": 79,
   "id": "1abfb507",
   "metadata": {},
   "outputs": [
    {
     "data": {
      "text/plain": [
       "True"
      ]
     },
     "execution_count": 79,
     "metadata": {},
     "output_type": "execute_result"
    }
   ],
   "source": [
    "#to search in values\n",
    "'Alia Bhatt' in movies.values"
   ]
  },
  {
   "cell_type": "code",
   "execution_count": 80,
   "id": "f6638a33",
   "metadata": {},
   "outputs": [
    {
     "name": "stdout",
     "output_type": "stream",
     "text": [
      "Vicky Kaushal\n",
      "Vicky Ahuja\n",
      "Anupam Kher\n",
      "Emraan Hashmi\n",
      "Mona Ambegaonkar\n",
      "Geetika Vidya Ohlyan\n",
      "Arshad Warsi\n",
      "Radhika Apte\n",
      "Kangana Ranaut\n",
      "Nawazuddin Siddiqui\n",
      "Ali Asgar\n",
      "Ranveer Singh\n",
      "Prit Kamani\n",
      "Ajay Devgn\n",
      "Sushant Singh Rajput\n",
      "Amitabh Bachchan\n",
      "Abhimanyu Dasani\n",
      "Talha Arshad Reshi\n",
      "Nawazuddin Siddiqui\n",
      "Garima Agarwal\n",
      "Rasika Agashe\n",
      "Barun Sobti\n",
      "Akshay Kumar\n",
      "Zaheer Iqbal\n",
      "Vidyut Jammwal\n",
      "Deepika Amin\n",
      "Manav Kaul\n",
      "Naseeruddin Shah\n",
      "Varun Dhawan\n",
      "Shreyas Talpade\n",
      "Tiger Shroff\n",
      "Boman Irani\n",
      "Ajay Devgn\n",
      "Arjun Kapoor\n",
      "Gavie Chahal\n",
      "Prabhu Deva\n",
      "Shahid Kapoor\n",
      "Ayushmann Khurrana\n",
      "Anupam Kher\n",
      "Karanvir Bohra\n",
      "Hrithik Roshan\n",
      "Jimmy Sheirgill\n",
      "John Abraham\n",
      "Rishi Kapoor\n",
      "Kangana Ranaut\n",
      "Natalia Janoszek\n",
      "Diljit Dosanjh\n",
      "Sidharth Malhotra\n",
      "Rajeev Khandelwal\n",
      "Zaira Wasim\n",
      "Akshay Kumar\n",
      "Jacqueline Fernandez\n",
      "Ayushmann Khurrana\n",
      "Akshaye Khanna\n",
      "Sonam Kapoor\n",
      "Karan Deol\n",
      "Sanjay Dutt\n",
      "Bhavesh Kumar\n",
      "Sanaya Irani\n",
      "Ayushmann Khurrana\n",
      "Siddhanth Kapoor\n",
      "Akshay Kumar\n",
      "Taapsee Pannu\n",
      "Rajkummar Rao\n",
      "Sunny Singh Nijjar\n",
      "Neil Nitin Mukesh\n",
      "Suraj Pancholi\n",
      "Boman Irani\n",
      "Riteish Deshmukh\n",
      "Nawazuddin Siddiqui\n",
      "Shahbaaz Khan\n",
      "Kriti Kharbanda\n",
      "Naseeruddin Shah\n",
      "Vardhan Puri\n",
      "Sushant Singh Rajput\n",
      "Kartik Aaryan\n",
      "Vidyut Jammwal\n",
      "Rani Mukerji\n",
      "Salman Khan\n",
      "Akshay Kumar\n",
      "Saif Ali Khan\n",
      "Kay Kay Menon\n",
      "Nora Fatehi\n",
      "Ashmit Patel\n",
      "Viineet Kumar\n",
      "Rahul Bhat\n",
      "Vicky Kaushal\n",
      "Sidharth Malhotra\n",
      "Deepika Padukone\n",
      "Geetanjali Thapa\n",
      "Akshay Anand\n",
      "Pulkit Samrat\n",
      "Kartik Aaryan\n",
      "Lee Byford\n",
      "Taapsee Pannu\n",
      "Aisha Ahmed\n",
      "Ajay Devgn\n",
      "Rani Mukerji\n",
      "Manoj Bajpayee\n",
      "Tiger Shroff\n",
      "Varun Dhawan\n",
      "Prabhu Deva\n",
      "Ishaan Khattar\n",
      "Abhay Deol\n",
      "Yogesh Raj Mishra\n",
      "Rajkummar Rao\n",
      "Alia Bhatt\n",
      "Naseeruddin Shah\n",
      "Sumeet Vyas\n",
      "Vinay Pathak\n",
      "John Abraham\n",
      "Danny Denzongpa\n",
      "Harshvardhan Kapoor\n",
      "Jimmy Sheirgill\n",
      "Anil Kapoor\n",
      "Ishaan Khattar\n",
      "Ranbir Kapoor\n",
      "Sanjay Dutt\n",
      "Dharmesh Yelande\n",
      "Taapsee Pannu\n",
      "Arjun Mathur\n",
      "Irrfan Khan\n",
      "Akshay Kumar\n",
      "John Abraham\n",
      "Sonakshi Sinha\n",
      "Utkarsh Sharma\n",
      "Dharmendra\n",
      "Rajkummar Rao\n",
      "Jackie Shroff\n",
      "Avinash Tiwary\n",
      "Manoj Bajpayee\n",
      "Paoli Dam\n",
      "Sanya Malhotra\n",
      "Shahid Kapoor\n",
      "Abhishek Bharate\n",
      "Nawazuddin Siddiqui\n",
      "Manish Anand\n",
      "Taapsee Pannu\n",
      "Jackky Bhagnani\n",
      "Anushka Sharma\n",
      "Radhika Apte\n",
      "Rhea Chakraborty\n",
      "Govinda\n",
      "Sohum Shah\n",
      "Kajol\n",
      "Arjun Kapoor\n",
      "Ayushmann Khurrana\n",
      "Ayushmann Khurrana\n",
      "Nargis Fakhri\n",
      "Aishwarya Devan\n",
      "Neil Nitin Mukesh\n",
      "Shakti Kapoor\n",
      "Amit Sadh\n",
      "Sunny Deol\n",
      "Rahul Bagga\n",
      "Sunny Deol\n",
      "Amyra Dastur\n",
      "Shah Rukh Khan\n",
      "Ranveer Singh\n",
      "Salman Khan\n",
      "Ajay Devgn\n",
      "Varun Dhawan\n",
      "Shraddha Kapoor\n",
      "Sunil Grover\n",
      "Hrithik Roshan\n",
      "Raj Arjun\n",
      "Aamir Khan\n",
      "Gurmeet Ram Rahim Singh\n",
      "Arsh Bajwa\n",
      "Rana Daggubati\n",
      "Naseeruddin Shah\n",
      "Kangana Ranaut\n",
      "Nana Patekar\n",
      "Arbaaz Khan\n",
      "Varun Dhawan\n",
      "Rajkummar Rao\n",
      "Govinda\n",
      "Rajat Kapoor\n",
      "Anushka Sharma\n",
      "Kiara Advani\n",
      "Shaurya Singh\n",
      "Pankaj Tripathi\n",
      "Taapsee Pannu\n",
      "Adil Hussain\n",
      "Amitabh Bachchan\n",
      "Sunny Leone\n",
      "Hema Malini\n",
      "Raveena Tandon\n",
      "Amitabh Bachchan\n",
      "Amardeep Insan\n",
      "Shraddha Kapoor\n",
      "Ayushmann Khurrana\n",
      "Sachin Tendulkar\n",
      "Irrfan Khan\n",
      "Himansh Kohli\n",
      "Adil Hussain\n",
      "Jayesh Raj\n",
      "Manisha Koirala\n",
      "Deepika Padukone\n",
      "Rajkummar Rao\n",
      "Salman Khan\n",
      "Riteish Deshmukh\n",
      "Shiv Darshan\n",
      "Ranbir Kapoor\n",
      "Ashish Bisht\n",
      "Aahana Kumra\n",
      "Manoj Babani\n",
      "Rajveer Ankur Singh\n",
      "Kirti Kulhari\n",
      "Shah Rukh Khan\n",
      "Tiger Shroff\n",
      "Akshay Kumar\n",
      "Anil Kapoor\n",
      "Kartik Aaryan\n",
      "Ayushmann Khurrana\n",
      "Nawazuddin Siddiqui\n",
      "Prisha Aneja\n",
      "Aadar Jain\n",
      "Ayushmann Khurrana\n",
      "Kunal Kapoor\n",
      "Arjun Rampal\n",
      "Kangana Ranaut\n",
      "Farhan Akhtar\n",
      "Sidharth Malhotra\n",
      "Hugh Bonneville\n",
      "Rishi Kapoor\n",
      "Rajkummar Rao\n",
      "Kunaal Roy Kapur\n",
      "Sunny Leone\n",
      "Shraddha Kapoor\n",
      "Rina Charaniya\n",
      "Nawazuddin Siddiqui\n",
      "Sunny Deol\n",
      "Sridevi\n",
      "Saif Ali Khan\n",
      "Soundarya Sharma\n",
      "Sudha Chandran\n",
      "Manoj Bajpayee\n",
      "Zaira Wasim\n",
      "Prakash Belawadi\n",
      "Kalki Koechlin\n",
      "Rajkummar Rao\n",
      "Richa Chadha\n",
      "Irrfan Khan\n",
      "Zareen Khan\n",
      "Nayna Bandhopadhyay\n",
      "Vidya Balan\n",
      "Nishikant Kamat\n",
      "Sanjay Mishra\n",
      "Kapil Sharma\n",
      "Pulkit Samrat\n",
      "Vijay Varma\n",
      "Sushama Deshpande\n",
      "Richa Chadha\n",
      "Prince Shah\n",
      "Tanima Bhattacharya\n",
      "Akshay Kumar\n",
      "Zeenat Aman\n",
      "Madhavan\n",
      "Tusshar Kapoor\n",
      "Tusshar Kapoor\n",
      "Himansh Kohli\n",
      "Sadhana Singh\n",
      "Sunny Deol\n",
      "Aditya Roy Kapoor\n",
      "Rishi Kapoor\n",
      "Rajniesh Duggall\n",
      "Krishna Chaturvedi\n",
      "Girish Taurani\n",
      "Sonam Kapoor\n",
      "Sukhesh Arora\n",
      "Raima Sen\n",
      "Anuj Sachdeva\n",
      "Parthaa Akerkar\n",
      "Priyanka Chopra\n",
      "Sidharth Malhotra\n",
      "John Abraham\n",
      "Patralekhaa Paul\n",
      "Shah Rukh Khan\n",
      "Swara Bhaskar\n",
      "Randeep Hooda\n",
      "Shraddha Kapoor\n",
      "Pankaj Tripathi\n",
      "Jimmy Sheirgill\n",
      "Kartik Elangovan\n",
      "Boman Irani\n",
      "Manoj Bajpayee\n",
      "Sharman Joshi\n",
      "Emraan Hashmi\n",
      "Aanchal Dwivedi\n",
      "Sanjay Singh\n",
      "Arvind Swamy\n",
      "Radhika Apte\n",
      "Randeep Hooda\n",
      "Sachiin Joshi\n",
      "Kajal Aggarwal\n",
      "Amitabh Bachchan\n",
      "Shahid Kapoor\n",
      "Hazel Croney\n",
      "V. Ravichandran\n",
      "Vipin Sharma\n",
      "Nawazuddin Siddiqui\n",
      "Pulkit Samrat\n",
      "Tannishtha Chatterjee\n",
      "Krrish Chhabria\n",
      "Avinash Dhyani\n",
      "Zeenat Aman\n",
      "Salman Khan\n",
      "Shashank Arora\n",
      "Urvashi Rautela\n",
      "Naseeruddin Shah\n",
      "Sara Loren\n",
      "Tom Alter\n",
      "Irrfan Khan\n",
      "John Abraham\n",
      "Rajeev Khandelwal\n",
      "Ileana D'Cruz\n",
      "Sahil Anand\n",
      "Hrithik Roshan\n",
      "Diana Penty\n",
      "Niharica Raizada\n",
      "Tiger Shroff\n",
      "Sidharth Malhotra\n",
      "Nawazuddin Siddiqui\n",
      "Emraan Hashmi\n",
      "Taapsee Pannu\n",
      "Tannishtha Chatterjee\n",
      "Riteish Deshmukh\n",
      "Yash Soni\n",
      "Shreyas Talpade\n",
      "Vinay Pathak\n",
      "Jimmy Sharma\n",
      "Sushant Singh Rajput\n",
      "Ashok Insan\n",
      "RJ Balaji\n",
      "Saurav Chakraborty\n",
      "Shashank Udapurkar\n",
      "Shubham\n",
      "Manoj Bajpayee\n",
      "Sunny Leone\n",
      "Aashish Bhatt\n",
      "Ajay Devgn\n",
      "Ronit Roy\n",
      "Ranbir Kapoor\n",
      "Neha Sharma\n",
      "Farhan Akhtar\n",
      "John Abraham\n",
      "Alia Bhatt\n",
      "Vaani Kapoor\n",
      "Neha Dhupia\n",
      "Jimmy Sheirgill\n",
      "Sonarika Bhadoria\n",
      "Amitabh Bachchan\n",
      "Sharman Joshi\n",
      "Aamir Khan\n",
      "Harshvardhan Kapoor\n",
      "Salman Khan\n",
      "Kangana Ranaut\n",
      "Kangana Ranaut\n",
      "Soha Ali Khan\n",
      "Prabhu Deva\n",
      "Shah Rukh Khan\n",
      "Salman Khan\n",
      "Ranveer Singh\n",
      "Anil Kapoor\n",
      "Akshay Kumar\n",
      "Akshay Kumar\n",
      "Akshay Kumar\n",
      "Akshay Kumar\n",
      "Shakti Kapoor\n",
      "Bipasha Basu\n",
      "Arjun Kapoor\n",
      "Zayed Khan\n",
      "Malaika Arora\n",
      "Naman Jain\n",
      "Gurmeet Choudhary\n",
      "Kay Kay Menon\n",
      "Rati Agnihotri\n",
      "Amitabh Bachchan\n",
      "Arjun Rampal\n",
      "Varun Dhawan\n",
      "Swanand Kirkire\n",
      "Sulabha Arya\n",
      "Irrfan Khan\n",
      "Nana Patekar\n",
      "Ayushmann Khurrana\n",
      "Anupam Kher\n",
      "Gurmeet Ram Rahim Singh\n",
      "Sidhant Gupta\n",
      "Arjun Mathur\n",
      "Ganesh Acharya\n",
      "Anushka Sharma\n",
      "Gulshan Devaiah\n",
      "Sushant Singh Rajput\n",
      "Adhyayan Suman\n",
      "Vira Sathidar\n",
      "Kalki Koechlin\n",
      "Sunny Leone\n",
      "Sara Loren\n",
      "Emraan Hashmi\n",
      "Auroshika Dey\n",
      "Ira Dubey\n",
      "Naseeruddin Shah\n",
      "Vinay Pathak\n",
      "Ram Kapoor\n",
      "Deepika Padukone\n",
      "Ranbir Kapoor\n",
      "Shakti Anand\n",
      "Anil Kapoor\n",
      "Arshad Warsi\n",
      "Meenakshi Dixit\n",
      "Yash Acharya\n",
      "Rajkummar Rao\n",
      "Rahul Bagga\n",
      "Mohit Baghel\n",
      "Rishi Verma\n",
      "Mimoh Chakraborty\n",
      "Swara Bhaskar\n",
      "Richa Chadha\n",
      "Arshad Warsi\n",
      "Mugdha Godse\n",
      "Yashpal Sharma\n",
      "Dharmendra\n",
      "Sunny Deol\n",
      "Smitha Gondkar\n",
      "Kunal Kapoor\n",
      "Ajay Devgn\n",
      "Jacqueline Fernandez\n",
      "Rishi Kapoor\n",
      "Akshay Kumar\n",
      "Vinay Pathak\n",
      "Nawazuddin Siddiqui\n",
      "Bhavita Anand\n",
      "Saif Ali Khan\n",
      "Suraj Pancholi\n",
      "Shamim Khan\n",
      "Irrfan Khan\n",
      "Suhaas Ahuja\n",
      "Jaideep Ahlawat\n",
      "Charanpreet Insan\n",
      "Akanksha Puri\n",
      "Kunal Khemu\n",
      "Aishwarya Rai Bachchan\n",
      "Seema Azmi\n",
      "Parveen Kaur\n",
      "Kapil Sharma\n",
      "Kartik Aaryan\n",
      "Diganth\n",
      "Shahid Kapoor\n",
      "Nawazuddin Siddiqui\n",
      "Kunal Khemu\n",
      "Mann Bagga\n",
      "Manish Paul\n",
      "Sanjeev Kumar\n",
      "Madhuri Dixit\n",
      "Shiv Darshan\n",
      "Gopi Desai\n",
      "Mohinder Gujral\n",
      "Zeenat Aman\n",
      "Ranveer Singh\n",
      "Salman Khan\n",
      "Sidharth Malhotra\n",
      "Adhyayan Suman\n",
      "Indrapal Ahuja\n",
      "Jimmy Sheirgill\n",
      "Abhay Deol\n",
      "Sahil Anand\n",
      "Alia Bhatt\n",
      "Sampat Pal Devi\n",
      "Farhan Akhtar\n",
      "Madhuri Dixit\n",
      "Kangana Ranaut\n",
      "Ayushmann Khurrana\n",
      "Ali Zafar\n",
      "Mahek Chahal\n",
      "Monali Thakur\n",
      "Sunny Leone\n",
      "Harman Baweja\n",
      "Sanjay Mishra\n",
      "Sharman Joshi\n",
      "Sachin Khedekar\n",
      "Leeza Mangaldas\n",
      "Pulkit Samrat\n",
      "Zara Sheikh\n",
      "Arjun Kapoor\n",
      "Purab Kohli\n",
      "Amitabh Bachchan\n",
      "Varun Dhawan\n",
      "Arvinder Bhatti\n",
      "Kanika Batra\n",
      "Jackky Bhagnani\n",
      "Rajeev Khandelwal\n",
      "Tanuj Virwani\n",
      "Vijay Raaz\n",
      "Kannan Arunachalam\n",
      "Anjori Alagh\n",
      "Satish Kaushik\n",
      "Rahul Bagga\n",
      "Himesh Reshammiya\n",
      "Farooq Shaikh\n",
      "Makrand Deshpande\n",
      "Eesha Agarwal\n",
      "Siddharth Gupta\n",
      "Tiger Shroff\n",
      "Rajkummar Rao\n",
      "Sharib Hashmi\n",
      "Kangana Ranaut\n",
      "Kartik Aaryan\n",
      "Swara Bhaskar\n",
      "Simer Motiani\n",
      "Anshuman Jha\n",
      "Sidharth Malhotra\n",
      "Vidya Balan\n",
      "Saif Ali Khan\n",
      "Varun Dhawan\n",
      "Jay Bhanushali\n",
      "Armaan Jain\n",
      "Rajesh Khanna\n",
      "Vir Das\n",
      "Akshay Kumar\n",
      "Jimmy Sheirgill\n",
      "Reshmi Ghosh\n",
      "Akshay Oberoi\n",
      "Akshay Kumar\n",
      "Anupam Kher\n",
      "Rani Mukerji\n",
      "Emraan Hashmi\n",
      "Priyanka Chopra\n",
      "Bipasha Basu\n",
      "Deepika Padukone\n",
      "Sonam Kapoor\n",
      "Salil Acharya\n",
      "Salman Khan\n",
      "Saahil Prem\n",
      "Alieesa P Badresia\n",
      "Manoj Amarnani\n",
      "Sasha Aagha\n",
      "Tabu\n",
      "Hrithik Roshan\n",
      "Rati Agnihotri\n",
      "Aditya Roy Kapoor\n",
      "Asrani\n",
      "Harshvardhan Deo\n",
      "Nikhil Dwivedi\n",
      "Karanvir Bohra\n",
      "Puru Chibber\n",
      "Soha Ali Khan\n",
      "Rhea Chakraborty\n",
      "Shah Rukh Khan\n",
      "Rekha\n",
      "Anupam Kher\n",
      "Randeep Hooda\n",
      "Akshay Kumar\n",
      "Aadil Chahal\n",
      "Shabana Azmi\n",
      "Dimple Kapadia\n",
      "Nishant Dahiya\n",
      "Ranveer Singh\n",
      "Emraan Hashmi\n",
      "Saif Ali Khan\n",
      "Vinod Acharya\n",
      "Mannara Chopra\n",
      "Prabhas\n",
      "Mischa Barton\n",
      "Shiv Panditt\n",
      "Annu Kapoor\n",
      "Barun Sobti\n",
      "Rahul Bhat\n",
      "Aamir Khan\n",
      "Adhyayan Suman\n",
      "Imran Khan\n",
      "Naveen Kasturia\n",
      "Arjun Rampal\n",
      "Sarita Joshi\n",
      "Kartik Aaryan\n",
      "Juhi Chawla\n",
      "Saif Ali Khan\n",
      "Manisha Kelkar\n",
      "Farooq Shaikh\n",
      "Akshay Kumar\n",
      "Randeep Hooda\n",
      "Vivek Oberoi\n",
      "Rajkummar Rao\n",
      "Akash\n",
      "Vishwa Mohan Badola\n",
      "Neil Nitin Mukesh\n",
      "Saqib Saleem\n",
      "Arshad Warsi\n",
      "Jimmy Sheirgill\n",
      "Asha Bhosle\n",
      "Kamal Haasan\n",
      "Jackky Bhagnani\n",
      "Aditya Roy Kapoor\n",
      "Emraan Hashmi\n",
      "Ajay Devgn\n",
      "Ayushmann Khurrana\n",
      "Vivek Oberoi\n",
      "Vidyut Jammwal\n",
      "Rani Mukerji\n",
      "Saif Ali Khan\n",
      "Riya Vij\n",
      "Arjun Kapoor\n",
      "Preity Zinta\n",
      "Veena Malik\n",
      "Ranbir Kapoor\n",
      "Pulkit Samrat\n",
      "Rupa Bhimani\n",
      "Dhanush\n",
      "Kay Kay Menon\n",
      "Neil Nitin Mukesh\n",
      "Vidya Balan\n",
      "Anupam Kher\n",
      "Sanjay Dutt\n",
      "Farhan Akhtar\n",
      "Wamiqa Gabbi\n",
      "Shadab Kamal\n",
      "Sunil Shetty\n",
      "Prateik\n",
      "Tusshar Kapoor\n",
      "Tanuj Virwani\n",
      "Poonam Pandey\n",
      "Deepak Dobriyal\n",
      "Hemant Gopal\n",
      "Joy Mukherjee\n",
      "Rishi Kapoor\n",
      "Rajesh Tailang\n",
      "Akshay Kumar\n",
      "John Abraham\n",
      "Amitabh Bachchan\n",
      "Sushant Singh Rajput\n",
      "Shruti Haasan\n",
      "Deepika Padukone\n",
      "Vivek Oberoi\n",
      "Naseeruddin Shah\n",
      "Karan Kundrra\n",
      "Shahid Kapoor\n",
      "Aida Elkashef\n",
      "Irrfan Khan\n",
      "Anisa Butt\n",
      "Akshay Kumar\n",
      "Rajkummar Rao\n",
      "Manish Paul\n",
      "Puneet Singh Ratn\n",
      "Kangana Ranaut\n",
      "Sumit Nijhawan\n",
      "Tinnu Anand\n",
      "Chandan Roy Sanyal\n",
      "Elisha Kriis\n",
      "Ashmit Patel\n",
      "Imran Khan\n",
      "Manu Rishi Chadha\n",
      "Naseeruddin Shah\n",
      "Paresh Rawal\n",
      "Saif Ali Khan\n",
      "Aamir Khan\n",
      "Ali Zafar\n",
      "Ranveer Singh\n",
      "Sharman Joshi\n",
      "Naseeruddin Shah\n",
      "Shiney Ahuja\n",
      "Karan Sharma\n",
      "Sunny Deol\n",
      "Ranveer Singh\n",
      "Hrithik Roshan\n",
      "Kareena Kapoor\n",
      "Prateik\n",
      "Kiran Bhatia\n",
      "Bipasha Basu\n",
      "Riteish Deshmukh\n",
      "Jahangir Khan\n",
      "Irrfan Khan\n",
      "Vidya Balan\n",
      "Mithun Chakraborty\n",
      "Kareena Kapoor\n",
      "Manish Chaudhary\n",
      "Kavin Dave\n",
      "Shikhi Gupta\n",
      "Archana Joglekar\n",
      "Tusshar Kapoor\n",
      "Pulkit Samrat\n",
      "Ayushmann Khurrana\n",
      "Nikhil Dwivedi\n",
      "Anil Kapoor\n",
      "Karisma Kapoor\n",
      "Arjun Kapoor\n",
      "Sanjay Dutt\n",
      "Gul Panag\n",
      "Yudhveer Bakoliya\n",
      "Kay Kay Menon\n",
      "Emraan Hashmi\n",
      "Sharman Joshi\n",
      "Shahid Kapoor\n",
      "Anupam Kher\n",
      "Anya Anand\n",
      "Julia Datt\n",
      "Manoj Bajpayee\n",
      "Manoj Bajpayee\n",
      "Saif Ali Khan\n",
      "Naresh Sharma\n",
      "Riteish Deshmukh\n",
      "Sonu Sood\n",
      "Nassar Abdulla\n",
      "Salman Khan\n",
      "Vickrant Mahajan\n",
      "Freny Bhagat\n",
      "Akshay Kumar\n",
      "Omkar Das Manikpuri\n",
      "Sunil Shetty\n",
      "Manoj Bajpayee\n",
      "Bidita Bag\n",
      "Harish Chabbra\n",
      "Ranbir Kapoor\n",
      "Kareena Kapoor\n",
      "Sagar Bhangade\n",
      "Vivek Oberoi\n",
      "Ravi Kishan\n",
      "Paresh Rawal\n",
      "Rani Mukerji\n",
      "Manoj Bajpayee\n",
      "J.D. Chakravarthi\n",
      "Cary Elwes\n",
      "Arjun Rampal\n",
      "Alia Bhatt\n",
      "Jackky Bhagnani\n",
      "Emraan Hashmi\n",
      "Vicky Ahuja\n",
      "Sunidhi Chauhan\n",
      "Asrani\n",
      "Shah Rukh Khan\n",
      "Aamir Khan\n",
      "Himanshu Bhatt\n",
      "Ajay Devgn\n",
      "Ashok Banthia\n",
      "Salman Khan\n",
      "Vinod Khanna\n",
      "Akshay Kumar\n",
      "Amitabh Bachchan\n",
      "Sridevi\n",
      "Vivek Sudershan\n",
      "Nafisa Ali\n",
      "Mohsin\n",
      "Prateik\n",
      "Gul Panag\n",
      "Vatsal Sheth\n",
      "Ajay Devgn\n",
      "Russell Geoffrey Banks\n",
      "Vinay Pathak\n",
      "Rishi Kapoor\n",
      "Priyanka Chopra\n",
      "Madhavan\n",
      "Arshad Warsi\n",
      "Deepti Naval\n",
      "Akshay Kumar\n",
      "Sumit Arora\n",
      "Anay\n",
      "Om Puri\n",
      "Abhishek Bachchan\n",
      "Sendhil Ramamurthy\n",
      "Darsheel Safary\n",
      "Vinay Pathak\n",
      "Ishaan Manhaas\n",
      "Sanjay Mishra\n",
      "Ashutosh Rana\n",
      "Juhi Chawla\n",
      "Govinda\n",
      "Mimoh Chakraborty\n",
      "Tusshar Kapoor\n",
      "Kainaz Motivala\n",
      "Partho A. Gupte\n",
      "Nana Patekar\n",
      "Sara Arjun\n",
      "Kalki Koechlin\n",
      "Kartik Aaryan\n",
      "Vinay Pathak\n",
      "Lillete Dubey\n",
      "Sanjay Dutt\n",
      "Amitabh Bachchan\n",
      "Imran Khan\n",
      "Emraan Hashmi\n",
      "Aarav Khanna\n",
      "Hrithik Roshan\n",
      "Raghuvir Yadav\n",
      "Gulshan Grover\n",
      "Naushaad Abbas\n",
      "Shefali Shah\n",
      "Ajay Devgn\n",
      "Rahul Jaiswal\n",
      "Apoorva Arora\n",
      "Isha Koppikar\n",
      "Rajniesh Duggall\n",
      "Amitabh Bachchan\n",
      "Sanjay Dutt\n",
      "Anupam Kher\n",
      "Salman Khan\n",
      "Deepshika Nagpal\n",
      "Deepak Dobriyal\n",
      "Tusshar Kapoor\n",
      "Kiron Kher\n",
      "Imran Khan\n",
      "Shahid Kapoor\n",
      "Mikaal\n",
      "John Abraham\n",
      "Jimmy Sheirgill\n",
      "Vinay Pathak\n",
      "Vinay Virmani\n",
      "Dev Anand\n",
      "Zayed Khan\n",
      "Saqib Saleem\n",
      "Sachiin Joshi\n",
      "Shah Rukh Khan\n",
      "Ranbir Kapoor\n",
      "Chirag Paswan\n",
      "Dharmendra\n",
      "Himesh Reshammiya\n",
      "Ranveer Singh\n",
      "Akshay Kumar\n",
      "Abhishek Bachchan\n",
      "Rani Mukerji\n",
      "Ajay Devgn\n",
      "Vidya Balan\n",
      "Priyanka Chopra\n",
      "Shahid Kapoor\n",
      "Prateik\n",
      "Salman Khan\n",
      "Siddharth\n",
      "Amitabh Bachchan\n",
      "Vidya Balan\n",
      "Paresh Rawal\n",
      "Sunny Gill\n",
      "Shreyas Talpade\n",
      "Tabu\n",
      "Shah Rukh Khan\n",
      "Amitabh Bachchan\n",
      "Siddhartha Gupta\n",
      "Shah Rukh Khan\n",
      "Tanushree Dutta\n",
      "Paul Sidhu\n",
      "Sunny Deol\n",
      "Gurdas Maan\n",
      "Master Shams\n",
      "Om Puri\n",
      "Vikrum Kumar\n",
      "Aditya Narayan\n",
      "Arshad Warsi\n",
      "Boman Irani\n",
      "Nana Patekar\n",
      "Priyanka Chopra\n",
      "Arbaaz Khan\n",
      "Rekha\n",
      "Rahul Bose\n",
      "Nana Patekar\n",
      "Sudeep\n",
      "Farooq Shaikh\n",
      "Rohit Roy\n",
      "Sachin Khedekar\n",
      "Anuj Saxena\n",
      "Akshay Kumar\n",
      "Hazel Croney\n",
      "Sanjeev Bhaskar\n",
      "Vivek Oberoi\n",
      "Abhishek Bachchan\n",
      "Atul Kulkarni\n",
      "Rajpal Yadav\n",
      "Hrithik Roshan\n",
      "Nushrat Bharucha\n",
      "Kareena Kapoor\n",
      "Bhushan Agarwal\n",
      "Prashant Narayanan\n",
      "Sanjay Dutt\n",
      "Akshay Kumar\n",
      "Ali Zafar\n",
      "Rajat Barmecha\n",
      "Ajay Devgn\n",
      "Bobby Deol\n",
      "Omkar Das Manikpuri\n",
      "Neil Nitin Mukesh\n",
      "Gul Panag\n",
      "Raj Singh Chaudhary\n",
      "John Abraham\n",
      "Barkha Madan\n",
      "Salman Khan\n",
      "Supriya Pathak\n",
      "Sunil Shetty\n",
      "Rituparna Sengupta\n",
      "Ranvir Shorey\n",
      "Mallika Sherawat\n",
      "Emraan Hashmi\n",
      "Rishi Kapoor\n",
      "Ajay Devgn\n",
      "Manoj Bajpayee\n",
      "Sanjay Dutt\n",
      "John Abraham\n",
      "Hrithik Roshan\n",
      "Varun Bhagwat\n",
      "Deepika Padukone\n",
      "Sunny Deol\n",
      "Rajat Kapoor\n",
      "Akanksha\n",
      "Jimmy Sheirgill\n",
      "Sanjay Dutt\n",
      "Ranveer Singh\n",
      "Aditya Srivastava\n",
      "Arunoday Singh\n",
      "Akshay Kumar\n",
      "Akshay Oberoi\n",
      "Ajay Devgn\n",
      "Neil Nitin Mukesh\n",
      "Sahil Khan\n",
      "Imran Khan\n",
      "Sushmita Sen\n",
      "Priyanka Chopra\n",
      "Zeenat Aman\n",
      "Bipasha Basu\n",
      "Akshay Kumar\n",
      "Aamir Khan\n",
      "Farhan Akhtar\n",
      "Saif Ali Khan\n",
      "Salman Khan\n",
      "Waheeda Rehman\n",
      "Kangana Ranaut\n",
      "Hrishitaa Bhatt\n",
      "Ranbir Kapoor\n",
      "Asrani\n",
      "Irrfan Khan\n",
      "Kay Kay Menon\n",
      "Arshad Warsi\n",
      "Paresh Rawal\n",
      "Rati Agnihotri\n",
      "Harman Baweja\n",
      "Shahid Kapoor\n",
      "Fardeen Khan\n",
      "John Abraham\n",
      "Kay Kay Menon\n",
      "Aftab Shivdasani\n",
      "Naseeruddin Shah\n",
      "Inaamulhaq\n",
      "Neil Nitin Mukesh\n",
      "Kunal Khemu\n",
      "Bobby Deol\n",
      "Anita\n",
      "Parzaan Dastur\n",
      "Meghan Jadhav\n",
      "Shreyas Talpade\n",
      "John Abraham\n",
      "Kay Kay Menon\n",
      "Sanjay Dutt\n",
      "Mithun Chakraborty\n",
      "Govinda\n",
      "Sunil Shetty\n",
      "Jackie Shroff\n",
      "Anupam Kher\n",
      "Shreyas Talpade\n",
      "Rishi Kapoor\n",
      "Rajendra Prasad\n",
      "Arjun Rampal\n",
      "Mithun Chakraborty\n",
      "Mithun Chakraborty\n",
      "Bobby Deol\n",
      "Shahid Kapoor\n",
      "Harman Baweja\n",
      "Fardeen Khan\n",
      "Sanjay Dutt\n",
      "Ranbir Kapoor\n",
      "Salman Khan\n",
      "Akshay Kumar\n",
      "Atmaram Bhende\n",
      "Amitabh Bachchan\n",
      "Salman Khan\n",
      "Manoj Bajpayee\n",
      "Emraan Hashmi\n",
      "Lewis Tan\n",
      "Akshay Kumar\n",
      "Amitabh Bachchan\n",
      "Ranbir Kapoor\n",
      "Aamir Bashir\n",
      "Farooq Shaikh\n",
      "Mithun Chakraborty\n",
      "Abhishek Bachchan\n",
      "Saif Ali Khan\n",
      "Shah Rukh Khan\n",
      "Aamir Khan\n",
      "Akshay Kumar\n",
      "Ajay Devgn\n",
      "Hrithik Roshan\n",
      "Ranbir Kapoor\n",
      "Amitabh Bachchan\n",
      "Amitabh Bachchan\n",
      "Ajay Devgn\n",
      "Omkar Bhatkar\n",
      "Shreyas Talpade\n",
      "Manisha Koirala\n",
      "Ajay Devgn\n",
      "Tusshar Kapoor\n",
      "Juhi Chawla\n",
      "Ajay Devgn\n",
      "Kay Kay Menon\n",
      "Akshay Kumar\n",
      "Dino Morea\n",
      "Mimoh Chakraborty\n",
      "Emraan Hashmi\n",
      "Mithun Chakraborty\n",
      "Sikander Kher\n",
      "Paresh Rawal\n",
      "Ahraz Ahmed\n",
      "Aftab Shivdasani\n",
      "Amita Pathak\n",
      "Saahil Chadha\n",
      "Saif Ali Khan\n",
      "Kay Kay Menon\n",
      "Shahid Kapoor\n",
      "Harman Baweja\n",
      "Adhvik Mahajan\n",
      "Vivek Oberoi\n",
      "Govinda\n",
      "Amitabh Bachchan\n",
      "Paresh Rawal\n",
      "Mallika Sherawat\n",
      "Arjun Rampal\n",
      "Tusshar Kapoor\n",
      "Bobby Deol\n",
      "Sammir Dattani\n",
      "Victor Banerjee\n",
      "Rajniesh Duggall\n",
      "Amitabh Bachchan\n",
      "Shreyas Talpade\n",
      "Kiron Kher\n",
      "Jackie Shroff\n",
      "Jayshree Arora\n",
      "Sharman Joshi\n",
      "Himesh Reshammiya\n",
      "Sohail Khan\n",
      "Saif Ali Khan\n",
      "Isha Koppikar\n",
      "Kamal Rashid Khan\n",
      "Priyanka Chopra\n",
      "Vinay Pathak\n",
      "Salman Khan\n",
      "Abhay Deol\n",
      "Vinay Pathak\n",
      "Shabana Azmi\n",
      "Manoj Bajpayee\n",
      "Anupam Kher\n",
      "Rajesh Khanna\n",
      "Dino Morea\n",
      "Irrfan Khan\n",
      "Amitabh Bachchan\n",
      "Himesh Reshammiya\n",
      "Tusshar Kapoor\n",
      "Nauheed Cyrusi\n",
      "Madhuri Dixit\n",
      "Dharmendra\n",
      "Emraan Hashmi\n",
      "Vinay Pathak\n",
      "Akshay Kumar\n",
      "Dino Morea\n",
      "Sunny Deol\n",
      "Mouli Ganguly\n",
      "Krishna Abhishek\n",
      "Irrfan Khan\n",
      "Kay Kay Menon\n",
      "Pankaj Kapur\n",
      "Jazzy Doe\n",
      "Mona Ambegaonkar\n",
      "Ajay Devgn\n",
      "Amitabh Bachchan\n",
      "Jimmy Sheirgill\n",
      "Fardeen Khan\n",
      "Shah Rukh Khan\n",
      "Sanjay Dutt\n",
      "John Abraham\n",
      "Pankaj Kapur\n",
      "Sunil Pal\n",
      "Muzamil Ibrahim\n",
      "Imaaduddin Shah\n",
      "Sharman Joshi\n",
      "Abhay Deol\n",
      "Arjun Rampal\n",
      "Akshaye Khanna\n",
      "Rishi Kapoor\n",
      "Arbaaz Khan\n",
      "Amitabh Bachchan\n",
      "Gautam Gupta\n",
      "Mohan Azaad\n",
      "Juanna Sanghvi\n",
      "Mithun Chakraborty\n",
      "Ranvir Shorey\n",
      "Govinda\n",
      "Abhishek Bachchan\n",
      "Shahid Kapoor\n",
      "Tusshar Kapoor\n",
      "Shahid Kapoor\n",
      "Shiney Ahuja\n",
      "Dharmendra\n",
      "Fardeen Khan\n",
      "Tusshar Kapoor\n",
      "Rekha\n",
      "Jimmy Sheirgill\n",
      "Rani Mukerji\n",
      "Dharmendra\n",
      "Shabana Azmi\n",
      "Abhay Deol\n",
      "Salman Khan\n",
      "Menekka Arora\n",
      "Nana Patekar\n",
      "Bobby Deol\n",
      "Linda Arsenio\n",
      "Kal Penn\n",
      "Akshay Kumar\n",
      "Jason Lewis\n",
      "Sanjay Dutt\n",
      "Amitabh Bachchan\n",
      "John Abraham\n",
      "Shah Rukh Khan\n",
      "Salman Khan\n",
      "Rahul Khanna\n",
      "Dwij Yadav\n",
      "Aftab Shivdasani\n",
      "Vinod Khanna\n",
      "Bobby Deol\n",
      "Sherlyn Chopra\n",
      "Salman Khan\n",
      "Rani Mukerji\n",
      "Mahima Chaudhry\n",
      "Mandar Jadhav\n",
      "Aftab Shivdasani\n",
      "Amitabh Bachchan\n",
      "Jimmy Sheirgill\n",
      "Manoj Bajpayee\n",
      "Darsheel Safary\n",
      "Saif Ali Khan\n",
      "Urmila Matondkar\n",
      "Kunal Khemu\n",
      "Emraan Hashmi\n",
      "Tushar Jalota\n",
      "Jaya Bachchan\n",
      "Akshay Kumar\n",
      "Akshaye Khanna\n",
      "Jeetendra\n",
      "Akshaye Khanna\n",
      "Abhay Deol\n",
      "Emraan Hashmi\n",
      "Akshay Kapoor\n",
      "Sanjay Dutt\n",
      "Bobby Darling\n",
      "Aftab Shivdasani\n",
      "Rekha\n",
      "Amitabh Bachchan\n",
      "Rati Agnihotri\n",
      "Rahul Dev\n",
      "Naseeruddin Shah\n",
      "Urmila Matondkar\n",
      "Juhi Chawla\n",
      "Akshay Kumar\n",
      "Sushmita Sen\n",
      "Jackie Shroff\n",
      "Somesh Agarwal\n",
      "Sohail Khan\n",
      "Kareena Kapoor\n",
      "Bipasha Basu\n",
      "Amitabh Bachchan\n",
      "Rajit Kapoor\n",
      "Emraan Hashmi\n",
      "Ishrat Ali\n",
      "Raj Tara\n",
      "Hrithik Roshan\n",
      "Ayesha Takia\n",
      "Shah Rukh Khan\n",
      "Amitabh Bachchan\n",
      "Aamir Khan\n",
      "Kangana Ranaut\n",
      "Ajay Devgn\n",
      "Ram Kapoor\n",
      "Sunil Shetty\n",
      "Ajay Devgn\n",
      "Akshay Kumar\n",
      "Arjun Rampal\n",
      "Arjun Rampal\n",
      "Aftab Shivdasani\n",
      "Salman Khan\n",
      "Emraan Hashmi\n",
      "Onjolee Nair\n",
      "Amarjeet\n",
      "Anupam Kher\n",
      "Amitabh Bachchan\n",
      "Rishi Kapoor\n",
      "Sanjay Dutt\n",
      "John Abraham\n",
      "Nassar Abdulla\n",
      "Rekha\n",
      "Paresh Rawal\n",
      "Ajay Devgn\n",
      "Rahul Bose\n",
      "Sunny Deol\n",
      "Akshay Kumar\n",
      "Fardeen Khan\n",
      "Akshay Kumar\n",
      "Jeetendra\n",
      "Sarika\n",
      "Aamir Khan\n",
      "Salman Khan\n",
      "Govinda\n",
      "Akshaye Khanna\n",
      "Salman Khan\n",
      "Mohit Ahlawat\n",
      "Mahima Chaudhry\n",
      "Ajay Devgn\n",
      "Mohammad Amir Naji\n",
      "Sanjay Dutt\n",
      "Irrfan Khan\n",
      "Aishwarya Rai Bachchan\n",
      "Nana Patekar\n",
      "Sunny Deol\n",
      "Shahid Kapoor\n",
      "Priyanshu Chatterjee\n",
      "Gurdas Maan\n",
      "Kangana Ranaut\n",
      "Paresh Rawal\n",
      "Jimmy Sheirgill\n",
      "Sushmita Sen\n",
      "Rakesh Bedi\n",
      "Emraan Hashmi\n",
      "Manisha Koirala\n",
      "Ajay Devgn\n",
      "Rekha\n",
      "Juhi Chawla\n",
      "Bobby Deol\n",
      "Anil Kapoor\n",
      "Amitabh Bachchan\n",
      "Sanjay Dutt\n",
      "Abhishek Bachchan\n",
      "Shawar Ali\n",
      "Ali Asgar\n",
      "Tabu\n",
      "Ajay Devgn\n",
      "Abhishek Bachchan\n",
      "Aryan Vaid\n",
      "Jatin Grewal\n",
      "Samir Aftab\n",
      "Anil Kapoor\n",
      "Randeep Hooda\n",
      "Akshay Kumar\n",
      "Saayli Buva\n",
      "Bipasha Basu\n",
      "Amitabh Bachchan\n",
      "Akshay Kumar\n",
      "Mithun Chakraborty\n",
      "Sanjay Dutt\n",
      "Arjun Rampal\n",
      "Shilpa Shetty Kundra\n",
      "Amitabh Bachchan\n",
      "Siddharth Koirala\n",
      "Fardeen Khan\n",
      "Ayesha Jhulka\n",
      "Aseel Adel\n",
      "Vivek Oberoi\n",
      "Akshay Kumar\n",
      "Shreyas Talpade\n",
      "Chiranjeevi\n",
      "Kay Kay Menon\n",
      "Akshay Kumar\n",
      "Sunny Deol\n",
      "John Abraham\n",
      "Ajay Devgn\n",
      "Kunal Khemu\n",
      "Lucky Ali\n",
      "Mukesh Khanna\n",
      "Mohit Ahlawat\n",
      "Vivek Oberoi\n",
      "Aftab Shivdasani\n",
      "Shilpa Shetty Kundra\n",
      "Kamal Adib\n",
      "Arshad Warsi\n",
      "Tusshar Kapoor\n",
      "Salman Khan\n",
      "Ajay Devgn\n",
      "Salman Khan\n",
      "Rajpal Yadav\n",
      "Anupam Kher\n",
      "Salman Khan\n",
      "Aamir Khan\n",
      "Dia Mirza\n",
      "Dev Anand\n",
      "Sanjay Suri\n",
      "Anil Kapoor\n",
      "Urmila Matondkar\n",
      "Uday Chopra\n",
      "Anil Kapoor\n",
      "Sunil Shetty\n",
      "Konkona Sen Sharma\n",
      "Shabana Azmi\n",
      "Saif Ali Khan\n",
      "Vinod Khanna\n",
      "Shah Rukh Khan\n",
      "Irrfan Khan\n",
      "Rishi Kapoor\n",
      "Saif Ali Khan\n",
      "Kashmira Shah\n",
      "Amitabh Bachchan\n",
      "Arshad Warsi\n",
      "Sanjay Dutt\n",
      "Ashutosh Rana\n",
      "Neha Dhupia\n",
      "Madhavan\n",
      "Tabu\n",
      "Abhay Deol\n",
      "Zulfi Sayed\n",
      "Ajay Devgn\n",
      "Nassar Abdulla\n",
      "Arjun Rampal\n",
      "Shahid Kapoor\n",
      "Aarti Chhabria\n",
      "Fardeen Khan\n",
      "Amitabh Bachchan\n",
      "Amitabh Bachchan\n",
      "Vikram Aditya\n",
      "Arjun Rampal\n",
      "Emraan Hashmi\n",
      "Shah Rukh Khan\n",
      "Shah Rukh Khan\n",
      "Ajay Devgn\n",
      "Salman Khan\n",
      "Abhishek Bachchan\n",
      "Amitabh Bachchan\n",
      "Saif Ali Khan\n",
      "Akshaye Khanna\n",
      "Mallika Sherawat\n",
      "Ajay Devgn\n",
      "Akshay Kumar\n",
      "Amitabh Bachchan\n",
      "Amitabh Bachchan\n",
      "Shatrughan Sinha\n",
      "Bobby Deol\n",
      "Kareena Kapoor\n",
      "Jimmy Sheirgill\n",
      "Arjun Rampal\n",
      "Jimmy Sheirgill\n",
      "Amitabh Bachchan\n",
      "Amitabh Bachchan\n",
      "Shahid Kapoor\n",
      "Salman Khan\n",
      "Jackie Shroff\n",
      "Naveen Bawa\n",
      "Vikaas Kalantari\n",
      "Tusshar Kapoor\n",
      "Kareena Kapoor\n",
      "Salman Khan\n",
      "Sunil Shetty\n",
      "Saif Ali Khan\n",
      "Isha Koppikar\n",
      "Akshay Kumar\n",
      "Aniket Vishwasrao\n",
      "Shawar Ali\n",
      "Tisca Chopra\n",
      "Neha Dhupia\n",
      "Raqesh Bapat\n",
      "Manoj Bajpayee\n",
      "Mallika Sherawat\n",
      "Dino Morea\n",
      "Sohail Khan\n",
      "Kiron Kher\n",
      "Bobby Deol\n",
      "Sunny Deol\n",
      "Sohail Khan\n",
      "Amitabh Bachchan\n",
      "Bipasha Basu\n",
      "Hrithik Roshan\n",
      "Dino Morea\n",
      "Irrfan Khan\n",
      "Aftab Shivdasani\n",
      "Tabu\n",
      "Anil Kapoor\n",
      "Prithviraj Kapoor\n",
      "Aftab Shivdasani\n",
      "Akshay Kumar\n",
      "Antara Mali\n",
      "Vinay Anand\n",
      "John Abraham\n",
      "Salman Khan\n",
      "Sanjay Dutt\n",
      "Akshay Kumar\n",
      "Manisha Koirala\n",
      "Akshay Kapoor\n",
      "Sanjay Dutt\n",
      "Ajay Devgn\n",
      "Sanjay Dutt\n",
      "Sanjay Suri\n",
      "Abhishek Bachchan\n",
      "Sunny Deol\n",
      "Aftab Shivdasani\n",
      "Shah Rukh Khan\n",
      "Vatsal Sheth\n",
      "Madhavan\n",
      "Tusshar Kapoor\n",
      "Emraan Hashmi\n",
      "Vicky Ahuja\n",
      "Shah Rukh Khan\n",
      "Tarun Arora\n",
      "Diwakar Pathak\n",
      "Arya Babbar\n",
      "Rekha\n",
      "Shah Rukh Khan\n",
      "Anupam Kher\n",
      "Shah Rukh Khan\n",
      "Sunny Deol\n",
      "Amitabh Bachchan\n",
      "Hrithik Roshan\n",
      "Sanjay Dutt\n",
      "Sanjay Dutt\n",
      "Sanjay Dutt\n",
      "Ajay Devgn\n",
      "Atul Kulkarni\n",
      "Naseeruddin Shah\n",
      "Arun Bakshi\n",
      "Priyanshu Chatterjee\n",
      "Ajay Devgn\n",
      "Amitabh Bachchan\n",
      "Sudesh Berry\n",
      "Akshay Kumar\n",
      "Akshay Kumar\n",
      "Amitabh Bachchan\n",
      "Ajay Devgn\n",
      "Anil Kapoor\n",
      "Jackie Shroff\n",
      "Sadashiv Amrapurkar\n",
      "Sooraj Balaji\n",
      "Arjun Rampal\n",
      "Sameera Reddy\n",
      "Om Puri\n",
      "Amar Upadhyaya\n",
      "Zayed Khan\n",
      "Nawazuddin Siddiqui\n",
      "Vivek Oberoi\n",
      "Kapil Jhaveri\n",
      "Nandita Das\n",
      "Aftab Shivdasani\n",
      "Manisha Koirala\n",
      "Rahul Bose\n",
      "Ajay Devgn\n",
      "Tabu\n",
      "Jimmy Sheirgill\n",
      "Sanjay Dutt\n",
      "Akshaye Khanna\n",
      "Vikram Dasu\n",
      "Reef Karim\n",
      "Jaz Pandher\n",
      "Rushali Arora\n",
      "Ashmit Patel\n",
      "Sunny Deol\n",
      "Shahid Kapoor\n",
      "Babbu Mann\n",
      "Javed Jaffrey\n",
      "Bipasha Basu\n",
      "Sanjay Suri\n",
      "Om Puri\n",
      "Juhi Babbar\n",
      "Sunny Deol\n",
      "Feroz Khan\n",
      "Amit Hingorani\n",
      "Fardeen Khan\n",
      "Himanshu Malik\n",
      "Tusshar Kapoor\n",
      "Aishwarya Rai Bachchan\n",
      "Antara Mali\n",
      "Victor Banerjee\n",
      "Manisha Koirala\n",
      "Attin Bhalla\n",
      "Riteish Deshmukh\n",
      "Rahul Bose\n",
      "Tulip Joshi\n",
      "Ajay Devgn\n",
      "Urmila Matondkar\n",
      "Abhishek Bachchan\n",
      "John Abraham\n",
      "Sushmita Sen\n",
      "Vikas Kalantri\n",
      "Raveena Tandon\n",
      "Tanishaa Mukerji\n",
      "Raveena Tandon\n",
      "Vijay Raaz\n",
      "Raveena Tandon\n",
      "Tanuja\n",
      "Ankit\n",
      "Sadashiv Amrapurkar\n",
      "Salman Khan\n",
      "Riteish Deshmukh\n",
      "Rakhee Gulzar\n",
      "Shabana Azmi\n",
      "Edwin Fernandes\n",
      "Tusshar Kapoor\n",
      "Sharman Joshi\n",
      "Dino Morea\n",
      "Ajay Devgn\n",
      "Arshad Warsi\n",
      "Shah Rukh Khan\n",
      "Amitabh Bachchan\n",
      "Shah Rukh Khan\n",
      "Amitabh Bachchan\n",
      "Vivek Oberoi\n",
      "Ajay Devgn\n",
      "Akshay Kumar\n",
      "Alia Bhatt\n"
     ]
    }
   ],
   "source": [
    "#looping\n",
    "\n",
    "for i in movies:\n",
    "    print(i)"
   ]
  },
  {
   "cell_type": "code",
   "execution_count": 82,
   "id": "2216b076",
   "metadata": {},
   "outputs": [
    {
     "data": {
      "text/plain": [
       "array([ True, False, False,  True])"
      ]
     },
     "execution_count": 82,
     "metadata": {},
     "output_type": "execute_result"
    }
   ],
   "source": [
    "#Arithmetic Operator\n",
    "\n",
    "marks_series.values < 100\n"
   ]
  },
  {
   "cell_type": "code",
   "execution_count": 83,
   "id": "8919dbe7",
   "metadata": {},
   "outputs": [
    {
     "data": {
      "text/plain": [
       "maths        10\n",
       "english     -80\n",
       "Kannada    -100\n",
       "sst          44\n",
       "Name: MY MARKS, dtype: int64"
      ]
     },
     "execution_count": 83,
     "metadata": {},
     "output_type": "execute_result"
    }
   ],
   "source": [
    "100 - marks_series"
   ]
  },
  {
   "cell_type": "code",
   "execution_count": 86,
   "id": "a8608520",
   "metadata": {},
   "outputs": [
    {
     "name": "stdout",
     "output_type": "stream",
     "text": [
      "Akshay Kumar        48\n",
      "Amitabh Bachchan    45\n",
      "Ajay Devgn          38\n",
      "Salman Khan         31\n",
      "Sanjay Dutt         26\n",
      "                    ..\n",
      "Diganth              1\n",
      "Parveen Kaur         1\n",
      "Seema Azmi           1\n",
      "Akanksha Puri        1\n",
      "Edwin Fernandes      1\n",
      "Name: lead, Length: 566, dtype: int64\n"
     ]
    }
   ],
   "source": [
    "#find actors who have done more than 20 movies\n",
    "\n",
    "num_movies= movies.value_counts()\n",
    "print(num_movies)"
   ]
  },
  {
   "cell_type": "code",
   "execution_count": 87,
   "id": "1e8a6c0f",
   "metadata": {},
   "outputs": [
    {
     "data": {
      "text/plain": [
       "Akshay Kumar        48\n",
       "Amitabh Bachchan    45\n",
       "Ajay Devgn          38\n",
       "Salman Khan         31\n",
       "Sanjay Dutt         26\n",
       "Shah Rukh Khan      22\n",
       "Emraan Hashmi       21\n",
       "Name: lead, dtype: int64"
      ]
     },
     "execution_count": 87,
     "metadata": {},
     "output_type": "execute_result"
    }
   ],
   "source": [
    "num_movies[num_movies>20]"
   ]
  },
  {
   "cell_type": "markdown",
   "id": "9b6f19e4",
   "metadata": {},
   "source": [
    "#### Plotting graphs on Series "
   ]
  },
  {
   "cell_type": "code",
   "execution_count": 88,
   "id": "dededb38",
   "metadata": {},
   "outputs": [
    {
     "data": {
      "text/plain": [
       "<Axes: >"
      ]
     },
     "execution_count": 88,
     "metadata": {},
     "output_type": "execute_result"
    },
    {
     "data": {
      "image/png": "[encoded data removed]",
      "text/plain": [
       "<Figure size 640x480 with 1 Axes>"
      ]
     },
     "metadata": {},
     "output_type": "display_data"
    }
   ],
   "source": [
    "subs.plot()"
   ]
  },
  {
   "cell_type": "code",
   "execution_count": 90,
   "id": "8e925fd1",
   "metadata": {},
   "outputs": [
    {
     "data": {
      "text/plain": [
       "<Axes: >"
      ]
     },
     "execution_count": 90,
     "metadata": {},
     "output_type": "execute_result"
    },
    {
     "data": {
      "image/png": "[encoded data removed]",
      "text/plain": [
       "<Figure size 640x480 with 1 Axes>"
      ]
     },
     "metadata": {},
     "output_type": "display_data"
    }
   ],
   "source": [
    "movies.value_counts().head(20).plot(kind='bar')"
   ]
  },
  {
   "cell_type": "code",
   "execution_count": null,
   "id": "942aa521",
   "metadata": {},
   "outputs": [],
   "source": []
  }
 ],
 "metadata": {
  "kernelspec": {
   "display_name": "Python 3 (ipykernel)",
   "language": "python",
   "name": "python3"
  },
  "language_info": {
   "codemirror_mode": {
    "name": "ipython",
    "version": 3
   },
   "file_extension": ".py",
   "mimetype": "text/x-python",
   "name": "python",
   "nbconvert_exporter": "python",
   "pygments_lexer": "ipython3",
   "version": "3.11.4"
  }
 },
 "nbformat": 4,
 "nbformat_minor": 5
}
