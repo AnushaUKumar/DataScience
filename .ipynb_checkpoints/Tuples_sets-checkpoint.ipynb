{
 "cells": [
  {
   "cell_type": "markdown",
   "id": "fc43ee64",
   "metadata": {},
   "source": [
    "# Tuple is similar to list but is immutable\n",
    "\n",
    "charcters:\n",
    "    \n",
    "    ordered\n",
    "    unchangeable\n",
    "    allows duplicates"
   ]
  },
  {
   "cell_type": "code",
   "execution_count": 1,
   "id": "202ee84f",
   "metadata": {},
   "outputs": [
    {
     "name": "stdout",
     "output_type": "stream",
     "text": [
      "()\n"
     ]
    }
   ],
   "source": [
    "#Creating tuples\n",
    "\n",
    "t1 = ()\n",
    "print(t1)"
   ]
  },
  {
   "cell_type": "code",
   "execution_count": 4,
   "id": "670a9880",
   "metadata": {},
   "outputs": [
    {
     "name": "stdout",
     "output_type": "stream",
     "text": [
      "2\n",
      "(2,)\n"
     ]
    }
   ],
   "source": [
    "#create tuple with a single item\n",
    "t2 = (2)\n",
    "\n",
    "print(t2)\n",
    "\n",
    "#this crreates a int and not a tuple while adding a single item tuple always add a commaa after the value instered\n",
    "\n",
    "t3=(2,)\n",
    "print(t3)"
   ]
  },
  {
   "cell_type": "code",
   "execution_count": 8,
   "id": "415b63ea",
   "metadata": {},
   "outputs": [
    {
     "name": "stdout",
     "output_type": "stream",
     "text": [
      "(1, 2, 3, 5)\n",
      "('1', '4', '5', '6')\n"
     ]
    }
   ],
   "source": [
    "t4 = (1,2,3,5)\n",
    "print(t4)\n",
    "\n",
    "t6 = tuple('1456')\n",
    "print(t6)"
   ]
  },
  {
   "cell_type": "code",
   "execution_count": 12,
   "id": "7c64d833",
   "metadata": {},
   "outputs": [
    {
     "name": "stdout",
     "output_type": "stream",
     "text": [
      "(1, 2, 3, 5)\n"
     ]
    }
   ],
   "source": [
    "#Accessing items\n",
    "\n",
    "#indexing \n",
    "#slicing\n",
    "\n",
    "print(t4)"
   ]
  },
  {
   "cell_type": "code",
   "execution_count": 14,
   "id": "89ebaa4e",
   "metadata": {},
   "outputs": [
    {
     "name": "stdout",
     "output_type": "stream",
     "text": [
      "1\n"
     ]
    }
   ],
   "source": [
    "print(t4[0])"
   ]
  },
  {
   "cell_type": "code",
   "execution_count": 15,
   "id": "e0c3efe8",
   "metadata": {},
   "outputs": [
    {
     "name": "stdout",
     "output_type": "stream",
     "text": [
      "(1, 2)\n"
     ]
    }
   ],
   "source": [
    "#slicing\n",
    "\n",
    "print(t4[0:2])"
   ]
  },
  {
   "cell_type": "code",
   "execution_count": 16,
   "id": "ea4ab29e",
   "metadata": {},
   "outputs": [],
   "source": [
    "#edit items"
   ]
  },
  {
   "cell_type": "code",
   "execution_count": 17,
   "id": "fcb8dabb",
   "metadata": {},
   "outputs": [
    {
     "name": "stdout",
     "output_type": "stream",
     "text": [
      "(1, 2, 3, 5)\n"
     ]
    }
   ],
   "source": [
    "print(t4)"
   ]
  },
  {
   "cell_type": "code",
   "execution_count": 18,
   "id": "63886172",
   "metadata": {},
   "outputs": [
    {
     "ename": "TypeError",
     "evalue": "'tuple' object does not support item assignment",
     "output_type": "error",
     "traceback": [
      "\u001b[1;31m---------------------------------------------------------------------------\u001b[0m",
      "\u001b[1;31mTypeError\u001b[0m                                 Traceback (most recent call last)",
      "Cell \u001b[1;32mIn[18], line 1\u001b[0m\n\u001b[1;32m----> 1\u001b[0m t3[\u001b[38;5;241m0\u001b[39m] \u001b[38;5;241m=\u001b[39m \u001b[38;5;241m1000\u001b[39m\n",
      "\u001b[1;31mTypeError\u001b[0m: 'tuple' object does not support item assignment"
     ]
    }
   ],
   "source": [
    "t3[0] = 1000\n",
    "#error because tuples are immutable just like strings \n"
   ]
  },
  {
   "cell_type": "code",
   "execution_count": 20,
   "id": "8df3d792",
   "metadata": {},
   "outputs": [],
   "source": [
    "#adding items\n",
    "\n",
    "#cannot add items to tuple"
   ]
  },
  {
   "cell_type": "code",
   "execution_count": 21,
   "id": "ca95079e",
   "metadata": {},
   "outputs": [],
   "source": [
    "#deleting tuple\n",
    "#can delete the entire tuple but cannot del one single item \n"
   ]
  },
  {
   "cell_type": "code",
   "execution_count": 24,
   "id": "478a4271",
   "metadata": {},
   "outputs": [],
   "source": [
    "#operations and fucntions on tuples\n",
    "\n",
    "t1 = (1,2,3,4)\n",
    "t2 = (5,6,7,8)"
   ]
  },
  {
   "cell_type": "code",
   "execution_count": 25,
   "id": "f4d12125",
   "metadata": {},
   "outputs": [
    {
     "name": "stdout",
     "output_type": "stream",
     "text": [
      "(1, 2, 3, 4, 5, 6, 7, 8)\n"
     ]
    }
   ],
   "source": [
    "print(t1 + t2)"
   ]
  },
  {
   "cell_type": "code",
   "execution_count": 26,
   "id": "7cee6a34",
   "metadata": {},
   "outputs": [],
   "source": [
    "#tuple function"
   ]
  },
  {
   "cell_type": "code",
   "execution_count": 27,
   "id": "00c85f82",
   "metadata": {},
   "outputs": [
    {
     "data": {
      "text/plain": [
       "4"
      ]
     },
     "execution_count": 27,
     "metadata": {},
     "output_type": "execute_result"
    }
   ],
   "source": [
    "t = (1,2,3,4)\n",
    "len(t)"
   ]
  },
  {
   "cell_type": "code",
   "execution_count": null,
   "id": "38a99675",
   "metadata": {},
   "outputs": [],
   "source": []
  },
  {
   "cell_type": "code",
   "execution_count": null,
   "id": "fc3af94e",
   "metadata": {},
   "outputs": [],
   "source": []
  }
 ],
 "metadata": {
  "kernelspec": {
   "display_name": "Python 3 (ipykernel)",
   "language": "python",
   "name": "python3"
  },
  "language_info": {
   "codemirror_mode": {
    "name": "ipython",
    "version": 3
   },
   "file_extension": ".py",
   "mimetype": "text/x-python",
   "name": "python",
   "nbconvert_exporter": "python",
   "pygments_lexer": "ipython3",
   "version": "3.11.4"
  }
 },
 "nbformat": 4,
 "nbformat_minor": 5
}
