{
 "cells": [
  {
   "cell_type": "code",
   "execution_count": 5,
   "id": "92f33953",
   "metadata": {},
   "outputs": [
    {
     "data": {
      "text/plain": [
       "'odd'"
      ]
     },
     "execution_count": 5,
     "metadata": {},
     "output_type": "execute_result"
    }
   ],
   "source": [
    "#function with docstring \"\"\"\"\"\"\n",
    "#philosphy of function is abstraction(ex: ghost seen in shadows but is not seen in a oicture \n",
    "#and Decomposition)\n",
    "\n",
    "\n",
    "def is_even(num):\n",
    "    \"\"\"\n",
    "    this function returns if a given number is odd or even\n",
    "    \"\"\"\n",
    "    if num %2 ==0 : \n",
    "        return 'even'\n",
    "    else:\n",
    "        return 'odd'\n",
    "    \n",
    "\n",
    "is_even(7)\n"
   ]
  },
  {
   "cell_type": "code",
   "execution_count": 7,
   "id": "e0b361f3",
   "metadata": {},
   "outputs": [],
   "source": [
    "#Parameters vs Arguements\n",
    "\n",
    "# types of arguements \n",
    "# 1.Default arguements\n",
    "# 2.Positional arguements\n",
    "# 3.Keyword arguements \n",
    "\n",
    "def power(a,b):\n",
    "    return a**b\n"
   ]
  },
  {
   "cell_type": "code",
   "execution_count": 9,
   "id": "c53595e8",
   "metadata": {},
   "outputs": [
    {
     "data": {
      "text/plain": [
       "8"
      ]
     },
     "execution_count": 9,
     "metadata": {},
     "output_type": "execute_result"
    }
   ],
   "source": [
    "power(2,3)"
   ]
  },
  {
   "cell_type": "code",
   "execution_count": 10,
   "id": "114b8ad9",
   "metadata": {},
   "outputs": [
    {
     "data": {
      "text/plain": [
       "1"
      ]
     },
     "execution_count": 10,
     "metadata": {},
     "output_type": "execute_result"
    }
   ],
   "source": [
    "def power(a=1 , b=1):\n",
    "    return a**b\n",
    "power()"
   ]
  },
  {
   "cell_type": "code",
   "execution_count": 11,
   "id": "756c9e03",
   "metadata": {},
   "outputs": [],
   "source": [
    "#keyword arguement has more importance than positional arguements"
   ]
  },
  {
   "cell_type": "code",
   "execution_count": 13,
   "id": "0088455a",
   "metadata": {},
   "outputs": [],
   "source": [
    "#*args and **kwargs - used to pass var length of arg to func"
   ]
  },
  {
   "cell_type": "raw",
   "id": "ab84cedb",
   "metadata": {},
   "source": []
  },
  {
   "cell_type": "code",
   "execution_count": null,
   "id": "b6277c41",
   "metadata": {},
   "outputs": [],
   "source": []
  }
 ],
 "metadata": {
  "kernelspec": {
   "display_name": "Python 3 (ipykernel)",
   "language": "python",
   "name": "python3"
  },
  "language_info": {
   "codemirror_mode": {
    "name": "ipython",
    "version": 3
   },
   "file_extension": ".py",
   "mimetype": "text/x-python",
   "name": "python",
   "nbconvert_exporter": "python",
   "pygments_lexer": "ipython3",
   "version": "3.11.4"
  }
 },
 "nbformat": 4,
 "nbformat_minor": 5
}
