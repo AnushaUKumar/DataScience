{
 "cells": [
  {
   "cell_type": "code",
   "execution_count": 1,
   "id": "fd57a894",
   "metadata": {},
   "outputs": [],
   "source": [
    "#most used obejcts of pandas are -  dataframe and series"
   ]
  },
  {
   "cell_type": "code",
   "execution_count": 3,
   "id": "7b029929",
   "metadata": {},
   "outputs": [],
   "source": [
    "#SERIES -  like a column in a table which holds a 1D data of any type "
   ]
  },
  {
   "cell_type": "code",
   "execution_count": 5,
   "id": "f1965926",
   "metadata": {},
   "outputs": [],
   "source": [
    "import numpy as np\n",
    "import pandas as pd"
   ]
  },
  {
   "cell_type": "raw",
   "id": "f3ee5e4f",
   "metadata": {},
   "source": []
  }
 ],
 "metadata": {
  "kernelspec": {
   "display_name": "Python 3 (ipykernel)",
   "language": "python",
   "name": "python3"
  },
  "language_info": {
   "codemirror_mode": {
    "name": "ipython",
    "version": 3
   },
   "file_extension": ".py",
   "mimetype": "text/x-python",
   "name": "python",
   "nbconvert_exporter": "python",
   "pygments_lexer": "ipython3",
   "version": "3.11.4"
  }
 },
 "nbformat": 4,
 "nbformat_minor": 5
}
